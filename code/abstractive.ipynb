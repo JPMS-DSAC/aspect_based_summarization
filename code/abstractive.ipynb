{
 "cells": [
  {
   "cell_type": "code",
   "execution_count": 65,
   "metadata": {},
   "outputs": [],
   "source": [
    "from transformers import BartTokenizer, PegasusTokenizer\n",
    "from transformers import BartForConditionalGeneration, PegasusForConditionalGeneration\n",
    "import os\n",
    "import numpy as np\n",
    "import pandas as pd\n",
    "import re\n",
    "from tqdm import tqdm\n",
    "from gensim.test.utils import common_corpus, common_dictionary\n",
    "from gensim.models.coherencemodel import CoherenceModel\n",
    "import gensim.corpora as corpora\n",
    "from nltk.tokenize import word_tokenize\n",
    "from rouge_score import rouge_scorer"
   ]
  },
  {
   "cell_type": "code",
   "execution_count": 181,
   "metadata": {},
   "outputs": [
    {
     "name": "stderr",
     "output_type": "stream",
     "text": [
      "Downloading:  10%|▉         | 97.1M/971M [8:29:54<76:29:59, 3.33kB/s]\n"
     ]
    }
   ],
   "source": [
    "IS_CNNDM = True\n",
    "\n",
    "max_length = 1024 if IS_CNNDM else 512\n",
    "\n",
    "if IS_CNNDM:\n",
    "    model = BartForConditionalGeneration.from_pretrained('Yale-LILY/brio-cnndm-uncased')\n",
    "    tokenizer = BartTokenizer.from_pretrained('Yale-LILY/brio-cnndm-uncased')\n",
    "else:\n",
    "    model = PegasusForConditionalGeneration.from_pretrained('Yale-LILY/brio-xsum-cased')\n",
    "    tokenizer = PegasusTokenizer.from_pretrained('Yale-LILY/brio-xsum-cased')"
   ]
  },
  {
   "cell_type": "code",
   "execution_count": 171,
   "metadata": {},
   "outputs": [
    {
     "name": "stderr",
     "output_type": "stream",
     "text": [
      "\n",
      "\n",
      "\u001b[A\u001b[A\n",
      "\n",
      "\u001b[A\u001b[A\n",
      "\n",
      "\u001b[A\u001b[A\n",
      "\n",
      "\u001b[A\u001b[A\n",
      "\n",
      "\u001b[A\u001b[A\n",
      "\n",
      "\u001b[A\u001b[A\n",
      "\n",
      "\u001b[A\u001b[A\n",
      "\n",
      "\u001b[A\u001b[A\n",
      "\n",
      "\u001b[A\u001b[A\n",
      "\n",
      "\u001b[A\u001b[A\n",
      "\n",
      "\u001b[A\u001b[A\n",
      "\n",
      "\u001b[A\u001b[A\n",
      "\n",
      "\u001b[A\u001b[A\n",
      "\n",
      "\u001b[A\u001b[A\n",
      "\n",
      "\u001b[A\u001b[A\n",
      "\n",
      "\u001b[A\u001b[A\n",
      "\n",
      "\u001b[A\u001b[A\n",
      "\n",
      "\u001b[A\u001b[A\n",
      "\n",
      "\u001b[A\u001b[A\n",
      "\n",
      "\u001b[A\u001b[A\n",
      "\n",
      "\u001b[A\u001b[A\n",
      "\n",
      "\u001b[A\u001b[A\n",
      "\n",
      "\u001b[A\u001b[A\n",
      "\n",
      "\u001b[A\u001b[A\n",
      "\n",
      "\u001b[A\u001b[A\n",
      "\n",
      "\u001b[A\u001b[A\n",
      "\n",
      "\u001b[A\u001b[A\n",
      "\n",
      "\u001b[A\u001b[A\n",
      "\n",
      "\u001b[A\u001b[A\n",
      "\n",
      "\u001b[A\u001b[A\n",
      "\n",
      "\u001b[A\u001b[A\n",
      "\n",
      "\u001b[A\u001b[A\n",
      "\n",
      "\u001b[A\u001b[A\n",
      "\n",
      "\u001b[A\u001b[A\n",
      "\n",
      "\u001b[A\u001b[A\n",
      "\n",
      "\u001b[A\u001b[A\n",
      "\n",
      "\u001b[A\u001b[A\n",
      "\n",
      "\u001b[A\u001b[A\n",
      "\n",
      "\u001b[A\u001b[A\n",
      "\n",
      "\u001b[A\u001b[A\n",
      "\n",
      "\u001b[A\u001b[A\n",
      "\u001b[A\n",
      "\n",
      "\u001b[A\u001b[A\n",
      "\n",
      "\u001b[A\u001b[A\n",
      "\n",
      "\u001b[A\u001b[A\n",
      "\n",
      "\u001b[A\u001b[A\n",
      "\n",
      "\u001b[A\u001b[A\n",
      "\n",
      "\u001b[A\u001b[A\n",
      "\n",
      "\u001b[A\u001b[A\n",
      "\n",
      "\u001b[A\u001b[A\n",
      "\n",
      "\u001b[A\u001b[A\n",
      "\n",
      "\u001b[A\u001b[A\n",
      "\n",
      "\u001b[A\u001b[A\n",
      "\n",
      "\u001b[A\u001b[A\n",
      "\n",
      "\u001b[A\u001b[A\n",
      "\n",
      "\u001b[A\u001b[A\n",
      "\n",
      "\u001b[A\u001b[A\n",
      "\n",
      "\u001b[A\u001b[A\n",
      "\n",
      "\u001b[A\u001b[A\n",
      "\n",
      "\u001b[A\u001b[A\n",
      "\n",
      "\u001b[A\u001b[A\n",
      "\n",
      "\u001b[A\u001b[A\n",
      "\n",
      "\u001b[A\u001b[A\n",
      "\n",
      "\u001b[A\u001b[A\n",
      "\n",
      "\u001b[A\u001b[A\n",
      "\n",
      "\u001b[A\u001b[A\n",
      "\n",
      "\u001b[A\u001b[A\n",
      "\n",
      "\u001b[A\u001b[A\n",
      "\n",
      "\u001b[A\u001b[A\n",
      "\n",
      "\u001b[A\u001b[A\n",
      "\n",
      "\u001b[A\u001b[A\n",
      "\n",
      "\u001b[A\u001b[A\n",
      "\n",
      "\u001b[A\u001b[A\n",
      "\n",
      "\u001b[A\u001b[A\n",
      "\n",
      "\u001b[A\u001b[A\n",
      "\n",
      "\u001b[A\u001b[A\n",
      "\n",
      "\u001b[A\u001b[A\n",
      "\n",
      "\u001b[A\u001b[A\n",
      "\n",
      "\u001b[A\u001b[A\n",
      "\n",
      "\u001b[A\u001b[A\n",
      "\n",
      "\u001b[A\u001b[A\n",
      "\n",
      "\u001b[A\u001b[A\n",
      "\n",
      "\u001b[A\u001b[A\n",
      "\n",
      "\u001b[A\u001b[A\n",
      "\n",
      "\u001b[A\u001b[A\n",
      "\n",
      "\u001b[A\u001b[A\n",
      "\n",
      "\u001b[A\u001b[A\n",
      "\n",
      "\u001b[A\u001b[A\n",
      "\n",
      "\u001b[A\u001b[A\n",
      "\n",
      "\u001b[A\u001b[A\n",
      "\n",
      "\u001b[A\u001b[A\n",
      "\n",
      "\u001b[A\u001b[A\n",
      "\n",
      "\u001b[A\u001b[A\n",
      "\n",
      "\u001b[A\u001b[A\n",
      "\n",
      "\u001b[A\u001b[A\n",
      "\n",
      "\u001b[A\u001b[A\n",
      "\n",
      "\u001b[A\u001b[A\n",
      "\n",
      "\u001b[A\u001b[A\n",
      "\n",
      "\u001b[A\u001b[A\n",
      "\n",
      "\u001b[A\u001b[A\n",
      "\n",
      "\u001b[A\u001b[A\n",
      "\n",
      "\u001b[A\u001b[A\n",
      "\n",
      "\u001b[A\u001b[A\n",
      "\n",
      "\u001b[A\u001b[A\n",
      "\n",
      "\u001b[A\u001b[A\n",
      "\n",
      "\u001b[A\u001b[A\n",
      "\n",
      "\u001b[A\u001b[A\n",
      "\n",
      "\u001b[A\u001b[A\n",
      "\n",
      "\u001b[A\u001b[A\n",
      "\n",
      "\u001b[A\u001b[A\n",
      "\n",
      "\u001b[A\u001b[A\n",
      "\n",
      "\u001b[A\u001b[A\n",
      "\n",
      "\u001b[A\u001b[A\n",
      "\n",
      "\u001b[A\u001b[A\n",
      "\n",
      "\u001b[A\u001b[A\n",
      "\n",
      "\u001b[A\u001b[A\n",
      "\n",
      "\u001b[A\u001b[A\n",
      "\n",
      "\u001b[A\u001b[A\n",
      "\n",
      "\u001b[A\u001b[A\n",
      "\n",
      "\u001b[A\u001b[A\n",
      "\n",
      "\u001b[A\u001b[A\n",
      "\n",
      "\u001b[A\u001b[A\n",
      "\n",
      "\u001b[A\u001b[A\n",
      "\n",
      "\u001b[A\u001b[A\n",
      "\n",
      "\u001b[A\u001b[A\n",
      "\n",
      "\u001b[A\u001b[A\n",
      "\n",
      "\u001b[A\u001b[A\n",
      "\n",
      "\u001b[A\u001b[A\n",
      "\n",
      "\u001b[A\u001b[A\n",
      "\n",
      "\u001b[A\u001b[A\n",
      "\n",
      "\u001b[A\u001b[A\n",
      "\n",
      "\u001b[A\u001b[A\n",
      "\n",
      "\u001b[A\u001b[A\n",
      "\n",
      "\u001b[A\u001b[A\n",
      "\n",
      "\u001b[A\u001b[A\n",
      "\n",
      "\u001b[A\u001b[A\n",
      "\n",
      "\u001b[A\u001b[A\n",
      "\n",
      "\u001b[A\u001b[A\n",
      "\n",
      "\u001b[A\u001b[A\n",
      "\n",
      "\u001b[A\u001b[A\n",
      "\n",
      "\u001b[A\u001b[A\n",
      "\n",
      "\u001b[A\u001b[A\n",
      "\n",
      "\u001b[A\u001b[A\n",
      "\n",
      "\u001b[A\u001b[A\n",
      "\n",
      "\u001b[A\u001b[A\n",
      "\n",
      "\u001b[A\u001b[A\n",
      "\n",
      "\u001b[A\u001b[A\n",
      "\n",
      "\u001b[A\u001b[A\n",
      "\n",
      "\u001b[A\u001b[A\n",
      "\n",
      "\u001b[A\u001b[A\n",
      "\n",
      "\u001b[A\u001b[A\n",
      "\n",
      "\u001b[A\u001b[A\n",
      "\n",
      "\u001b[A\u001b[A\n",
      "\n",
      "\u001b[A\u001b[A\n",
      "\n",
      "\u001b[A\u001b[A\n",
      "\n",
      "\u001b[A\u001b[A\n",
      "\n",
      "\u001b[A\u001b[A\n",
      "\n",
      "\u001b[A\u001b[A\n",
      "\n",
      "\u001b[A\u001b[A\n",
      "\n",
      "\u001b[A\u001b[A\n",
      "\n",
      "\u001b[A\u001b[A\n",
      "\n",
      "\u001b[A\u001b[A\n",
      "\n",
      "\u001b[A\u001b[A\n",
      "\n",
      "\u001b[A\u001b[A\n",
      "\n",
      "\u001b[A\u001b[A\n",
      "\n",
      "\u001b[A\u001b[A\n",
      "\n",
      "\u001b[A\u001b[A\n",
      "\n",
      "\u001b[A\u001b[A\n",
      "\n",
      "\u001b[A\u001b[A\n",
      "\n",
      "\u001b[A\u001b[A\n",
      "\n",
      "\u001b[A\u001b[A\n",
      "\n",
      "\u001b[A\u001b[A\n",
      "\n",
      "\u001b[A\u001b[A\n",
      "\n",
      "\u001b[A\u001b[A\n",
      "\n",
      "\u001b[A\u001b[A\n",
      "\n",
      "\u001b[A\u001b[A\n",
      "\n",
      "\u001b[A\u001b[A\n",
      "\n",
      "\u001b[A\u001b[A\n",
      "\n",
      "\u001b[A\u001b[A\n",
      "\n",
      "\u001b[A\u001b[A\n",
      "\n",
      "\u001b[A\u001b[A\n",
      "\n",
      "\u001b[A\u001b[A\n",
      "\n",
      "\u001b[A\u001b[A\n",
      "\n",
      "\u001b[A\u001b[A\n",
      "\n",
      "\u001b[A\u001b[A\n",
      "\n",
      "\u001b[A\u001b[A\n",
      "\n",
      "\u001b[A\u001b[A\n",
      "\n",
      "\u001b[A\u001b[A\n",
      "\n",
      "\u001b[A\u001b[A\n",
      "\n",
      "\u001b[A\u001b[A\n",
      "\n",
      "\u001b[A\u001b[A\n",
      "\n",
      "\u001b[A\u001b[A\n",
      "\n",
      "\u001b[A\u001b[A\n",
      "\n",
      "\u001b[A\u001b[A\n",
      "\n",
      "\u001b[A\u001b[A\n",
      "\n",
      "\u001b[A\u001b[A\n",
      "\n",
      "\u001b[A\u001b[A\n",
      "\n",
      "\u001b[A\u001b[A\n",
      "\n",
      "\u001b[A\u001b[A\n",
      "\n",
      "\u001b[A\u001b[A\n",
      "\n",
      "\u001b[A\u001b[A\n",
      "\n",
      "\u001b[A\u001b[A\n",
      "\n",
      "\u001b[A\u001b[A\n",
      "\n",
      "\u001b[A\u001b[A\n",
      "\n",
      "\u001b[A\u001b[A\n",
      "\n",
      "\u001b[A\u001b[A\n",
      "\n",
      "\u001b[A\u001b[A\n",
      "\n",
      "\u001b[A\u001b[A\n",
      "\n",
      "\u001b[A\u001b[A\n",
      "\n",
      "\u001b[A\u001b[A\n",
      "\n",
      "\u001b[A\u001b[A\n",
      "\n",
      "\u001b[A\u001b[A\n",
      "\n",
      "\u001b[A\u001b[A\n",
      "\n",
      "\u001b[A\u001b[A\n",
      "\n",
      "\u001b[A\u001b[A\n",
      "\n",
      "\u001b[A\u001b[A\n",
      "\n",
      "\u001b[A\u001b[A\n",
      "\n",
      "\u001b[A\u001b[A\n",
      "\n",
      "\u001b[A\u001b[A\n",
      "\n",
      "\u001b[A\u001b[A\n",
      "\n",
      "\u001b[A\u001b[A\n",
      "\n",
      "\u001b[A\u001b[A\n",
      "\n",
      "\u001b[A\u001b[A\n",
      "\n",
      "\u001b[A\u001b[A\n",
      "\n",
      "\u001b[A\u001b[A\n",
      "\n",
      "\u001b[A\u001b[A\n",
      "\n",
      "\u001b[A\u001b[A\n",
      "\n",
      "\u001b[A\u001b[A\n",
      "\n",
      "\u001b[A\u001b[A\n",
      "\n",
      "\u001b[A\u001b[A\n",
      "\n",
      "\u001b[A\u001b[A\n",
      "\n",
      "\u001b[A\u001b[A\n",
      "\n",
      "\u001b[A\u001b[A\n",
      "\n",
      "\u001b[A\u001b[A\n",
      "\n",
      "\u001b[A\u001b[A\n",
      "\n",
      "\u001b[A\u001b[A\n",
      "\n",
      "\u001b[A\u001b[A\n",
      "\n",
      "\u001b[A\u001b[A\n",
      "\n",
      "\u001b[A\u001b[A\n",
      "\n",
      "\u001b[A\u001b[A\n",
      "\n",
      "\u001b[A\u001b[A\n",
      "\n",
      "\u001b[A\u001b[A\n",
      "\n",
      "\u001b[A\u001b[A\n",
      "\n",
      "\u001b[A\u001b[A\n",
      "\n",
      "\u001b[A\u001b[A\n",
      "\n",
      "\u001b[A\u001b[A\n",
      "\n",
      "\u001b[A\u001b[A\n",
      "\n",
      "\u001b[A\u001b[A\n",
      "\n",
      "\u001b[A\u001b[A\n",
      "\n",
      "\u001b[A\u001b[A\n",
      "\n",
      "\u001b[A\u001b[A\n",
      "\n",
      "\u001b[A\u001b[A\n",
      "\n",
      "\u001b[A\u001b[A\n",
      "\n",
      "\u001b[A\u001b[A\n",
      "\n",
      "\u001b[A\u001b[A\n",
      "\n",
      "\u001b[A\u001b[A\n",
      "\n",
      "\u001b[A\u001b[A\n",
      "\n",
      "\u001b[A\u001b[A\n",
      "\n",
      "\u001b[A\u001b[A\n",
      "\n",
      "\u001b[A\u001b[A\n",
      "\n",
      "\u001b[A\u001b[A\n",
      "\n",
      "\u001b[A\u001b[A\n",
      "\n",
      "\u001b[A\u001b[A\n",
      "\n",
      "\u001b[A\u001b[A\n",
      "\n",
      "\u001b[A\u001b[A\n",
      "\n",
      "\u001b[A\u001b[A\n",
      "\n",
      "\u001b[A\u001b[A\n",
      "\n",
      "\u001b[A\u001b[A\n",
      "\n",
      "\u001b[A\u001b[A\n",
      "\n",
      "\u001b[A\u001b[A\n",
      "\n",
      "\u001b[A\u001b[A\n",
      "\n",
      "\u001b[A\u001b[A\n",
      "\n",
      "\u001b[A\u001b[A\n",
      "\n",
      "\u001b[A\u001b[A\n",
      "\n",
      "\u001b[A\u001b[A\n",
      "\n",
      "\u001b[A\u001b[A\n",
      "\n",
      "\u001b[A\u001b[A\n",
      "\n",
      "\u001b[A\u001b[A\n",
      "\n",
      "\u001b[A\u001b[A\n",
      "\n",
      "\u001b[A\u001b[A\n",
      "\n",
      "\u001b[A\u001b[A\n",
      "\n",
      "\u001b[A\u001b[A\n",
      "\n",
      "\u001b[A\u001b[A\n",
      "\n",
      "\u001b[A\u001b[A\n",
      "\n",
      "\u001b[A\u001b[A\n",
      "\n",
      "\u001b[A\u001b[A\n",
      "\n",
      "\u001b[A\u001b[A\n",
      "\n",
      "\u001b[A\u001b[A\n",
      "\n",
      "\u001b[A\u001b[A\n",
      "\n",
      "\u001b[A\u001b[A\n",
      "\n",
      "\u001b[A\u001b[A\n",
      "\n",
      "\u001b[A\u001b[A\n",
      "\n",
      "\u001b[A\u001b[A\n",
      "\n",
      "\u001b[A\u001b[A\n",
      "\n",
      "\u001b[A\u001b[A\n",
      "\n",
      "\u001b[A\u001b[A\n",
      "\n",
      "\u001b[A\u001b[A\n",
      "\n",
      "\u001b[A\u001b[A\n",
      "\n",
      "\u001b[A\u001b[A\n",
      "\n",
      "\u001b[A\u001b[A\n",
      "\n",
      "\u001b[A\u001b[A\n",
      "\n",
      "\u001b[A\u001b[A\n",
      "\n",
      "\u001b[A\u001b[A\n",
      "\n",
      "\u001b[A\u001b[A\n",
      "\n",
      "\u001b[A\u001b[A\n",
      "\n",
      "\u001b[A\u001b[A\n",
      "\n",
      "\u001b[A\u001b[A\n",
      "\n",
      "\u001b[A\u001b[A\n",
      "\n",
      "\u001b[A\u001b[A\n",
      "\n",
      "\u001b[A\u001b[A\n",
      "\n",
      "\u001b[A\u001b[A\n",
      "\n",
      "\u001b[A\u001b[A\n",
      "\n",
      "\u001b[A\u001b[A\n",
      "\n",
      "\u001b[A\u001b[A\n",
      "\n",
      "\u001b[A\u001b[A\n",
      "\n",
      "\u001b[A\u001b[A\n",
      "\n",
      "\u001b[A\u001b[A\n",
      "\n",
      "\u001b[A\u001b[A\n",
      "\n",
      "\u001b[A\u001b[A\n",
      "\n",
      "\u001b[A\u001b[A\n",
      "\n",
      "\u001b[A\u001b[A\n",
      "\n",
      "\u001b[A\u001b[A\n",
      "\n",
      "\u001b[A\u001b[A\n",
      "\n",
      "\u001b[A\u001b[A\n",
      "\n",
      "\u001b[A\u001b[A\n",
      "\n",
      "\u001b[A\u001b[A\n",
      "\n",
      "\u001b[A\u001b[A\n",
      "\n",
      "\u001b[A\u001b[A\n",
      "\n",
      "\u001b[A\u001b[A\n",
      "\n",
      "\u001b[A\u001b[A\n",
      "\n",
      "\u001b[A\u001b[A\n",
      "\n",
      "\u001b[A\u001b[A\n",
      "\n",
      "\u001b[A\u001b[A\n",
      "\n",
      "\u001b[A\u001b[A\n",
      "\n",
      "\u001b[A\u001b[A\n",
      "\n",
      "\u001b[A\u001b[A\n",
      "\n",
      "\u001b[A\u001b[A\n",
      "\n",
      "\u001b[A\u001b[A\n",
      "\n",
      "\u001b[A\u001b[A\n",
      "\n",
      "\u001b[A\u001b[A\n",
      "\n",
      "\u001b[A\u001b[A\n",
      "\n",
      "\u001b[A\u001b[A\n",
      "\n",
      "\u001b[A\u001b[A\n",
      "\n",
      "\u001b[A\u001b[A\n",
      "\n",
      "\u001b[A\u001b[A\n",
      "\n",
      "\u001b[A\u001b[A\n",
      "\n",
      "\u001b[A\u001b[A\n",
      "\n",
      "\u001b[A\u001b[A\n",
      "\n",
      "\u001b[A\u001b[A\n",
      "\n",
      "\u001b[A\u001b[A\n",
      "\n",
      "\u001b[A\u001b[A\n",
      "\n",
      "\u001b[A\u001b[A\n",
      "\n",
      "\u001b[A\u001b[A\n",
      "\n",
      "\u001b[A\u001b[A\n",
      "\n",
      "\u001b[A\u001b[A\n",
      "\n",
      "\u001b[A\u001b[A\n",
      "\n",
      "\u001b[A\u001b[A\n",
      "\n",
      "\u001b[A\u001b[A\n",
      "\n",
      "\u001b[A\u001b[A\n",
      "\n",
      "\u001b[A\u001b[A\n",
      "\n",
      "\u001b[A\u001b[A\n",
      "\n",
      "\u001b[A\u001b[A\n",
      "\n",
      "\u001b[A\u001b[A\n",
      "\n",
      "\u001b[A\u001b[A\n",
      "\n",
      "\u001b[A\u001b[A\n",
      "\n",
      "\u001b[A\u001b[A\n",
      "\n",
      "\u001b[A\u001b[A\n",
      "\n",
      "\u001b[A\u001b[A\n",
      "\n",
      "\u001b[A\u001b[A\n",
      "\n",
      "\u001b[A\u001b[A\n",
      "\n",
      "\u001b[A\u001b[A\n",
      "\n",
      "\u001b[A\u001b[A\n",
      "\n",
      "\u001b[A\u001b[A\n",
      "\n",
      "\u001b[A\u001b[A\n",
      "\n",
      "\u001b[A\u001b[A\n",
      "\n",
      "\u001b[A\u001b[A\n",
      "\n",
      "\u001b[A\u001b[A\n",
      "\n",
      "\u001b[A\u001b[A\n",
      "\n",
      "\u001b[A\u001b[A\n",
      "\n",
      "\u001b[A\u001b[A\n",
      "\n",
      "\u001b[A\u001b[A\n",
      "\n",
      "\u001b[A\u001b[A\n",
      "\n",
      "\u001b[A\u001b[A\n",
      "\n",
      "\u001b[A\u001b[A\n",
      "\n",
      "\u001b[A\u001b[A\n",
      "\n",
      "\u001b[A\u001b[A\n",
      "\n",
      "\u001b[A\u001b[A\n",
      "\n",
      "\u001b[A\u001b[A\n",
      "\n",
      "\u001b[A\u001b[A\n",
      "\n",
      "\u001b[A\u001b[A\n",
      "\n",
      "\u001b[A\u001b[A\n",
      "\n",
      "\u001b[A\u001b[A\n",
      "\n",
      "\u001b[A\u001b[A\n",
      "\n",
      "\u001b[A\u001b[A\n",
      "\n",
      "\u001b[A\u001b[A\n",
      "\n",
      "\u001b[A\u001b[A\n",
      "\n",
      "\u001b[A\u001b[A\n",
      "\n",
      "\u001b[A\u001b[A\n",
      "\n",
      "\u001b[A\u001b[A\n",
      "\n",
      "\u001b[A\u001b[A\n",
      "\n",
      "\u001b[A\u001b[A\n",
      "\n",
      "\u001b[A\u001b[A\n",
      "\n",
      "\u001b[A\u001b[A\n",
      "\n",
      "\u001b[A\u001b[A\n",
      "\n",
      "\u001b[A\u001b[A\n",
      "\n",
      "\u001b[A\u001b[A\n",
      "\n",
      "\u001b[A\u001b[A\n",
      "\n",
      "\u001b[A\u001b[A\n",
      "\n",
      "\u001b[A\u001b[A\n",
      "\n",
      "\u001b[A\u001b[A\n",
      "\n",
      "\u001b[A\u001b[A\n",
      "\n",
      "\u001b[A\u001b[A\n",
      "\n",
      "\u001b[A\u001b[A\n",
      "\n",
      "\u001b[A\u001b[A\n",
      "\n",
      "\u001b[A\u001b[A\n",
      "\n",
      "\u001b[A\u001b[A\n",
      "\n",
      "\u001b[A\u001b[A\n",
      "\n",
      "\u001b[A\u001b[A\n",
      "\n",
      "\u001b[A\u001b[A\n",
      "\n",
      "\u001b[A\u001b[A\n",
      "\n",
      "\u001b[A\u001b[A\n",
      "\n",
      "\u001b[A\u001b[A\n",
      "\n",
      "\u001b[A\u001b[A\n",
      "\n",
      "\u001b[A\u001b[A\n",
      "\n",
      "\u001b[A\u001b[A\n",
      "\n",
      "\u001b[A\u001b[A\n",
      "\n",
      "\u001b[A\u001b[A\n",
      "\n",
      "\u001b[A\u001b[A\n",
      "\n",
      "\u001b[A\u001b[A\n",
      "\n",
      "\u001b[A\u001b[A\n",
      "\n",
      "\u001b[A\u001b[A\n",
      "\n",
      "\u001b[A\u001b[A\n",
      "\n",
      "\u001b[A\u001b[A\n",
      "\n",
      "\u001b[A\u001b[A\n",
      "\n",
      "\u001b[A\u001b[A\n",
      "\n",
      "\u001b[A\u001b[A\n",
      "\n",
      "\u001b[A\u001b[A\n",
      "\n",
      "\u001b[A\u001b[A\n",
      "\n",
      "\u001b[A\u001b[A\n",
      "\n",
      "\u001b[A\u001b[A\n",
      "\n",
      "\u001b[A\u001b[A\n",
      "\n",
      "\u001b[A\u001b[A\n",
      "\n",
      "\u001b[A\u001b[A\n",
      "\n",
      "\u001b[A\u001b[A\n",
      "\n",
      "\u001b[A\u001b[A\n",
      "\n",
      "\u001b[A\u001b[A\n",
      "\n",
      "\u001b[A\u001b[A\n",
      "\n",
      "\u001b[A\u001b[A\n",
      "\n",
      "\u001b[A\u001b[A\n",
      "\n",
      "\u001b[A\u001b[A\n",
      "\n",
      "\u001b[A\u001b[A\n",
      "\n",
      "\u001b[A\u001b[A\n",
      "\n",
      "\u001b[A\u001b[A\n",
      "\n",
      "\u001b[A\u001b[A\n",
      "\n",
      "\u001b[A\u001b[A\n",
      "\n",
      "\u001b[A\u001b[A\n",
      "\n",
      "\u001b[A\u001b[A\n",
      "\n",
      "\u001b[A\u001b[A\n",
      "\n",
      "\u001b[A\u001b[A\n",
      "\n",
      "\u001b[A\u001b[A\n",
      "\n",
      "\u001b[A\u001b[A\n",
      "\n",
      "\u001b[A\u001b[A\n",
      "\n",
      "\u001b[A\u001b[A\n",
      "\n",
      "\u001b[A\u001b[A\n",
      "\n",
      "\u001b[A\u001b[A\n",
      "\n",
      "\u001b[A\u001b[A\n",
      "\n",
      "\u001b[A\u001b[A\n",
      "\n",
      "\u001b[A\u001b[A\n",
      "\n",
      "\u001b[A\u001b[A\n",
      "\n",
      "\u001b[A\u001b[A\n",
      "\n",
      "\u001b[A\u001b[A\n",
      "\n",
      "\u001b[A\u001b[A\n",
      "\n",
      "\u001b[A\u001b[A\n",
      "\n",
      "\u001b[A\u001b[A\n",
      "\n",
      "\u001b[A\u001b[A\n",
      "\n",
      "\u001b[A\u001b[A\n",
      "\n",
      "\u001b[A\u001b[A\n",
      "\n",
      "\u001b[A\u001b[A\n",
      "\n",
      "\u001b[A\u001b[A\n",
      "\n",
      "\u001b[A\u001b[A\n",
      "\n",
      "\u001b[A\u001b[A\n",
      "\n",
      "\u001b[A\u001b[A\n",
      "\n",
      "\u001b[A\u001b[A\n",
      "\n",
      "\u001b[A\u001b[A\n",
      "\n",
      "\u001b[A\u001b[A\n",
      "\n",
      "\u001b[A\u001b[A\n",
      "\n",
      "\u001b[A\u001b[A\n",
      "\n",
      "\u001b[A\u001b[A\n",
      "\n",
      "\u001b[A\u001b[A\n",
      "\n",
      "\u001b[A\u001b[A\n",
      "\n",
      "\u001b[A\u001b[A\n",
      "\n",
      "\u001b[A\u001b[A\n",
      "\n",
      "\u001b[A\u001b[A\n",
      "\n",
      "\u001b[A\u001b[A\n",
      "\n",
      "\u001b[A\u001b[A\n",
      "\n",
      "\u001b[A\u001b[A\n",
      "\n",
      "\u001b[A\u001b[A\n",
      "\n",
      "\u001b[A\u001b[A\n",
      "\n",
      "\u001b[A\u001b[A\n",
      "\n",
      "\u001b[A\u001b[A\n",
      "\n",
      "\u001b[A\u001b[A\n",
      "\n",
      "\u001b[A\u001b[A\n",
      "\n",
      "\u001b[A\u001b[A\n",
      "\n",
      "\u001b[A\u001b[A\n",
      "\n",
      "\u001b[A\u001b[A\n",
      "\n",
      "\u001b[A\u001b[A\n",
      "\n",
      "\u001b[A\u001b[A\n",
      "\n",
      "\u001b[A\u001b[A\n",
      "\n",
      "\u001b[A\u001b[A\n",
      "\n",
      "\u001b[A\u001b[A\n",
      "\n",
      "\u001b[A\u001b[A\n",
      "\n",
      "\u001b[A\u001b[A\n",
      "\n",
      "\u001b[A\u001b[A\n",
      "\n",
      "\u001b[A\u001b[A\n",
      "\n",
      "\u001b[A\u001b[A\n",
      "\n",
      "\u001b[A\u001b[A\n",
      "\n",
      "\u001b[A\u001b[A\n",
      "\n",
      "\u001b[A\u001b[A\n",
      "\n",
      "\u001b[A\u001b[A\n",
      "\n",
      "\u001b[A\u001b[A\n",
      "\n",
      "\u001b[A\u001b[A\n",
      "\n",
      "\u001b[A\u001b[A\n",
      "\n",
      "\u001b[A\u001b[A\n",
      "\n",
      "\u001b[A\u001b[A\n",
      "\n",
      "\u001b[A\u001b[A\n",
      "\n",
      "\u001b[A\u001b[A\n",
      "\n",
      "\u001b[A\u001b[A\n",
      "\n",
      "\u001b[A\u001b[A\n",
      "\n",
      "\u001b[A\u001b[A\n",
      "\n",
      "\u001b[A\u001b[A\n",
      "\n",
      "\u001b[A\u001b[A\n",
      "\n",
      "\u001b[A\u001b[A\n",
      "\n",
      "\u001b[A\u001b[A\n",
      "\n",
      "\u001b[A\u001b[A\n",
      "\n",
      "\u001b[A\u001b[A\n",
      "\n",
      "\u001b[A\u001b[A\n",
      "\n",
      "\u001b[A\u001b[A\n",
      "\n",
      "\u001b[A\u001b[A\n",
      "\n",
      "\u001b[A\u001b[A\n",
      "\n",
      "\u001b[A\u001b[A\n",
      "\n",
      "\u001b[A\u001b[A\n",
      "\n",
      "\u001b[A\u001b[A\n",
      "\n",
      "\u001b[A\u001b[A\n",
      "\n",
      "\u001b[A\u001b[A\n",
      "\n",
      "\u001b[A\u001b[A\n",
      "\n",
      "\u001b[A\u001b[A\n",
      "\n",
      "\u001b[A\u001b[A\n",
      "\n",
      "\u001b[A\u001b[A\n",
      "\n",
      "\u001b[A\u001b[A\n",
      "\n",
      "\u001b[A\u001b[A\n",
      "\n",
      "\u001b[A\u001b[A\n",
      "\n",
      "\u001b[A\u001b[A\n",
      "\n",
      "\u001b[A\u001b[A\n",
      "\n",
      "\u001b[A\u001b[A\n",
      "\n",
      "\u001b[A\u001b[A\n",
      "\n",
      "\u001b[A\u001b[A\n",
      "\n",
      "\u001b[A\u001b[A\n",
      "\n",
      "\u001b[A\u001b[A\n",
      "\n",
      "\u001b[A\u001b[A\n",
      "\n",
      "\u001b[A\u001b[A\n",
      "\n",
      "\u001b[A\u001b[A\n",
      "\n",
      "\u001b[A\u001b[A\n",
      "\n",
      "\u001b[A\u001b[A\n",
      "\n",
      "\u001b[A\u001b[A\n",
      "\n",
      "\u001b[A\u001b[A\n",
      "\n",
      "\u001b[A\u001b[A\n",
      "\n",
      "\u001b[A\u001b[A\n",
      "\n",
      "\u001b[A\u001b[A\n",
      "\n",
      "\u001b[A\u001b[A\n",
      "\n",
      "\u001b[A\u001b[A\n",
      "\n",
      "\u001b[A\u001b[A\n",
      "\n",
      "\u001b[A\u001b[A\n",
      "\n",
      "\u001b[A\u001b[A\n",
      "\n",
      "\u001b[A\u001b[A\n",
      "\n",
      "\u001b[A\u001b[A\n",
      "\n",
      "\u001b[A\u001b[A\n",
      "\n",
      "\u001b[A\u001b[A\n",
      "\n",
      "\u001b[A\u001b[A\n",
      "\n",
      "\u001b[A\u001b[A\n",
      "\n",
      "\u001b[A\u001b[A\n",
      "\n",
      "\u001b[A\u001b[A\n",
      "\n",
      "\u001b[A\u001b[A\n",
      "\n",
      "\u001b[A\u001b[A\n",
      "\n",
      "\u001b[A\u001b[A\n",
      "\n",
      "\u001b[A\u001b[A\n",
      "\n",
      "\u001b[A\u001b[A\n",
      "\n",
      "\u001b[A\u001b[A\n",
      "\n",
      "\u001b[A\u001b[A\n",
      "\n",
      "\u001b[A\u001b[A\n",
      "\n",
      "\u001b[A\u001b[A\n",
      "\n",
      "\u001b[A\u001b[A\n",
      "\n",
      "\u001b[A\u001b[A\n",
      "\n",
      "\u001b[A\u001b[A\n",
      "\n",
      "\u001b[A\u001b[A\n",
      "\n",
      "\u001b[A\u001b[A\n",
      "\n",
      "\u001b[A\u001b[A\n",
      "\n",
      "\u001b[A\u001b[A\n",
      "\n",
      "\u001b[A\u001b[A\n",
      "\n",
      "\u001b[A\u001b[A\n",
      "\n",
      "\u001b[A\u001b[A\n",
      "\n",
      "\u001b[A\u001b[A\n",
      "\n",
      "\u001b[A\u001b[A\n",
      "\n",
      "\u001b[A\u001b[A\n",
      "\n",
      "\u001b[A\u001b[A\n",
      "\n",
      "\u001b[A\u001b[A\n",
      "\n",
      "\u001b[A\u001b[A\n",
      "\n",
      "\u001b[A\u001b[A\n",
      "\n",
      "\u001b[A\u001b[A\n",
      "\n",
      "\u001b[A\u001b[A\n",
      "\n",
      "\u001b[A\u001b[A\n",
      "\n",
      "\u001b[A\u001b[A\n",
      "\n",
      "\u001b[A\u001b[A\n",
      "\n",
      "\u001b[A\u001b[A\n",
      "\n",
      "\u001b[A\u001b[A\n",
      "\n",
      "\u001b[A\u001b[A\n",
      "\n",
      "\u001b[A\u001b[A\n",
      "\n",
      "\u001b[A\u001b[A\n",
      "\n",
      "\u001b[A\u001b[A\n",
      "\n",
      "\u001b[A\u001b[A\n",
      "\n",
      "\u001b[A\u001b[A\n",
      "\n",
      "\u001b[A\u001b[A\n",
      "\n",
      "\u001b[A\u001b[A\n",
      "\n",
      "\u001b[A\u001b[A\n",
      "\n",
      "\u001b[A\u001b[A\n",
      "\n",
      "\u001b[A\u001b[A\n",
      "\n",
      "\u001b[A\u001b[A\n",
      "\n",
      "\u001b[A\u001b[A\n",
      "\n",
      "\u001b[A\u001b[A\n",
      "\n",
      "\u001b[A\u001b[A\n",
      "\n",
      "\u001b[A\u001b[A\n",
      "\n",
      "\u001b[A\u001b[A\n",
      "\n",
      "\u001b[A\u001b[A\n",
      "\n",
      "\u001b[A\u001b[A\n",
      "\n",
      "\u001b[A\u001b[A\n",
      "\n",
      "\u001b[A\u001b[A\n",
      "\n",
      "\u001b[A\u001b[A\n",
      "\n",
      "\u001b[A\u001b[A\n",
      "\n",
      "\u001b[A\u001b[A\n",
      "\n",
      "\u001b[A\u001b[A\n",
      "\n",
      "\u001b[A\u001b[A\n",
      "\n",
      "\u001b[A\u001b[A\n",
      "\n",
      "\u001b[A\u001b[A\n",
      "\n",
      "\u001b[A\u001b[A\n",
      "\n",
      "\u001b[A\u001b[A\n",
      "\n",
      "\u001b[A\u001b[A\n",
      "\n",
      "\u001b[A\u001b[A\n",
      "\n",
      "\u001b[A\u001b[A\n",
      "\n",
      "\u001b[A\u001b[A\n",
      "\n",
      "\u001b[A\u001b[A\n",
      "\n",
      "\u001b[A\u001b[A\n",
      "\n",
      "\u001b[A\u001b[A\n",
      "\n",
      "\u001b[A\u001b[A\n",
      "\n",
      "\u001b[A\u001b[A\n",
      "\n",
      "\u001b[A\u001b[A\n",
      "\n",
      "\u001b[A\u001b[A\n",
      "\n",
      "\u001b[A\u001b[A\n",
      "\n",
      "\u001b[A\u001b[A\n",
      "\n",
      "\u001b[A\u001b[A\n",
      "\n",
      "\u001b[A\u001b[A\n",
      "\n",
      "\u001b[A\u001b[A\n",
      "\n",
      "\u001b[A\u001b[A\n",
      "\n",
      "\u001b[A\u001b[A\n",
      "\n",
      "\u001b[A\u001b[A\n",
      "\n",
      "\u001b[A\u001b[A\n",
      "\n",
      "\u001b[A\u001b[A\n",
      "\n",
      "\u001b[A\u001b[A\n",
      "\n",
      "\u001b[A\u001b[A\n",
      "\n",
      "\u001b[A\u001b[A\n",
      "\n",
      "\u001b[A\u001b[A\n",
      "\n",
      "\u001b[A\u001b[A\n",
      "\n",
      "\u001b[A\u001b[A\n",
      "\n",
      "\u001b[A\u001b[A\n",
      "\n",
      "\u001b[A\u001b[A\n",
      "\n",
      "\u001b[A\u001b[A\n",
      "\n",
      "\u001b[A\u001b[A\n",
      "\n",
      "\u001b[A\u001b[A\n",
      "\n",
      "\u001b[A\u001b[A\n",
      "\n",
      "\u001b[A\u001b[A\n",
      "\n",
      "\u001b[A\u001b[A\n",
      "\n",
      "\u001b[A\u001b[A\n",
      "\n",
      "\u001b[A\u001b[A\n",
      "\n",
      "\u001b[A\u001b[A\n",
      "\n",
      "\u001b[A\u001b[A\n",
      "\n",
      "\u001b[A\u001b[A\n",
      "\n",
      "\u001b[A\u001b[A\n",
      "\n",
      "\u001b[A\u001b[A\n",
      "\n",
      "\u001b[A\u001b[A\n",
      "\n",
      "\u001b[A\u001b[A\n",
      "\n",
      "\u001b[A\u001b[A\n",
      "\n",
      "\u001b[A\u001b[A\n",
      "\n",
      "\u001b[A\u001b[A\n",
      "\n",
      "\u001b[A\u001b[A\n",
      "\n",
      "\u001b[A\u001b[A\n",
      "\n",
      "\u001b[A\u001b[A\n",
      "\n",
      "\u001b[A\u001b[A\n",
      "\n",
      "\u001b[A\u001b[A\n",
      "\n",
      "\u001b[A\u001b[A\n",
      "\n",
      "\u001b[A\u001b[A\n",
      "\n",
      "\u001b[A\u001b[A\n",
      "\n",
      "\u001b[A\u001b[A\n",
      "\n",
      "\u001b[A\u001b[A\n",
      "\n",
      "\u001b[A\u001b[A\n",
      "\n",
      "\u001b[A\u001b[A\n",
      "\n",
      "\u001b[A\u001b[A\n",
      "\n",
      "\u001b[A\u001b[A\n",
      "\n",
      "\u001b[A\u001b[A\n",
      "\n",
      "\u001b[A\u001b[A\n",
      "\n",
      "\u001b[A\u001b[A\n",
      "\n",
      "\u001b[A\u001b[A\n",
      "\n",
      "\u001b[A\u001b[A\n",
      "\n",
      "\u001b[A\u001b[A\n",
      "\n",
      "\u001b[A\u001b[A\n",
      "\n",
      "\u001b[A\u001b[A\n",
      "\n",
      "\u001b[A\u001b[A\n",
      "\n",
      "\u001b[A\u001b[A\n",
      "\n",
      "\u001b[A\u001b[A\n",
      "\n",
      "\u001b[A\u001b[A\n",
      "\n",
      "\u001b[A\u001b[A\n",
      "\n",
      "\u001b[A\u001b[A\n",
      "\n",
      "\u001b[A\u001b[A\n",
      "\n",
      "\u001b[A\u001b[A\n",
      "\n",
      "\u001b[A\u001b[A\n",
      "\n",
      "\u001b[A\u001b[A\n",
      "\n",
      "\u001b[A\u001b[A\n",
      "\n",
      "\u001b[A\u001b[A\n",
      "\n",
      "\u001b[A\u001b[A\n",
      "\n",
      "\u001b[A\u001b[A\n",
      "\n",
      "\u001b[A\u001b[A\n",
      "\n",
      "\u001b[A\u001b[A\n",
      "\n",
      "\u001b[A\u001b[A\n",
      "\n",
      "\u001b[A\u001b[A\n",
      "\n",
      "\u001b[A\u001b[A\n",
      "\n",
      "\u001b[A\u001b[A\n",
      "\n",
      "\u001b[A\u001b[A\n",
      "\n",
      "\u001b[A\u001b[A\n",
      "\n",
      "\u001b[A\u001b[A\n",
      "\n",
      "\u001b[A\u001b[A\n",
      "\n",
      "\u001b[A\u001b[A\n",
      "\n",
      "\u001b[A\u001b[A\n",
      "\n",
      "\u001b[A\u001b[A\n",
      "\n",
      "\u001b[A\u001b[A\n",
      "\n",
      "\u001b[A\u001b[A\n",
      "\n",
      "\u001b[A\u001b[A\n",
      "\n",
      "\u001b[A\u001b[A\n",
      "\n",
      "\u001b[A\u001b[A\n",
      "\n",
      "\u001b[A\u001b[A\n",
      "\n",
      "\u001b[A\u001b[A\n",
      "\n",
      "\u001b[A\u001b[A\n",
      "\n",
      "\u001b[A\u001b[A\n",
      "\n",
      "\u001b[A\u001b[A\n",
      "\n",
      "\u001b[A\u001b[A\n",
      "\n",
      "\u001b[A\u001b[A\n",
      "\n",
      "\u001b[A\u001b[A\n",
      "\n",
      "\u001b[A\u001b[A\n",
      "\n",
      "\u001b[A\u001b[A\n",
      "\n",
      "\u001b[A\u001b[A\n",
      "\n",
      "\u001b[A\u001b[A\n",
      "\n",
      "\u001b[A\u001b[A\n",
      "\n",
      "\u001b[A\u001b[A\n",
      "\n",
      "\u001b[A\u001b[A\n",
      "\n",
      "\u001b[A\u001b[A\n",
      "\n",
      "\u001b[A\u001b[A\n",
      "\n",
      "\u001b[A\u001b[A\n",
      "\n",
      "\u001b[A\u001b[A\n",
      "\n",
      "\u001b[A\u001b[A\n",
      "\n",
      "\u001b[A\u001b[A\n",
      "\n",
      "\u001b[A\u001b[A\n",
      "\n",
      "\u001b[A\u001b[A\n",
      "\n",
      "\u001b[A\u001b[A\n",
      "\n",
      "\u001b[A\u001b[A\n",
      "\n",
      "\u001b[A\u001b[A\n",
      "\n",
      "\u001b[A\u001b[A\n",
      "\n",
      "\u001b[A\u001b[A\n",
      "\n",
      "\u001b[A\u001b[A\n",
      "\n",
      "\u001b[A\u001b[A\n",
      "\n",
      "\u001b[A\u001b[A\n",
      "\n",
      "\u001b[A\u001b[A\n",
      "\n",
      "\u001b[A\u001b[A\n",
      "\n",
      "\u001b[A\u001b[A\n",
      "\n",
      "\u001b[A\u001b[A\n",
      "\n",
      "\u001b[A\u001b[A\n",
      "\n",
      "\u001b[A\u001b[A\n",
      "\n",
      "\u001b[A\u001b[A\n",
      "\n",
      "\u001b[A\u001b[A\n",
      "\n",
      "\u001b[A\u001b[A\n",
      "\n",
      "\u001b[A\u001b[A\n",
      "\n",
      "\u001b[A\u001b[A\n",
      "\n",
      "\u001b[A\u001b[A\n",
      "\n",
      "\u001b[A\u001b[A\n",
      "\n",
      "\u001b[A\u001b[A\n",
      "\n",
      "\u001b[A\u001b[A\n",
      "\n",
      "\u001b[A\u001b[A\n",
      "\n",
      "\u001b[A\u001b[A\n",
      "\n",
      "\u001b[A\u001b[A\n",
      "\n",
      "\u001b[A\u001b[A\n",
      "\n",
      "\u001b[A\u001b[A\n",
      "\n",
      "\u001b[A\u001b[A\n",
      "\n",
      "\u001b[A\u001b[A\n",
      "\n",
      "\u001b[A\u001b[A\n",
      "\n",
      "\u001b[A\u001b[A\n",
      "\n",
      "\u001b[A\u001b[A\n",
      "\n",
      "\u001b[A\u001b[A\n",
      "\n",
      "\u001b[A\u001b[A\n",
      "\n",
      "\u001b[A\u001b[A\n",
      "\n",
      "\u001b[A\u001b[A\n",
      "\n",
      "\u001b[A\u001b[A\n",
      "\n",
      "\u001b[A\u001b[A\n",
      "\n",
      "\u001b[A\u001b[A\n",
      "\n",
      "\u001b[A\u001b[A\n",
      "\n",
      "\u001b[A\u001b[A\n",
      "\n",
      "\u001b[A\u001b[A\n",
      "\n",
      "\u001b[A\u001b[A\n",
      "\n",
      "\u001b[A\u001b[A\n",
      "\n",
      "\u001b[A\u001b[A\n",
      "\n",
      "\u001b[A\u001b[A\n",
      "\n",
      "\u001b[A\u001b[A\n",
      "\n",
      "\u001b[A\u001b[A\n",
      "\n",
      "\u001b[A\u001b[A\n",
      "\n",
      "\u001b[A\u001b[A\n",
      "\n",
      "\u001b[A\u001b[A\n",
      "\n",
      "\u001b[A\u001b[A\n",
      "\n",
      "\u001b[A\u001b[A\n",
      "\n",
      "\u001b[A\u001b[A\n",
      "\n",
      "\u001b[A\u001b[A\n",
      "\n",
      "\u001b[A\u001b[A\n",
      "\n",
      "\u001b[A\u001b[A\n",
      "\n",
      "\u001b[A\u001b[A\n",
      "\n",
      "\u001b[A\u001b[A\n",
      "\n",
      "\u001b[A\u001b[A\n",
      "\n",
      "\u001b[A\u001b[A\n",
      "\n",
      "\u001b[A\u001b[A\n",
      "\n",
      "\u001b[A\u001b[A\n",
      "\n",
      "\u001b[A\u001b[A\n",
      "\n",
      "\u001b[A\u001b[A\n",
      "\n",
      "\u001b[A\u001b[A\n",
      "\n",
      "\u001b[A\u001b[A\n",
      "\n",
      "\u001b[A\u001b[A\n",
      "\n",
      "\u001b[A\u001b[A\n",
      "\n",
      "\u001b[A\u001b[A\n",
      "\n",
      "\u001b[A\u001b[A\n",
      "\n",
      "\u001b[A\u001b[A\n",
      "\n",
      "\u001b[A\u001b[A\n",
      "\n",
      "\u001b[A\u001b[A\n",
      "\n",
      "\u001b[A\u001b[A\n",
      "\n",
      "\u001b[A\u001b[A\n",
      "\n",
      "\u001b[A\u001b[A\n",
      "\n",
      "\u001b[A\u001b[A\n",
      "\n",
      "\u001b[A\u001b[A\n",
      "\n",
      "\u001b[A\u001b[A\n",
      "\n",
      "\u001b[A\u001b[A\n",
      "\n",
      "\u001b[A\u001b[A\n",
      "\n",
      "\u001b[A\u001b[A\n",
      "\n",
      "\u001b[A\u001b[A\n",
      "\n",
      "\u001b[A\u001b[A\n",
      "\n",
      "\u001b[A\u001b[A\n",
      "\n",
      "\u001b[A\u001b[A\n",
      "\n",
      "\u001b[A\u001b[A\n",
      "\n",
      "\u001b[A\u001b[A\n",
      "\n",
      "\u001b[A\u001b[A\n",
      "\n",
      "\u001b[A\u001b[A\n",
      "\n",
      "\u001b[A\u001b[A\n",
      "\n",
      "\u001b[A\u001b[A\n",
      "\n",
      "\u001b[A\u001b[A\n",
      "\n",
      "\u001b[A\u001b[A\n",
      "\n",
      "Downloading: 100%|██████████| 971M/971M [01:28<00:00, 11.5MB/s]\n",
      "Downloading:   2%|▏         | 21.1M/971M [02:45<2:04:29, 133kB/s]\n",
      "Downloading:   6%|▌         | 57.4M/971M [01:56<30:55, 516kB/s] \n",
      "Downloading: 100%|██████████| 878k/878k [00:01<00:00, 739kB/s]  \n",
      "Downloading: 100%|██████████| 446k/446k [00:01<00:00, 390kB/s]  \n",
      "Downloading: 100%|██████████| 26.0/26.0 [00:00<00:00, 26.0kB/s]\n",
      "Downloading: 100%|██████████| 1.29M/1.29M [00:01<00:00, 1.09MB/s]\n"
     ]
    }
   ],
   "source": [
    "#BART\n",
    "\n",
    "model = BartForConditionalGeneration.from_pretrained(\"facebook/bart-large\")\n",
    "tokenizer = BartTokenizer.from_pretrained(\"facebook/bart-large\")"
   ]
  },
  {
   "cell_type": "code",
   "execution_count": 67,
   "metadata": {},
   "outputs": [],
   "source": [
    "from sentence_transformers import SentenceTransformer, util\n",
    "smodel = SentenceTransformer('sentence-transformers/all-mpnet-base-v2')"
   ]
  },
  {
   "cell_type": "code",
   "execution_count": 165,
   "metadata": {},
   "outputs": [
    {
     "data": {
      "text/html": [
       "<div>\n",
       "<style scoped>\n",
       "    .dataframe tbody tr th:only-of-type {\n",
       "        vertical-align: middle;\n",
       "    }\n",
       "\n",
       "    .dataframe tbody tr th {\n",
       "        vertical-align: top;\n",
       "    }\n",
       "\n",
       "    .dataframe thead th {\n",
       "        text-align: right;\n",
       "    }\n",
       "</style>\n",
       "<table border=\"1\" class=\"dataframe\">\n",
       "  <thead>\n",
       "    <tr style=\"text-align: right;\">\n",
       "      <th></th>\n",
       "      <th>File no.</th>\n",
       "      <th>Fact</th>\n",
       "      <th>Violations</th>\n",
       "      <th>Penalty</th>\n",
       "      <th>Defense</th>\n",
       "      <th>AO</th>\n",
       "      <th>Investor_Summary</th>\n",
       "      <th>Defense_Summary</th>\n",
       "      <th>AO_Summary</th>\n",
       "    </tr>\n",
       "  </thead>\n",
       "  <tbody>\n",
       "    <tr>\n",
       "      <th>0</th>\n",
       "      <td>1598615418309_1</td>\n",
       "      <td>Chromatic India Ltd. was penalised 10,00,00,00...</td>\n",
       "      <td>Section 12A(a), (b), (c) of the SEBI Act read ...</td>\n",
       "      <td>3,00,000/- (Rupees Three lakh) on the noticee ...</td>\n",
       "      <td>The primary contention of the noticee w.r.t th...</td>\n",
       "      <td>Order of the SAT in SEBI vs. Kalidas Dutta; Ap...</td>\n",
       "      <td>Chromatic India Ltd. was penalised 10,00,00,00...</td>\n",
       "      <td>Chromatic India Ltd. was penalised 10,00,00,00...</td>\n",
       "      <td>Chromatic India Ltd. was penalised 10,00,00,00...</td>\n",
       "    </tr>\n",
       "    <tr>\n",
       "      <th>1</th>\n",
       "      <td>1598615418309_2</td>\n",
       "      <td>GRM Securities Pvt. Ltd. contributed 7.32% of ...</td>\n",
       "      <td>clauses A(1), A(2) and A(4) of Code of Conduct...</td>\n",
       "      <td>4,00,000/- (Rupees Four Lakh only) on the Noti...</td>\n",
       "      <td>The Adjudicating Officer dismissed the claim ...</td>\n",
       "      <td>SEBI Vs. Shri Ram Mutual Fund [2006] 68 SCL 21...</td>\n",
       "      <td>GRM Securities Pvt. Ltd. contributed 7.32% of ...</td>\n",
       "      <td>GRM Securities Pvt. Ltd. contributed 7.32% of ...</td>\n",
       "      <td>GRM Securities Pvt. Ltd. contributed 7.32% of ...</td>\n",
       "    </tr>\n",
       "    <tr>\n",
       "      <th>2</th>\n",
       "      <td>1599654002962_1</td>\n",
       "      <td>Ms. Rekha Jain (noticee) failed to make disclo...</td>\n",
       "      <td>regulation 13 (4A) read with 13(5) of PIT Regu...</td>\n",
       "      <td>failure to disclose acquisition of 45,000 shar...</td>\n",
       "      <td>the Noticee has placed reliance upon the discl...</td>\n",
       "      <td>The Noticee has also furnished the Merger Orde...</td>\n",
       "      <td>Ms. Rekha Jain (noticee) failed to make disclo...</td>\n",
       "      <td>Ms. Rekha Jain (noticee) failed to make disclo...</td>\n",
       "      <td>Ms. Rekha Jain (noticee) failed to make disclo...</td>\n",
       "    </tr>\n",
       "    <tr>\n",
       "      <th>3</th>\n",
       "      <td>1599654002962_2</td>\n",
       "      <td>Sanket Rakesh Jain (Noticee) failed to disclos...</td>\n",
       "      <td>regulation 13(2A) of the PIT regulations and r...</td>\n",
       "      <td>failed to disclose his acquisition of 1,24,475...</td>\n",
       "      <td>the Noticee has placed reliance upon the discl...</td>\n",
       "      <td>The Noticee has also furnished the Merger Orde...</td>\n",
       "      <td>Sanket Rakesh Jain (Noticee) failed to disclos...</td>\n",
       "      <td>Sanket Rakesh Jain (Noticee) failed to disclos...</td>\n",
       "      <td>Sanket Rakesh Jain (Noticee) failed to disclos...</td>\n",
       "    </tr>\n",
       "    <tr>\n",
       "      <th>4</th>\n",
       "      <td>1602679805625_2</td>\n",
       "      <td>From 2011 to 2014, SEBI directed all companies...</td>\n",
       "      <td>Rs. 1,00,000/- under Section 15 A(a) of the SE...</td>\n",
       "      <td>After taking into consideration all the facts ...</td>\n",
       "      <td>Noticee has not availed the opportunity of per...</td>\n",
       "      <td>Thus, the aforesaid non-compliance to SEBI cir...</td>\n",
       "      <td>From 2011 to 2014, SEBI directed all companies...</td>\n",
       "      <td>From 2011 to 2014, SEBI directed all companies...</td>\n",
       "      <td>From 2011 to 2014, SEBI directed all companies...</td>\n",
       "    </tr>\n",
       "  </tbody>\n",
       "</table>\n",
       "</div>"
      ],
      "text/plain": [
       "          File no.                                               Fact  \\\n",
       "0  1598615418309_1  Chromatic India Ltd. was penalised 10,00,00,00...   \n",
       "1  1598615418309_2  GRM Securities Pvt. Ltd. contributed 7.32% of ...   \n",
       "2  1599654002962_1  Ms. Rekha Jain (noticee) failed to make disclo...   \n",
       "3  1599654002962_2  Sanket Rakesh Jain (Noticee) failed to disclos...   \n",
       "4  1602679805625_2  From 2011 to 2014, SEBI directed all companies...   \n",
       "\n",
       "                                          Violations  \\\n",
       "0  Section 12A(a), (b), (c) of the SEBI Act read ...   \n",
       "1  clauses A(1), A(2) and A(4) of Code of Conduct...   \n",
       "2  regulation 13 (4A) read with 13(5) of PIT Regu...   \n",
       "3  regulation 13(2A) of the PIT regulations and r...   \n",
       "4  Rs. 1,00,000/- under Section 15 A(a) of the SE...   \n",
       "\n",
       "                                             Penalty  \\\n",
       "0  3,00,000/- (Rupees Three lakh) on the noticee ...   \n",
       "1  4,00,000/- (Rupees Four Lakh only) on the Noti...   \n",
       "2  failure to disclose acquisition of 45,000 shar...   \n",
       "3  failed to disclose his acquisition of 1,24,475...   \n",
       "4  After taking into consideration all the facts ...   \n",
       "\n",
       "                                             Defense  \\\n",
       "0  The primary contention of the noticee w.r.t th...   \n",
       "1   The Adjudicating Officer dismissed the claim ...   \n",
       "2  the Noticee has placed reliance upon the discl...   \n",
       "3  the Noticee has placed reliance upon the discl...   \n",
       "4  Noticee has not availed the opportunity of per...   \n",
       "\n",
       "                                                  AO  \\\n",
       "0  Order of the SAT in SEBI vs. Kalidas Dutta; Ap...   \n",
       "1  SEBI Vs. Shri Ram Mutual Fund [2006] 68 SCL 21...   \n",
       "2  The Noticee has also furnished the Merger Orde...   \n",
       "3  The Noticee has also furnished the Merger Orde...   \n",
       "4  Thus, the aforesaid non-compliance to SEBI cir...   \n",
       "\n",
       "                                    Investor_Summary  \\\n",
       "0  Chromatic India Ltd. was penalised 10,00,00,00...   \n",
       "1  GRM Securities Pvt. Ltd. contributed 7.32% of ...   \n",
       "2  Ms. Rekha Jain (noticee) failed to make disclo...   \n",
       "3  Sanket Rakesh Jain (Noticee) failed to disclos...   \n",
       "4  From 2011 to 2014, SEBI directed all companies...   \n",
       "\n",
       "                                     Defense_Summary  \\\n",
       "0  Chromatic India Ltd. was penalised 10,00,00,00...   \n",
       "1  GRM Securities Pvt. Ltd. contributed 7.32% of ...   \n",
       "2  Ms. Rekha Jain (noticee) failed to make disclo...   \n",
       "3  Sanket Rakesh Jain (Noticee) failed to disclos...   \n",
       "4  From 2011 to 2014, SEBI directed all companies...   \n",
       "\n",
       "                                          AO_Summary  \n",
       "0  Chromatic India Ltd. was penalised 10,00,00,00...  \n",
       "1  GRM Securities Pvt. Ltd. contributed 7.32% of ...  \n",
       "2  Ms. Rekha Jain (noticee) failed to make disclo...  \n",
       "3  Sanket Rakesh Jain (Noticee) failed to disclos...  \n",
       "4  From 2011 to 2014, SEBI directed all companies...  "
      ]
     },
     "execution_count": 165,
     "metadata": {},
     "output_type": "execute_result"
    }
   ],
   "source": [
    "data = pd.read_csv(\"SEBI Summaries.csv\")\n",
    "data.head()"
   ]
  },
  {
   "cell_type": "code",
   "execution_count": 178,
   "metadata": {},
   "outputs": [],
   "source": [
    "loc = [\"investor\", \"defense\", \"ao\"]\n",
    "\n",
    "count = 0\n",
    "\n",
    "f1 = open(\"pipe_brio_out.txt\", \"w+\", encoding=\"utf-8\")\n",
    "f2 = open(\"brio_out.txt\", \"w+\", encoding=\"utf-8\")\n",
    "\n",
    "for i in loc:\n",
    "    for j in os.listdir(\"./pipe_annot_out/\"+i+\"/\"):\n",
    "        with open(\"./pipe_annot_out/\"+i+\"/\"+j, encoding=\"utf-8\") as f3:\n",
    "            text = f3.read()\n",
    "            f1.write(\" \".join(text.split(\"\\n\")))\n",
    "            f1.write(\"\\n\")\n",
    "            f3.close()\n",
    "        with open(\"./annot_out/\"+i+\"/\"+j, encoding=\"utf-8\") as f3:\n",
    "            text = f3.read()\n",
    "            f2.write(\" \".join(text.split(\"\\n\")))\n",
    "            f2.write(\"\\n\")\n",
    "            f3.close()\n",
    "f1.close()\n",
    "f2.close()"
   ]
  },
  {
   "cell_type": "code",
   "execution_count": 179,
   "metadata": {},
   "outputs": [
    {
     "name": "stderr",
     "output_type": "stream",
     "text": [
      "INFO:absl:Using default tokenizer.\n"
     ]
    },
    {
     "name": "stdout",
     "output_type": "stream",
     "text": [
      "{'rouge1': Score(precision=1.0, recall=0.1089588377723971, fmeasure=0.1965065502183406), 'rouge2': Score(precision=0.7954545454545454, recall=0.08495145631067962, fmeasure=0.15350877192982457), 'rougeL': Score(precision=0.8444444444444444, recall=0.09200968523002422, fmeasure=0.165938864628821)}\n"
     ]
    }
   ],
   "source": [
    "source = \"The Securities and Exchange Board of India (hereinafter referred to as ‘SEBI’) investigated into various price sensitive disclosure made by M s Suzlon Energy Limited (hereinafter referred to as ‘Suzlon the company’) for the period of November 3, 2009 and December 2, 2009. During the course of investigation it was observed that Suzlon had amended its code of internal procedures and conduct for prevention of insider trading for listed companies (“Code of Conduct”) in line with amendments in SEBI (Prohibition of Insider Trading) Regulations, 1992 (hereinafter referred to as “PIT Regulations”). Adjudication Order in respect of Vinod R. Tanti in the matter of Suzlon Energy Limited PIT Regulations notified on November 19, 2008 only on February 4th, 2011, i.e. after a delay of more than 2 years. It was alleged that the Code of Conduct was to be implemented under the overall supervision of the Board of Directors of Suzlon (hereinafter referred to as “the Board”). Shri Vinod Tanti (hereinafter referred to as “the Noticee”), became a member of the Board between November 19, 2008 and February 4, 2011. As a member of the Board, the Noticee was also allegedly responsible for the delay in amendment and implementation of the Code of Conduct. Accordingly, Suzlon was required to amend its code of conduct in line with the amendments in PIT Regulations. However, Suzlon implemented the amended Code of Conduct only on February 4th, 2011, which is more than 2 years after the notification. This huge delay occurred inspite of Suzlon’s Board of Directors being aware about the changes in PIT Regulations. The Board was informed about the changes in the PIT regulations in the meeting dated July 31, 2009 by Mr. Sundar Rajagopalan, who was the President (Legal) and General Counsel of Suzlon. The Board unduly delayed the implementation of revised Code of Conduct by deferring the matter when it was listed as agenda item in the Board meetings dated May 29, 2010 and August 13, 2010 and the code was subsequently passed in the board meeting dated February 4, 2011. It is observed from the meeting wise constitution of the Board that the Noticee was No a member of the Board till the meeting on August 13, 2010. The Noticee was made a director between August 13, 2010 and February 4, 2011. The Noticee attended his first board meeting after appointment on February 4, 2011. This was the meeting in which the code of conduct was approved by the Board.\"\n",
    "summ = \"SEBI investigated Suzlon Energy Limited for price sensitive disclosure. Suzlon was required to amend its code of conduct in line with amendments in insider trading regulations. However, the Code of Conduct was implemented only on February 4th, 2011, more than 2 years after the notification.\"\n",
    "scorer = rouge_scorer.RougeScorer(['rouge1', 'rouge2', 'rougeL'], use_stemmer=True)\n",
    "scores = scorer.score(source, summ)\n",
    "print(scores)"
   ]
  },
  {
   "cell_type": "code",
   "execution_count": 126,
   "metadata": {},
   "outputs": [
    {
     "name": "stderr",
     "output_type": "stream",
     "text": [
      "INFO:absl:Using default tokenizer.\n"
     ]
    },
    {
     "name": "stdout",
     "output_type": "stream",
     "text": [
      "1 investor {'rouge1': Score(precision=0.9722222222222222, recall=0.4605263157894737, fmeasure=0.625), 'rouge2': Score(precision=0.8, recall=0.37333333333333335, fmeasure=0.5090909090909091), 'rougeL': Score(precision=0.8888888888888888, recall=0.42105263157894735, fmeasure=0.5714285714285714)}\n"
     ]
    },
    {
     "name": "stderr",
     "output_type": "stream",
     "text": [
      "INFO:absl:Using default tokenizer.\n"
     ]
    },
    {
     "name": "stdout",
     "output_type": "stream",
     "text": [
      "1 defense {'rouge1': Score(precision=0.9615384615384616, recall=0.3424657534246575, fmeasure=0.5050505050505051), 'rouge2': Score(precision=0.7142857142857143, recall=0.25229357798165136, fmeasure=0.3728813559322034), 'rougeL': Score(precision=0.7692307692307693, recall=0.273972602739726, fmeasure=0.404040404040404)}\n"
     ]
    },
    {
     "name": "stderr",
     "output_type": "stream",
     "text": [
      "INFO:absl:Using default tokenizer.\n"
     ]
    },
    {
     "name": "stdout",
     "output_type": "stream",
     "text": [
      "1 ao {'rouge1': Score(precision=0.9016393442622951, recall=0.3254437869822485, fmeasure=0.47826086956521735), 'rouge2': Score(precision=0.6666666666666666, recall=0.23809523809523808, fmeasure=0.3508771929824562), 'rougeL': Score(precision=0.8032786885245902, recall=0.28994082840236685, fmeasure=0.42608695652173917)}\n"
     ]
    },
    {
     "name": "stderr",
     "output_type": "stream",
     "text": [
      "INFO:absl:Using default tokenizer.\n"
     ]
    },
    {
     "name": "stdout",
     "output_type": "stream",
     "text": [
      "2 investor {'rouge1': Score(precision=0.7931034482758621, recall=0.5348837209302325, fmeasure=0.6388888888888888), 'rouge2': Score(precision=0.6666666666666666, recall=0.4470588235294118, fmeasure=0.5352112676056338), 'rougeL': Score(precision=0.7413793103448276, recall=0.5, fmeasure=0.5972222222222222)}\n"
     ]
    },
    {
     "name": "stderr",
     "output_type": "stream",
     "text": [
      "INFO:absl:Using default tokenizer.\n"
     ]
    },
    {
     "name": "stdout",
     "output_type": "stream",
     "text": [
      "2 defense {'rouge1': Score(precision=0.8607594936708861, recall=0.3655913978494624, fmeasure=0.5132075471698113), 'rouge2': Score(precision=0.6666666666666666, recall=0.2810810810810811, fmeasure=0.39543726235741444), 'rougeL': Score(precision=0.7974683544303798, recall=0.3387096774193548, fmeasure=0.47547169811320755)}\n"
     ]
    },
    {
     "name": "stderr",
     "output_type": "stream",
     "text": [
      "INFO:absl:Using default tokenizer.\n"
     ]
    },
    {
     "name": "stdout",
     "output_type": "stream",
     "text": [
      "2 ao {'rouge1': Score(precision=0.8613861386138614, recall=0.40654205607476634, fmeasure=0.5523809523809523), 'rouge2': Score(precision=0.66, recall=0.30985915492957744, fmeasure=0.4217252396166134), 'rougeL': Score(precision=0.7623762376237624, recall=0.3598130841121495, fmeasure=0.488888888888889)}\n"
     ]
    },
    {
     "name": "stderr",
     "output_type": "stream",
     "text": [
      "INFO:absl:Using default tokenizer.\n"
     ]
    },
    {
     "name": "stdout",
     "output_type": "stream",
     "text": [
      "3 investor {'rouge1': Score(precision=0.9069767441860465, recall=0.4148936170212766, fmeasure=0.5693430656934306), 'rouge2': Score(precision=0.7380952380952381, recall=0.3333333333333333, fmeasure=0.4592592592592593), 'rougeL': Score(precision=0.813953488372093, recall=0.3723404255319149, fmeasure=0.5109489051094891)}\n"
     ]
    },
    {
     "name": "stderr",
     "output_type": "stream",
     "text": [
      "INFO:absl:Using default tokenizer.\n"
     ]
    },
    {
     "name": "stdout",
     "output_type": "stream",
     "text": [
      "3 defense {'rouge1': Score(precision=0.9285714285714286, recall=0.2708333333333333, fmeasure=0.41935483870967744), 'rouge2': Score(precision=0.8292682926829268, recall=0.23776223776223776, fmeasure=0.3695652173913043), 'rougeL': Score(precision=0.8809523809523809, recall=0.2569444444444444, fmeasure=0.3978494623655914)}\n"
     ]
    },
    {
     "name": "stderr",
     "output_type": "stream",
     "text": [
      "INFO:absl:Using default tokenizer.\n"
     ]
    },
    {
     "name": "stdout",
     "output_type": "stream",
     "text": [
      "3 ao {'rouge1': Score(precision=0.8206896551724138, recall=0.4798387096774194, fmeasure=0.6055979643765904), 'rouge2': Score(precision=0.6458333333333334, recall=0.3765182186234818, fmeasure=0.47570332480818417), 'rougeL': Score(precision=0.7379310344827587, recall=0.4314516129032258, fmeasure=0.544529262086514)}\n"
     ]
    },
    {
     "name": "stderr",
     "output_type": "stream",
     "text": [
      "INFO:absl:Using default tokenizer.\n"
     ]
    },
    {
     "name": "stdout",
     "output_type": "stream",
     "text": [
      "4 investor {'rouge1': Score(precision=1.0, recall=0.5063291139240507, fmeasure=0.6722689075630253), 'rouge2': Score(precision=0.9487179487179487, recall=0.47435897435897434, fmeasure=0.6324786324786326), 'rougeL': Score(precision=1.0, recall=0.5063291139240507, fmeasure=0.6722689075630253)}\n"
     ]
    },
    {
     "name": "stderr",
     "output_type": "stream",
     "text": [
      "INFO:absl:Using default tokenizer.\n"
     ]
    },
    {
     "name": "stdout",
     "output_type": "stream",
     "text": [
      "4 defense {'rouge1': Score(precision=1.0, recall=0.28776978417266186, fmeasure=0.44692737430167595), 'rouge2': Score(precision=0.9743589743589743, recall=0.2753623188405797, fmeasure=0.4293785310734463), 'rougeL': Score(precision=0.925, recall=0.26618705035971224, fmeasure=0.41340782122905034)}\n"
     ]
    },
    {
     "name": "stderr",
     "output_type": "stream",
     "text": [
      "INFO:absl:Using default tokenizer.\n"
     ]
    },
    {
     "name": "stdout",
     "output_type": "stream",
     "text": [
      "4 ao {'rouge1': Score(precision=0.9390243902439024, recall=0.35, fmeasure=0.509933774834437), 'rouge2': Score(precision=0.8395061728395061, recall=0.3105022831050228, fmeasure=0.4533333333333333), 'rougeL': Score(precision=0.8292682926829268, recall=0.3090909090909091, fmeasure=0.4503311258278146)}\n"
     ]
    },
    {
     "name": "stderr",
     "output_type": "stream",
     "text": [
      "INFO:absl:Using default tokenizer.\n"
     ]
    },
    {
     "name": "stdout",
     "output_type": "stream",
     "text": [
      "5 investor {'rouge1': Score(precision=0.7571428571428571, recall=0.452991452991453, fmeasure=0.5668449197860963), 'rouge2': Score(precision=0.43478260869565216, recall=0.25862068965517243, fmeasure=0.32432432432432434), 'rougeL': Score(precision=0.5714285714285714, recall=0.3418803418803419, fmeasure=0.42780748663101603)}\n"
     ]
    },
    {
     "name": "stderr",
     "output_type": "stream",
     "text": [
      "INFO:absl:Using default tokenizer.\n"
     ]
    },
    {
     "name": "stdout",
     "output_type": "stream",
     "text": [
      "5 defense {'rouge1': Score(precision=0.8604651162790697, recall=0.4539877300613497, fmeasure=0.5943775100401606), 'rouge2': Score(precision=0.6235294117647059, recall=0.3271604938271605, fmeasure=0.4291497975708502), 'rougeL': Score(precision=0.7441860465116279, recall=0.39263803680981596, fmeasure=0.5140562248995985)}\n"
     ]
    },
    {
     "name": "stderr",
     "output_type": "stream",
     "text": [
      "INFO:absl:Using default tokenizer.\n"
     ]
    },
    {
     "name": "stdout",
     "output_type": "stream",
     "text": [
      "5 ao {'rouge1': Score(precision=0.8486486486486486, recall=0.5048231511254019, fmeasure=0.6330645161290323), 'rouge2': Score(precision=0.592391304347826, recall=0.35161290322580646, fmeasure=0.44129554655870445), 'rougeL': Score(precision=0.6702702702702703, recall=0.3987138263665595, fmeasure=0.5)}\n"
     ]
    },
    {
     "name": "stderr",
     "output_type": "stream",
     "text": [
      "INFO:absl:Using default tokenizer.\n"
     ]
    },
    {
     "name": "stdout",
     "output_type": "stream",
     "text": [
      "6 investor {'rouge1': Score(precision=0.8596491228070176, recall=0.5568181818181818, fmeasure=0.6758620689655173), 'rouge2': Score(precision=0.625, recall=0.40229885057471265, fmeasure=0.4895104895104895), 'rougeL': Score(precision=0.7192982456140351, recall=0.4659090909090909, fmeasure=0.5655172413793104)}\n"
     ]
    },
    {
     "name": "stderr",
     "output_type": "stream",
     "text": [
      "INFO:absl:Using default tokenizer.\n"
     ]
    },
    {
     "name": "stdout",
     "output_type": "stream",
     "text": [
      "6 defense {'rouge1': Score(precision=0.8082191780821918, recall=0.59, fmeasure=0.6820809248554913), 'rouge2': Score(precision=0.6388888888888888, recall=0.46464646464646464, fmeasure=0.5380116959064328), 'rougeL': Score(precision=0.726027397260274, recall=0.53, fmeasure=0.6127167630057804)}\n"
     ]
    },
    {
     "name": "stderr",
     "output_type": "stream",
     "text": [
      "INFO:absl:Using default tokenizer.\n"
     ]
    },
    {
     "name": "stdout",
     "output_type": "stream",
     "text": [
      "6 ao {'rouge1': Score(precision=0.9263157894736842, recall=0.41706161137440756, fmeasure=0.5751633986928104), 'rouge2': Score(precision=0.6382978723404256, recall=0.2857142857142857, fmeasure=0.39473684210526316), 'rougeL': Score(precision=0.6736842105263158, recall=0.3033175355450237, fmeasure=0.41830065359477125)}\n"
     ]
    },
    {
     "name": "stderr",
     "output_type": "stream",
     "text": [
      "INFO:absl:Using default tokenizer.\n"
     ]
    },
    {
     "name": "stdout",
     "output_type": "stream",
     "text": [
      "7 investor {'rouge1': Score(precision=0.8795180722891566, recall=0.7849462365591398, fmeasure=0.8295454545454544), 'rouge2': Score(precision=0.7926829268292683, recall=0.7065217391304348, fmeasure=0.7471264367816093), 'rougeL': Score(precision=0.8313253012048193, recall=0.7419354838709677, fmeasure=0.7840909090909092)}\n"
     ]
    },
    {
     "name": "stderr",
     "output_type": "stream",
     "text": [
      "INFO:absl:Using default tokenizer.\n"
     ]
    },
    {
     "name": "stdout",
     "output_type": "stream",
     "text": [
      "7 defense {'rouge1': Score(precision=0.9, recall=0.6260869565217392, fmeasure=0.7384615384615385), 'rouge2': Score(precision=0.7848101265822784, recall=0.543859649122807, fmeasure=0.6424870466321243), 'rougeL': Score(precision=0.7875, recall=0.5478260869565217, fmeasure=0.6461538461538461)}\n"
     ]
    },
    {
     "name": "stderr",
     "output_type": "stream",
     "text": [
      "INFO:absl:Using default tokenizer.\n"
     ]
    },
    {
     "name": "stdout",
     "output_type": "stream",
     "text": [
      "7 ao {'rouge1': Score(precision=0.8791946308724832, recall=0.6485148514851485, fmeasure=0.7464387464387463), 'rouge2': Score(precision=0.75, recall=0.5522388059701493, fmeasure=0.6361031518624642), 'rougeL': Score(precision=0.7315436241610739, recall=0.5396039603960396, fmeasure=0.6210826210826211)}\n"
     ]
    },
    {
     "name": "stderr",
     "output_type": "stream",
     "text": [
      "INFO:absl:Using default tokenizer.\n"
     ]
    },
    {
     "name": "stdout",
     "output_type": "stream",
     "text": [
      "8 investor {'rouge1': Score(precision=0.8363636363636363, recall=0.5897435897435898, fmeasure=0.6917293233082706), 'rouge2': Score(precision=0.7037037037037037, recall=0.4935064935064935, fmeasure=0.5801526717557253), 'rougeL': Score(precision=0.7818181818181819, recall=0.5512820512820513, fmeasure=0.6466165413533834)}\n"
     ]
    },
    {
     "name": "stderr",
     "output_type": "stream",
     "text": [
      "INFO:absl:Using default tokenizer.\n"
     ]
    },
    {
     "name": "stdout",
     "output_type": "stream",
     "text": [
      "8 defense {'rouge1': Score(precision=0.9195402298850575, recall=0.625, fmeasure=0.7441860465116279), 'rouge2': Score(precision=0.813953488372093, recall=0.5511811023622047, fmeasure=0.6572769953051644), 'rougeL': Score(precision=0.8045977011494253, recall=0.546875, fmeasure=0.6511627906976744)}\n"
     ]
    },
    {
     "name": "stderr",
     "output_type": "stream",
     "text": [
      "INFO:absl:Using default tokenizer.\n"
     ]
    },
    {
     "name": "stdout",
     "output_type": "stream",
     "text": [
      "8 ao {'rouge1': Score(precision=0.9682539682539683, recall=0.45864661654135336, fmeasure=0.6224489795918366), 'rouge2': Score(precision=0.9032258064516129, recall=0.42424242424242425, fmeasure=0.577319587628866), 'rougeL': Score(precision=0.9682539682539683, recall=0.45864661654135336, fmeasure=0.6224489795918366)}\n"
     ]
    },
    {
     "name": "stderr",
     "output_type": "stream",
     "text": [
      "INFO:absl:Using default tokenizer.\n"
     ]
    },
    {
     "name": "stdout",
     "output_type": "stream",
     "text": [
      "9 investor {'rouge1': Score(precision=0.90625, recall=0.6744186046511628, fmeasure=0.7733333333333334), 'rouge2': Score(precision=0.7936507936507936, recall=0.5882352941176471, fmeasure=0.6756756756756757), 'rougeL': Score(precision=0.890625, recall=0.6627906976744186, fmeasure=0.7600000000000001)}\n"
     ]
    },
    {
     "name": "stderr",
     "output_type": "stream",
     "text": [
      "INFO:absl:Using default tokenizer.\n"
     ]
    },
    {
     "name": "stdout",
     "output_type": "stream",
     "text": [
      "9 defense {'rouge1': Score(precision=0.9649122807017544, recall=0.5288461538461539, fmeasure=0.6832298136645963), 'rouge2': Score(precision=0.8584070796460177, recall=0.46859903381642515, fmeasure=0.60625), 'rougeL': Score(precision=0.9385964912280702, recall=0.5144230769230769, fmeasure=0.6645962732919254)}\n"
     ]
    },
    {
     "name": "stderr",
     "output_type": "stream",
     "text": [
      "INFO:absl:Using default tokenizer.\n"
     ]
    },
    {
     "name": "stdout",
     "output_type": "stream",
     "text": [
      "9 ao {'rouge1': Score(precision=0.9316770186335404, recall=0.4702194357366771, fmeasure=0.625), 'rouge2': Score(precision=0.78125, recall=0.39308176100628933, fmeasure=0.5230125523012553), 'rougeL': Score(precision=0.8571428571428571, recall=0.43260188087774293, fmeasure=0.5750000000000001)}\n"
     ]
    },
    {
     "name": "stderr",
     "output_type": "stream",
     "text": [
      "INFO:absl:Using default tokenizer.\n"
     ]
    },
    {
     "name": "stdout",
     "output_type": "stream",
     "text": [
      "10 investor {'rouge1': Score(precision=0.7857142857142857, recall=0.6027397260273972, fmeasure=0.6821705426356588), 'rouge2': Score(precision=0.6727272727272727, recall=0.5138888888888888, fmeasure=0.5826771653543307), 'rougeL': Score(precision=0.75, recall=0.5753424657534246, fmeasure=0.6511627906976744)}\n"
     ]
    },
    {
     "name": "stderr",
     "output_type": "stream",
     "text": [
      "INFO:absl:Using default tokenizer.\n"
     ]
    },
    {
     "name": "stdout",
     "output_type": "stream",
     "text": [
      "10 defense {'rouge1': Score(precision=0.7311827956989247, recall=0.5230769230769231, fmeasure=0.6098654708520179), 'rouge2': Score(precision=0.5543478260869565, recall=0.3953488372093023, fmeasure=0.46153846153846145), 'rougeL': Score(precision=0.6451612903225806, recall=0.46153846153846156, fmeasure=0.5381165919282512)}\n"
     ]
    },
    {
     "name": "stderr",
     "output_type": "stream",
     "text": [
      "INFO:absl:Using default tokenizer.\n"
     ]
    },
    {
     "name": "stdout",
     "output_type": "stream",
     "text": [
      "10 ao {'rouge1': Score(precision=0.8541666666666666, recall=0.5256410256410257, fmeasure=0.6507936507936508), 'rouge2': Score(precision=0.7052631578947368, recall=0.432258064516129, fmeasure=0.536), 'rougeL': Score(precision=0.7604166666666666, recall=0.46794871794871795, fmeasure=0.5793650793650793)}\n"
     ]
    },
    {
     "name": "stderr",
     "output_type": "stream",
     "text": [
      "INFO:absl:Using default tokenizer.\n"
     ]
    },
    {
     "name": "stdout",
     "output_type": "stream",
     "text": [
      "11 investor {'rouge1': Score(precision=0.92, recall=0.4791666666666667, fmeasure=0.6301369863013699), 'rouge2': Score(precision=0.717741935483871, recall=0.3723849372384937, fmeasure=0.49035812672176304), 'rougeL': Score(precision=0.784, recall=0.4083333333333333, fmeasure=0.5369863013698629)}\n"
     ]
    },
    {
     "name": "stderr",
     "output_type": "stream",
     "text": [
      "INFO:absl:Using default tokenizer.\n"
     ]
    },
    {
     "name": "stdout",
     "output_type": "stream",
     "text": [
      "11 defense {'rouge1': Score(precision=0.9180327868852459, recall=0.46473029045643155, fmeasure=0.6170798898071626), 'rouge2': Score(precision=0.7272727272727273, recall=0.36666666666666664, fmeasure=0.4875346260387811), 'rougeL': Score(precision=0.8032786885245902, recall=0.4066390041493776, fmeasure=0.5399449035812671)}\n"
     ]
    },
    {
     "name": "stderr",
     "output_type": "stream",
     "text": [
      "INFO:absl:Using default tokenizer.\n"
     ]
    },
    {
     "name": "stdout",
     "output_type": "stream",
     "text": [
      "11 ao {'rouge1': Score(precision=0.9457364341085271, recall=0.40939597315436244, fmeasure=0.5714285714285714), 'rouge2': Score(precision=0.7734375, recall=0.3333333333333333, fmeasure=0.4658823529411765), 'rougeL': Score(precision=0.8992248062015504, recall=0.38926174496644295, fmeasure=0.5433255269320844)}\n"
     ]
    },
    {
     "name": "stderr",
     "output_type": "stream",
     "text": [
      "INFO:absl:Using default tokenizer.\n"
     ]
    },
    {
     "name": "stdout",
     "output_type": "stream",
     "text": [
      "12 investor {'rouge1': Score(precision=0.9565217391304348, recall=0.35772357723577236, fmeasure=0.5207100591715976), 'rouge2': Score(precision=0.8, recall=0.29508196721311475, fmeasure=0.43113772455089816), 'rougeL': Score(precision=0.782608695652174, recall=0.2926829268292683, fmeasure=0.4260355029585799)}\n"
     ]
    },
    {
     "name": "stderr",
     "output_type": "stream",
     "text": [
      "INFO:absl:Using default tokenizer.\n"
     ]
    },
    {
     "name": "stdout",
     "output_type": "stream",
     "text": [
      "12 defense {'rouge1': Score(precision=0.7333333333333333, recall=0.3142857142857143, fmeasure=0.44), 'rouge2': Score(precision=0.5084745762711864, recall=0.2158273381294964, fmeasure=0.30303030303030304), 'rougeL': Score(precision=0.6, recall=0.2571428571428571, fmeasure=0.36)}\n"
     ]
    },
    {
     "name": "stderr",
     "output_type": "stream",
     "text": [
      "INFO:absl:Using default tokenizer.\n"
     ]
    },
    {
     "name": "stdout",
     "output_type": "stream",
     "text": [
      "12 ao {'rouge1': Score(precision=0.8695652173913043, recall=0.21505376344086022, fmeasure=0.3448275862068966), 'rouge2': Score(precision=0.7333333333333333, recall=0.1783783783783784, fmeasure=0.28695652173913044), 'rougeL': Score(precision=0.8043478260869565, recall=0.1989247311827957, fmeasure=0.3189655172413793)}\n"
     ]
    },
    {
     "name": "stderr",
     "output_type": "stream",
     "text": [
      "INFO:absl:Using default tokenizer.\n"
     ]
    },
    {
     "name": "stdout",
     "output_type": "stream",
     "text": [
      "13 investor {'rouge1': Score(precision=0.9183673469387755, recall=0.2112676056338028, fmeasure=0.34351145038167935), 'rouge2': Score(precision=0.7291666666666666, recall=0.1650943396226415, fmeasure=0.2692307692307692), 'rougeL': Score(precision=0.8163265306122449, recall=0.18779342723004694, fmeasure=0.30534351145038163)}\n"
     ]
    },
    {
     "name": "stderr",
     "output_type": "stream",
     "text": [
      "INFO:absl:Using default tokenizer.\n"
     ]
    },
    {
     "name": "stdout",
     "output_type": "stream",
     "text": [
      "13 defense {'rouge1': Score(precision=0.9019607843137255, recall=0.21495327102803738, fmeasure=0.3471698113207547), 'rouge2': Score(precision=0.7, recall=0.1643192488262911, fmeasure=0.2661596958174905), 'rougeL': Score(precision=0.7843137254901961, recall=0.18691588785046728, fmeasure=0.3018867924528302)}\n"
     ]
    },
    {
     "name": "stderr",
     "output_type": "stream",
     "text": [
      "INFO:absl:Using default tokenizer.\n"
     ]
    },
    {
     "name": "stdout",
     "output_type": "stream",
     "text": [
      "13 ao {'rouge1': Score(precision=0.9019607843137255, recall=0.17490494296577946, fmeasure=0.2929936305732484), 'rouge2': Score(precision=0.7, recall=0.13358778625954199, fmeasure=0.22435897435897434), 'rougeL': Score(precision=0.7843137254901961, recall=0.1520912547528517, fmeasure=0.25477707006369427)}\n"
     ]
    },
    {
     "name": "stderr",
     "output_type": "stream",
     "text": [
      "INFO:absl:Using default tokenizer.\n"
     ]
    },
    {
     "name": "stdout",
     "output_type": "stream",
     "text": [
      "14 investor {'rouge1': Score(precision=0.9375, recall=0.22613065326633167, fmeasure=0.3643724696356275), 'rouge2': Score(precision=0.7446808510638298, recall=0.17676767676767677, fmeasure=0.2857142857142857), 'rougeL': Score(precision=0.8541666666666666, recall=0.20603015075376885, fmeasure=0.3319838056680162)}\n"
     ]
    },
    {
     "name": "stderr",
     "output_type": "stream",
     "text": [
      "INFO:absl:Using default tokenizer.\n"
     ]
    },
    {
     "name": "stdout",
     "output_type": "stream",
     "text": [
      "14 defense {'rouge1': Score(precision=0.7738095238095238, recall=0.30092592592592593, fmeasure=0.4333333333333333), 'rouge2': Score(precision=0.5783132530120482, recall=0.22325581395348837, fmeasure=0.3221476510067114), 'rougeL': Score(precision=0.6785714285714286, recall=0.2638888888888889, fmeasure=0.38)}\n"
     ]
    },
    {
     "name": "stderr",
     "output_type": "stream",
     "text": [
      "INFO:absl:Using default tokenizer.\n"
     ]
    },
    {
     "name": "stdout",
     "output_type": "stream",
     "text": [
      "14 ao {'rouge1': Score(precision=0.7901234567901234, recall=0.25098039215686274, fmeasure=0.380952380952381), 'rouge2': Score(precision=0.575, recall=0.18110236220472442, fmeasure=0.2754491017964072), 'rougeL': Score(precision=0.6666666666666666, recall=0.21176470588235294, fmeasure=0.32142857142857145)}\n"
     ]
    },
    {
     "name": "stderr",
     "output_type": "stream",
     "text": [
      "INFO:absl:Using default tokenizer.\n"
     ]
    },
    {
     "name": "stdout",
     "output_type": "stream",
     "text": [
      "15 investor {'rouge1': Score(precision=0.6888888888888889, recall=0.4305555555555556, fmeasure=0.5299145299145299), 'rouge2': Score(precision=0.4090909090909091, recall=0.2535211267605634, fmeasure=0.3130434782608696), 'rougeL': Score(precision=0.6222222222222222, recall=0.3888888888888889, fmeasure=0.47863247863247865)}\n"
     ]
    },
    {
     "name": "stderr",
     "output_type": "stream",
     "text": [
      "INFO:absl:Using default tokenizer.\n"
     ]
    },
    {
     "name": "stdout",
     "output_type": "stream",
     "text": [
      "15 defense {'rouge1': Score(precision=0.7857142857142857, recall=0.4520547945205479, fmeasure=0.5739130434782609), 'rouge2': Score(precision=0.4878048780487805, recall=0.2777777777777778, fmeasure=0.3539823008849558), 'rougeL': Score(precision=0.7142857142857143, recall=0.410958904109589, fmeasure=0.5217391304347826)}\n"
     ]
    },
    {
     "name": "stderr",
     "output_type": "stream",
     "text": [
      "INFO:absl:Using default tokenizer.\n"
     ]
    },
    {
     "name": "stdout",
     "output_type": "stream",
     "text": [
      "15 ao {'rouge1': Score(precision=1.0, recall=0.423728813559322, fmeasure=0.5952380952380952), 'rouge2': Score(precision=0.9183673469387755, recall=0.38461538461538464, fmeasure=0.5421686746987951), 'rougeL': Score(precision=0.98, recall=0.4152542372881356, fmeasure=0.5833333333333334)}\n"
     ]
    },
    {
     "name": "stderr",
     "output_type": "stream",
     "text": [
      "INFO:absl:Using default tokenizer.\n"
     ]
    },
    {
     "name": "stdout",
     "output_type": "stream",
     "text": [
      "16 investor {'rouge1': Score(precision=0.9655172413793104, recall=0.328125, fmeasure=0.4897959183673469), 'rouge2': Score(precision=0.7558139534883721, recall=0.2549019607843137, fmeasure=0.38123167155425214), 'rougeL': Score(precision=0.8735632183908046, recall=0.296875, fmeasure=0.4431486880466472)}\n"
     ]
    },
    {
     "name": "stderr",
     "output_type": "stream",
     "text": [
      "INFO:absl:Using default tokenizer.\n"
     ]
    },
    {
     "name": "stdout",
     "output_type": "stream",
     "text": [
      "16 defense {'rouge1': Score(precision=0.9326923076923077, recall=0.26944444444444443, fmeasure=0.4181034482758621), 'rouge2': Score(precision=0.7087378640776699, recall=0.20334261838440112, fmeasure=0.31601731601731603), 'rougeL': Score(precision=0.8461538461538461, recall=0.24444444444444444, fmeasure=0.37931034482758624)}\n"
     ]
    },
    {
     "name": "stderr",
     "output_type": "stream",
     "text": [
      "INFO:absl:Using default tokenizer.\n"
     ]
    },
    {
     "name": "stdout",
     "output_type": "stream",
     "text": [
      "16 ao {'rouge1': Score(precision=0.925531914893617, recall=0.3020833333333333, fmeasure=0.45549738219895286), 'rouge2': Score(precision=0.6666666666666666, recall=0.21602787456445993, fmeasure=0.32631578947368417), 'rougeL': Score(precision=0.7978723404255319, recall=0.2604166666666667, fmeasure=0.39267015706806285)}\n"
     ]
    },
    {
     "name": "stderr",
     "output_type": "stream",
     "text": [
      "INFO:absl:Using default tokenizer.\n"
     ]
    },
    {
     "name": "stdout",
     "output_type": "stream",
     "text": [
      "17 investor {'rouge1': Score(precision=0.9666666666666667, recall=0.3005181347150259, fmeasure=0.458498023715415), 'rouge2': Score(precision=0.8135593220338984, recall=0.25, fmeasure=0.38247011952191234), 'rougeL': Score(precision=0.8833333333333333, recall=0.27461139896373055, fmeasure=0.4189723320158102)}\n"
     ]
    },
    {
     "name": "stderr",
     "output_type": "stream",
     "text": [
      "INFO:absl:Using default tokenizer.\n"
     ]
    },
    {
     "name": "stdout",
     "output_type": "stream",
     "text": [
      "17 defense {'rouge1': Score(precision=0.9310344827586207, recall=0.3568281938325991, fmeasure=0.5159235668789809), 'rouge2': Score(precision=0.6744186046511628, recall=0.25663716814159293, fmeasure=0.3717948717948718), 'rougeL': Score(precision=0.7701149425287356, recall=0.29515418502202645, fmeasure=0.4267515923566879)}\n"
     ]
    },
    {
     "name": "stderr",
     "output_type": "stream",
     "text": [
      "INFO:absl:Using default tokenizer.\n"
     ]
    },
    {
     "name": "stdout",
     "output_type": "stream",
     "text": [
      "17 ao {'rouge1': Score(precision=0.8631578947368421, recall=0.3319838056680162, fmeasure=0.47953216374269003), 'rouge2': Score(precision=0.6063829787234043, recall=0.23170731707317074, fmeasure=0.33529411764705885), 'rougeL': Score(precision=0.6526315789473685, recall=0.25101214574898784, fmeasure=0.36257309941520466)}\n"
     ]
    },
    {
     "name": "stderr",
     "output_type": "stream",
     "text": [
      "INFO:absl:Using default tokenizer.\n"
     ]
    },
    {
     "name": "stdout",
     "output_type": "stream",
     "text": [
      "18 investor {'rouge1': Score(precision=0.975609756097561, recall=0.21164021164021163, fmeasure=0.34782608695652173), 'rouge2': Score(precision=0.775, recall=0.16489361702127658, fmeasure=0.27192982456140347), 'rougeL': Score(precision=0.9024390243902439, recall=0.19576719576719576, fmeasure=0.32173913043478264)}\n"
     ]
    },
    {
     "name": "stderr",
     "output_type": "stream",
     "text": [
      "INFO:absl:Using default tokenizer.\n"
     ]
    },
    {
     "name": "stdout",
     "output_type": "stream",
     "text": [
      "18 defense {'rouge1': Score(precision=0.5423728813559322, recall=0.12549019607843137, fmeasure=0.20382165605095542), 'rouge2': Score(precision=0.1206896551724138, recall=0.027559055118110236, fmeasure=0.04487179487179487), 'rougeL': Score(precision=0.3559322033898305, recall=0.08235294117647059, fmeasure=0.1337579617834395)}\n"
     ]
    },
    {
     "name": "stderr",
     "output_type": "stream",
     "text": [
      "INFO:absl:Using default tokenizer.\n"
     ]
    },
    {
     "name": "stdout",
     "output_type": "stream",
     "text": [
      "18 ao {'rouge1': Score(precision=1.0, recall=0.17829457364341086, fmeasure=0.3026315789473684), 'rouge2': Score(precision=0.8666666666666667, recall=0.1517509727626459, fmeasure=0.2582781456953643), 'rougeL': Score(precision=0.9565217391304348, recall=0.17054263565891473, fmeasure=0.2894736842105263)}\n"
     ]
    },
    {
     "name": "stderr",
     "output_type": "stream",
     "text": [
      "INFO:absl:Using default tokenizer.\n"
     ]
    },
    {
     "name": "stdout",
     "output_type": "stream",
     "text": [
      "19 investor {'rouge1': Score(precision=0.8863636363636364, recall=0.37320574162679426, fmeasure=0.5252525252525252), 'rouge2': Score(precision=0.7471264367816092, recall=0.3125, fmeasure=0.44067796610169485), 'rougeL': Score(precision=0.8181818181818182, recall=0.3444976076555024, fmeasure=0.4848484848484848)}\n"
     ]
    },
    {
     "name": "stderr",
     "output_type": "stream",
     "text": [
      "INFO:absl:Using default tokenizer.\n"
     ]
    },
    {
     "name": "stdout",
     "output_type": "stream",
     "text": [
      "19 defense {'rouge1': Score(precision=0.8658536585365854, recall=0.3380952380952381, fmeasure=0.4863013698630137), 'rouge2': Score(precision=0.6790123456790124, recall=0.2631578947368421, fmeasure=0.3793103448275862), 'rougeL': Score(precision=0.6707317073170732, recall=0.2619047619047619, fmeasure=0.3767123287671233)}\n"
     ]
    },
    {
     "name": "stderr",
     "output_type": "stream",
     "text": [
      "INFO:absl:Using default tokenizer.\n"
     ]
    },
    {
     "name": "stdout",
     "output_type": "stream",
     "text": [
      "19 ao {'rouge1': Score(precision=0.9101123595505618, recall=0.35064935064935066, fmeasure=0.5062500000000001), 'rouge2': Score(precision=0.75, recall=0.28695652173913044, fmeasure=0.4150943396226415), 'rougeL': Score(precision=0.7752808988764045, recall=0.2987012987012987, fmeasure=0.43125)}\n"
     ]
    },
    {
     "name": "stderr",
     "output_type": "stream",
     "text": [
      "INFO:absl:Using default tokenizer.\n"
     ]
    },
    {
     "name": "stdout",
     "output_type": "stream",
     "text": [
      "20 investor {'rouge1': Score(precision=0.9538461538461539, recall=0.2719298245614035, fmeasure=0.42320819112627983), 'rouge2': Score(precision=0.734375, recall=0.20704845814977973, fmeasure=0.3230240549828179), 'rougeL': Score(precision=0.8307692307692308, recall=0.23684210526315788, fmeasure=0.3686006825938567)}\n"
     ]
    },
    {
     "name": "stderr",
     "output_type": "stream",
     "text": [
      "INFO:absl:Using default tokenizer.\n"
     ]
    },
    {
     "name": "stdout",
     "output_type": "stream",
     "text": [
      "20 defense {'rouge1': Score(precision=0.98989898989899, recall=0.25925925925925924, fmeasure=0.4109014675052411), 'rouge2': Score(precision=0.8163265306122449, recall=0.21220159151193635, fmeasure=0.3368421052631579), 'rougeL': Score(precision=0.8181818181818182, recall=0.21428571428571427, fmeasure=0.33962264150943394)}\n"
     ]
    },
    {
     "name": "stderr",
     "output_type": "stream",
     "text": [
      "INFO:absl:Using default tokenizer.\n"
     ]
    },
    {
     "name": "stdout",
     "output_type": "stream",
     "text": [
      "20 ao {'rouge1': Score(precision=0.9230769230769231, recall=0.19047619047619047, fmeasure=0.31578947368421056), 'rouge2': Score(precision=0.703125, recall=0.14331210191082802, fmeasure=0.2380952380952381), 'rougeL': Score(precision=0.8307692307692308, recall=0.17142857142857143, fmeasure=0.28421052631578947)}\n"
     ]
    },
    {
     "name": "stderr",
     "output_type": "stream",
     "text": [
      "INFO:absl:Using default tokenizer.\n"
     ]
    },
    {
     "name": "stdout",
     "output_type": "stream",
     "text": [
      "21 investor {'rouge1': Score(precision=0.9609375, recall=0.5590909090909091, fmeasure=0.7068965517241379), 'rouge2': Score(precision=0.84251968503937, recall=0.4885844748858447, fmeasure=0.6184971098265896), 'rougeL': Score(precision=0.8125, recall=0.4727272727272727, fmeasure=0.5977011494252874)}\n"
     ]
    },
    {
     "name": "stderr",
     "output_type": "stream",
     "text": [
      "INFO:absl:Using default tokenizer.\n"
     ]
    },
    {
     "name": "stdout",
     "output_type": "stream",
     "text": [
      "21 defense {'rouge1': Score(precision=0.9365079365079365, recall=0.5339366515837104, fmeasure=0.6801152737752161), 'rouge2': Score(precision=0.792, recall=0.45, fmeasure=0.573913043478261), 'rougeL': Score(precision=0.8095238095238095, recall=0.46153846153846156, fmeasure=0.5878962536023055)}\n"
     ]
    },
    {
     "name": "stderr",
     "output_type": "stream",
     "text": [
      "INFO:absl:Using default tokenizer.\n"
     ]
    },
    {
     "name": "stdout",
     "output_type": "stream",
     "text": [
      "21 ao {'rouge1': Score(precision=0.9393939393939394, recall=0.45925925925925926, fmeasure=0.6169154228855722), 'rouge2': Score(precision=0.8015267175572519, recall=0.3903345724907063, fmeasure=0.525), 'rougeL': Score(precision=0.8484848484848485, recall=0.4148148148148148, fmeasure=0.5572139303482587)}\n"
     ]
    },
    {
     "name": "stderr",
     "output_type": "stream",
     "text": [
      "INFO:absl:Using default tokenizer.\n"
     ]
    },
    {
     "name": "stdout",
     "output_type": "stream",
     "text": [
      "22 investor {'rouge1': Score(precision=0.8163265306122449, recall=0.39215686274509803, fmeasure=0.5298013245033113), 'rouge2': Score(precision=0.625, recall=0.297029702970297, fmeasure=0.40268456375838924), 'rougeL': Score(precision=0.7959183673469388, recall=0.38235294117647056, fmeasure=0.5165562913907285)}\n"
     ]
    },
    {
     "name": "stderr",
     "output_type": "stream",
     "text": [
      "INFO:absl:Using default tokenizer.\n"
     ]
    },
    {
     "name": "stdout",
     "output_type": "stream",
     "text": [
      "22 defense {'rouge1': Score(precision=0.8666666666666667, recall=0.3786407766990291, fmeasure=0.527027027027027), 'rouge2': Score(precision=0.7045454545454546, recall=0.30392156862745096, fmeasure=0.42465753424657526), 'rougeL': Score(precision=0.8666666666666667, recall=0.3786407766990291, fmeasure=0.527027027027027)}\n"
     ]
    },
    {
     "name": "stderr",
     "output_type": "stream",
     "text": [
      "INFO:absl:Using default tokenizer.\n"
     ]
    },
    {
     "name": "stdout",
     "output_type": "stream",
     "text": [
      "22 ao {'rouge1': Score(precision=0.9148936170212766, recall=0.3233082706766917, fmeasure=0.47777777777777775), 'rouge2': Score(precision=0.7391304347826086, recall=0.25757575757575757, fmeasure=0.38202247191011235), 'rougeL': Score(precision=0.8085106382978723, recall=0.2857142857142857, fmeasure=0.4222222222222222)}\n"
     ]
    },
    {
     "name": "stderr",
     "output_type": "stream",
     "text": [
      "INFO:absl:Using default tokenizer.\n"
     ]
    },
    {
     "name": "stdout",
     "output_type": "stream",
     "text": [
      "23 investor {'rouge1': Score(precision=0.978494623655914, recall=0.38396624472573837, fmeasure=0.5515151515151515), 'rouge2': Score(precision=0.8260869565217391, recall=0.3220338983050847, fmeasure=0.4634146341463415), 'rougeL': Score(precision=0.8709677419354839, recall=0.34177215189873417, fmeasure=0.4909090909090909)}\n"
     ]
    },
    {
     "name": "stderr",
     "output_type": "stream",
     "text": [
      "INFO:absl:Using default tokenizer.\n"
     ]
    },
    {
     "name": "stdout",
     "output_type": "stream",
     "text": [
      "23 defense {'rouge1': Score(precision=0.967032967032967, recall=0.3697478991596639, fmeasure=0.5349544072948328), 'rouge2': Score(precision=0.8444444444444444, recall=0.3206751054852321, fmeasure=0.46483180428134563), 'rougeL': Score(precision=0.9120879120879121, recall=0.3487394957983193, fmeasure=0.5045592705167172)}\n"
     ]
    },
    {
     "name": "stderr",
     "output_type": "stream",
     "text": [
      "INFO:absl:Using default tokenizer.\n"
     ]
    },
    {
     "name": "stdout",
     "output_type": "stream",
     "text": [
      "23 ao {'rouge1': Score(precision=0.9595959595959596, recall=0.328719723183391, fmeasure=0.4896907216494845), 'rouge2': Score(precision=0.826530612244898, recall=0.28125, fmeasure=0.4196891191709845), 'rougeL': Score(precision=0.8787878787878788, recall=0.30103806228373703, fmeasure=0.44845360824742264)}\n"
     ]
    },
    {
     "name": "stderr",
     "output_type": "stream",
     "text": [
      "INFO:absl:Using default tokenizer.\n"
     ]
    },
    {
     "name": "stdout",
     "output_type": "stream",
     "text": [
      "24 investor {'rouge1': Score(precision=0.9791666666666666, recall=0.1902834008097166, fmeasure=0.31864406779661014), 'rouge2': Score(precision=0.8297872340425532, recall=0.15853658536585366, fmeasure=0.26621160409556316), 'rougeL': Score(precision=0.8125, recall=0.15789473684210525, fmeasure=0.2644067796610169)}\n"
     ]
    },
    {
     "name": "stderr",
     "output_type": "stream",
     "text": [
      "INFO:absl:Using default tokenizer.\n"
     ]
    },
    {
     "name": "stdout",
     "output_type": "stream",
     "text": [
      "24 defense {'rouge1': Score(precision=0.98, recall=0.1975806451612903, fmeasure=0.32885906040268453), 'rouge2': Score(precision=0.8571428571428571, recall=0.1700404858299595, fmeasure=0.28378378378378377), 'rougeL': Score(precision=0.76, recall=0.1532258064516129, fmeasure=0.2550335570469799)}\n"
     ]
    },
    {
     "name": "stderr",
     "output_type": "stream",
     "text": [
      "INFO:absl:Using default tokenizer.\n"
     ]
    },
    {
     "name": "stdout",
     "output_type": "stream",
     "text": [
      "24 ao {'rouge1': Score(precision=0.9333333333333333, recall=0.14788732394366197, fmeasure=0.25531914893617025), 'rouge2': Score(precision=0.75, recall=0.1166077738515901, fmeasure=0.2018348623853211), 'rougeL': Score(precision=0.8888888888888888, recall=0.14084507042253522, fmeasure=0.24316109422492402)}\n"
     ]
    },
    {
     "name": "stderr",
     "output_type": "stream",
     "text": [
      "INFO:absl:Using default tokenizer.\n"
     ]
    },
    {
     "name": "stdout",
     "output_type": "stream",
     "text": [
      "25 investor {'rouge1': Score(precision=0.9152542372881356, recall=0.453781512605042, fmeasure=0.6067415730337079), 'rouge2': Score(precision=0.7413793103448276, recall=0.3644067796610169, fmeasure=0.48863636363636365), 'rougeL': Score(precision=0.864406779661017, recall=0.42857142857142855, fmeasure=0.5730337078651685)}\n"
     ]
    },
    {
     "name": "stderr",
     "output_type": "stream",
     "text": [
      "INFO:absl:Using default tokenizer.\n"
     ]
    },
    {
     "name": "stdout",
     "output_type": "stream",
     "text": [
      "25 defense {'rouge1': Score(precision=0.9, recall=0.45, fmeasure=0.6), 'rouge2': Score(precision=0.7457627118644068, recall=0.3697478991596639, fmeasure=0.49438202247191015), 'rougeL': Score(precision=0.8666666666666667, recall=0.43333333333333335, fmeasure=0.5777777777777778)}\n"
     ]
    },
    {
     "name": "stderr",
     "output_type": "stream",
     "text": [
      "INFO:absl:Using default tokenizer.\n"
     ]
    },
    {
     "name": "stdout",
     "output_type": "stream",
     "text": [
      "25 ao {'rouge1': Score(precision=0.8809523809523809, recall=0.4277456647398844, fmeasure=0.575875486381323), 'rouge2': Score(precision=0.7108433734939759, recall=0.3430232558139535, fmeasure=0.4627450980392157), 'rougeL': Score(precision=0.7976190476190477, recall=0.3872832369942196, fmeasure=0.5214007782101168)}\n"
     ]
    },
    {
     "name": "stderr",
     "output_type": "stream",
     "text": [
      "INFO:absl:Using default tokenizer.\n"
     ]
    },
    {
     "name": "stdout",
     "output_type": "stream",
     "text": [
      "26 investor {'rouge1': Score(precision=0.864406779661017, recall=0.2350230414746544, fmeasure=0.3695652173913044), 'rouge2': Score(precision=0.6551724137931034, recall=0.17592592592592593, fmeasure=0.2773722627737226), 'rougeL': Score(precision=0.8305084745762712, recall=0.22580645161290322, fmeasure=0.35507246376811596)}\n"
     ]
    },
    {
     "name": "stderr",
     "output_type": "stream",
     "text": [
      "INFO:absl:Using default tokenizer.\n"
     ]
    },
    {
     "name": "stdout",
     "output_type": "stream",
     "text": [
      "26 defense {'rouge1': Score(precision=0.8333333333333334, recall=0.25229357798165136, fmeasure=0.3873239436619718), 'rouge2': Score(precision=0.6, recall=0.17972350230414746, fmeasure=0.2765957446808511), 'rougeL': Score(precision=0.7575757575757576, recall=0.22935779816513763, fmeasure=0.35211267605633806)}\n"
     ]
    },
    {
     "name": "stderr",
     "output_type": "stream",
     "text": [
      "INFO:absl:Using default tokenizer.\n"
     ]
    },
    {
     "name": "stdout",
     "output_type": "stream",
     "text": [
      "26 ao {'rouge1': Score(precision=0.8450704225352113, recall=0.22641509433962265, fmeasure=0.35714285714285715), 'rouge2': Score(precision=0.6, recall=0.1590909090909091, fmeasure=0.25149700598802394), 'rougeL': Score(precision=0.7605633802816901, recall=0.2037735849056604, fmeasure=0.3214285714285714)}\n"
     ]
    },
    {
     "name": "stderr",
     "output_type": "stream",
     "text": [
      "INFO:absl:Using default tokenizer.\n"
     ]
    },
    {
     "name": "stdout",
     "output_type": "stream",
     "text": [
      "27 investor {'rouge1': Score(precision=0.9390243902439024, recall=0.5032679738562091, fmeasure=0.6553191489361702), 'rouge2': Score(precision=0.6790123456790124, recall=0.3618421052631579, fmeasure=0.47210300429184554), 'rougeL': Score(precision=0.8658536585365854, recall=0.46405228758169936, fmeasure=0.6042553191489363)}\n"
     ]
    },
    {
     "name": "stderr",
     "output_type": "stream",
     "text": [
      "INFO:absl:Using default tokenizer.\n"
     ]
    },
    {
     "name": "stdout",
     "output_type": "stream",
     "text": [
      "27 defense {'rouge1': Score(precision=0.9315068493150684, recall=0.44155844155844154, fmeasure=0.5991189427312775), 'rouge2': Score(precision=0.6805555555555556, recall=0.3202614379084967, fmeasure=0.43555555555555553), 'rougeL': Score(precision=0.8767123287671232, recall=0.4155844155844156, fmeasure=0.5638766519823788)}\n"
     ]
    },
    {
     "name": "stderr",
     "output_type": "stream",
     "text": [
      "INFO:absl:Using default tokenizer.\n"
     ]
    },
    {
     "name": "stdout",
     "output_type": "stream",
     "text": [
      "27 ao {'rouge1': Score(precision=0.945054945054945, recall=0.4321608040201005, fmeasure=0.5931034482758619), 'rouge2': Score(precision=0.7333333333333333, recall=0.3333333333333333, fmeasure=0.45833333333333326), 'rougeL': Score(precision=0.8901098901098901, recall=0.40703517587939697, fmeasure=0.5586206896551724)}\n"
     ]
    },
    {
     "name": "stderr",
     "output_type": "stream",
     "text": [
      "INFO:absl:Using default tokenizer.\n"
     ]
    },
    {
     "name": "stdout",
     "output_type": "stream",
     "text": [
      "28 investor {'rouge1': Score(precision=0.8837209302325582, recall=0.15767634854771784, fmeasure=0.2676056338028169), 'rouge2': Score(precision=0.6904761904761905, recall=0.12083333333333333, fmeasure=0.20567375886524822), 'rougeL': Score(precision=0.813953488372093, recall=0.14522821576763487, fmeasure=0.24647887323943662)}\n"
     ]
    },
    {
     "name": "stderr",
     "output_type": "stream",
     "text": [
      "INFO:absl:Using default tokenizer.\n"
     ]
    },
    {
     "name": "stdout",
     "output_type": "stream",
     "text": [
      "28 defense {'rouge1': Score(precision=0.8958333333333334, recall=0.17768595041322313, fmeasure=0.296551724137931), 'rouge2': Score(precision=0.6808510638297872, recall=0.13278008298755187, fmeasure=0.22222222222222224), 'rougeL': Score(precision=0.8125, recall=0.16115702479338842, fmeasure=0.2689655172413793)}\n"
     ]
    },
    {
     "name": "stderr",
     "output_type": "stream",
     "text": [
      "INFO:absl:Using default tokenizer.\n"
     ]
    },
    {
     "name": "stdout",
     "output_type": "stream",
     "text": [
      "28 ao {'rouge1': Score(precision=1.0, recall=0.12084592145015106, fmeasure=0.21563342318059298), 'rouge2': Score(precision=0.8974358974358975, recall=0.10606060606060606, fmeasure=0.1897018970189702), 'rougeL': Score(precision=1.0, recall=0.12084592145015106, fmeasure=0.21563342318059298)}\n"
     ]
    },
    {
     "name": "stderr",
     "output_type": "stream",
     "text": [
      "INFO:absl:Using default tokenizer.\n"
     ]
    },
    {
     "name": "stdout",
     "output_type": "stream",
     "text": [
      "29 investor {'rouge1': Score(precision=0.8041237113402062, recall=0.4508670520231214, fmeasure=0.5777777777777778), 'rouge2': Score(precision=0.5625, recall=0.313953488372093, fmeasure=0.40298507462686567), 'rougeL': Score(precision=0.5979381443298969, recall=0.3352601156069364, fmeasure=0.4296296296296296)}\n"
     ]
    },
    {
     "name": "stderr",
     "output_type": "stream",
     "text": [
      "INFO:absl:Using default tokenizer.\n"
     ]
    },
    {
     "name": "stdout",
     "output_type": "stream",
     "text": [
      "29 defense {'rouge1': Score(precision=0.8163265306122449, recall=0.45977011494252873, fmeasure=0.5882352941176471), 'rouge2': Score(precision=0.5670103092783505, recall=0.3179190751445087, fmeasure=0.4074074074074074), 'rougeL': Score(precision=0.6020408163265306, recall=0.3390804597701149, fmeasure=0.43382352941176466)}\n"
     ]
    },
    {
     "name": "stderr",
     "output_type": "stream",
     "text": [
      "INFO:absl:Using default tokenizer.\n"
     ]
    },
    {
     "name": "stdout",
     "output_type": "stream",
     "text": [
      "29 ao {'rouge1': Score(precision=0.8333333333333334, recall=0.44871794871794873, fmeasure=0.5833333333333333), 'rouge2': Score(precision=0.624, recall=0.33476394849785407, fmeasure=0.43575418994413406), 'rougeL': Score(precision=0.6666666666666666, recall=0.358974358974359, fmeasure=0.4666666666666667)}\n"
     ]
    },
    {
     "name": "stderr",
     "output_type": "stream",
     "text": [
      "INFO:absl:Using default tokenizer.\n"
     ]
    },
    {
     "name": "stdout",
     "output_type": "stream",
     "text": [
      "30 investor {'rouge1': Score(precision=0.8958333333333334, recall=0.2721518987341772, fmeasure=0.4174757281553398), 'rouge2': Score(precision=0.6170212765957447, recall=0.18471337579617833, fmeasure=0.28431372549019607), 'rougeL': Score(precision=0.8541666666666666, recall=0.25949367088607594, fmeasure=0.39805825242718446)}\n"
     ]
    },
    {
     "name": "stderr",
     "output_type": "stream",
     "text": [
      "INFO:absl:Using default tokenizer.\n"
     ]
    },
    {
     "name": "stdout",
     "output_type": "stream",
     "text": [
      "30 defense {'rouge1': Score(precision=0.75, recall=0.3018867924528302, fmeasure=0.4304932735426009), 'rouge2': Score(precision=0.47619047619047616, recall=0.189873417721519, fmeasure=0.27149321266968324), 'rougeL': Score(precision=0.65625, recall=0.2641509433962264, fmeasure=0.3766816143497758)}\n"
     ]
    },
    {
     "name": "stderr",
     "output_type": "stream",
     "text": [
      "INFO:absl:Using default tokenizer.\n"
     ]
    },
    {
     "name": "stdout",
     "output_type": "stream",
     "text": [
      "30 ao {'rouge1': Score(precision=0.8852459016393442, recall=0.2755102040816326, fmeasure=0.42023346303501935), 'rouge2': Score(precision=0.6333333333333333, recall=0.19487179487179487, fmeasure=0.2980392156862745), 'rougeL': Score(precision=0.8524590163934426, recall=0.2653061224489796, fmeasure=0.40466926070038917)}\n"
     ]
    },
    {
     "name": "stderr",
     "output_type": "stream",
     "text": [
      "INFO:absl:Using default tokenizer.\n"
     ]
    },
    {
     "name": "stdout",
     "output_type": "stream",
     "text": [
      "31 investor {'rouge1': Score(precision=1.0, recall=0.25609756097560976, fmeasure=0.4077669902912621), 'rouge2': Score(precision=0.8536585365853658, recall=0.2147239263803681, fmeasure=0.3431372549019608), 'rougeL': Score(precision=1.0, recall=0.25609756097560976, fmeasure=0.4077669902912621)}\n"
     ]
    },
    {
     "name": "stderr",
     "output_type": "stream",
     "text": [
      "INFO:absl:Using default tokenizer.\n"
     ]
    },
    {
     "name": "stdout",
     "output_type": "stream",
     "text": [
      "31 defense {'rouge1': Score(precision=1.0, recall=0.2545454545454545, fmeasure=0.4057971014492754), 'rouge2': Score(precision=0.8536585365853658, recall=0.21341463414634146, fmeasure=0.3414634146341463), 'rougeL': Score(precision=1.0, recall=0.2545454545454545, fmeasure=0.4057971014492754)}\n"
     ]
    },
    {
     "name": "stderr",
     "output_type": "stream",
     "text": [
      "INFO:absl:Using default tokenizer.\n"
     ]
    },
    {
     "name": "stdout",
     "output_type": "stream",
     "text": [
      "31 ao {'rouge1': Score(precision=1.0, recall=0.2131979695431472, fmeasure=0.35146443514644354), 'rouge2': Score(precision=0.8536585365853658, recall=0.17857142857142858, fmeasure=0.29535864978902954), 'rougeL': Score(precision=1.0, recall=0.2131979695431472, fmeasure=0.35146443514644354)}\n"
     ]
    },
    {
     "name": "stderr",
     "output_type": "stream",
     "text": [
      "INFO:absl:Using default tokenizer.\n"
     ]
    },
    {
     "name": "stdout",
     "output_type": "stream",
     "text": [
      "32 investor {'rouge1': Score(precision=0.8461538461538461, recall=0.31976744186046513, fmeasure=0.46413502109704646), 'rouge2': Score(precision=0.640625, recall=0.23976608187134502, fmeasure=0.34893617021276596), 'rougeL': Score(precision=0.7384615384615385, recall=0.27906976744186046, fmeasure=0.4050632911392405)}\n"
     ]
    },
    {
     "name": "stderr",
     "output_type": "stream",
     "text": [
      "INFO:absl:Using default tokenizer.\n"
     ]
    },
    {
     "name": "stdout",
     "output_type": "stream",
     "text": [
      "32 defense {'rouge1': Score(precision=0.8333333333333334, recall=0.3179190751445087, fmeasure=0.4602510460251046), 'rouge2': Score(precision=0.6307692307692307, recall=0.23837209302325582, fmeasure=0.3459915611814346), 'rougeL': Score(precision=0.7272727272727273, recall=0.2774566473988439, fmeasure=0.40167364016736395)}\n"
     ]
    },
    {
     "name": "stderr",
     "output_type": "stream",
     "text": [
      "INFO:absl:Using default tokenizer.\n"
     ]
    },
    {
     "name": "stdout",
     "output_type": "stream",
     "text": [
      "32 ao {'rouge1': Score(precision=0.9102564102564102, recall=0.3271889400921659, fmeasure=0.4813559322033899), 'rouge2': Score(precision=0.6883116883116883, recall=0.24537037037037038, fmeasure=0.36177474402730375), 'rougeL': Score(precision=0.8076923076923077, recall=0.2903225806451613, fmeasure=0.42711864406779665)}\n"
     ]
    },
    {
     "name": "stderr",
     "output_type": "stream",
     "text": [
      "INFO:absl:Using default tokenizer.\n"
     ]
    },
    {
     "name": "stdout",
     "output_type": "stream",
     "text": [
      "33 investor {'rouge1': Score(precision=0.9152542372881356, recall=0.4153846153846154, fmeasure=0.5714285714285714), 'rouge2': Score(precision=0.6724137931034483, recall=0.3023255813953488, fmeasure=0.41711229946524064), 'rougeL': Score(precision=0.8813559322033898, recall=0.4, fmeasure=0.5502645502645502)}\n"
     ]
    },
    {
     "name": "stderr",
     "output_type": "stream",
     "text": [
      "INFO:absl:Using default tokenizer.\n"
     ]
    },
    {
     "name": "stdout",
     "output_type": "stream",
     "text": [
      "33 defense {'rouge1': Score(precision=0.8484848484848485, recall=0.42748091603053434, fmeasure=0.5685279187817258), 'rouge2': Score(precision=0.6153846153846154, recall=0.3076923076923077, fmeasure=0.4102564102564103), 'rougeL': Score(precision=0.803030303030303, recall=0.40458015267175573, fmeasure=0.5380710659898478)}\n"
     ]
    },
    {
     "name": "stderr",
     "output_type": "stream",
     "text": [
      "INFO:absl:Using default tokenizer.\n"
     ]
    },
    {
     "name": "stdout",
     "output_type": "stream",
     "text": [
      "33 ao {'rouge1': Score(precision=0.9154929577464789, recall=0.38922155688622756, fmeasure=0.546218487394958), 'rouge2': Score(precision=0.6714285714285714, recall=0.28313253012048195, fmeasure=0.3983050847457627), 'rougeL': Score(precision=0.8732394366197183, recall=0.3712574850299401, fmeasure=0.5210084033613445)}\n"
     ]
    }
   ],
   "source": [
    "loc = [\"investor\", \"defense\", \"ao\"]\n",
    "\n",
    "count = 0\n",
    "flag = 0\n",
    "\n",
    "# rouge_list = [[[], [], []], [[], [], []], [[], [], []]]\n",
    "rouge_list = [[], [], []]\n",
    "\n",
    "for i in data.iterrows():\n",
    "    count+=1\n",
    "    if i[1][0]==\"1315460000000_\":\n",
    "        flag = 1\n",
    "    for j in range(len(loc)):\n",
    "        if loc[j]==\"investor\":\n",
    "            if not flag:\n",
    "                article = str(i[1][1]) + \" \" + str(i[1][3])\n",
    "            else:\n",
    "                article = str(i[1][1]) + \" \" + str(i[1][2]) + \" \" + str(i[1][3])\n",
    "        elif loc[j]==\"defense\":\n",
    "            article = str(i[1][1]) + \" \" + str(i[1][2]) + \" \" + str(i[1][4]) + \" \" + str(i[1][3])\n",
    "        elif loc[j]==\"ao\":\n",
    "            article = str(i[1][1]) + \" \" + str(i[1][2]) + \" \" + str(i[1][5])\n",
    "            if not flag:\n",
    "                article += \" \" + str(i[1][3])\n",
    "        article = re.sub(\" +\", \" \", article)\n",
    "        article = re.sub(\" rs\\. \", \" rs \", article)\n",
    "        article = re.sub(\" Rs\\. \", \" Rs \", article)\n",
    "        article = re.sub(\" Mrs\\. \", \" Mrs\", article)\n",
    "        article = re.sub(\" Mr\\. \", \" Mr\", article)\n",
    "        article = re.sub(\" Ltd\\. \", \" Ltd \", article)\n",
    "        with open(\"./annot_data/\" + str(loc[j]) + \"/\" + str(i[1][0]) + \".txt\", \"w+\", encoding=\"utf-8\") as f:\n",
    "            f.write(re.sub(\"\\. \", \".\\n\", article))\n",
    "            f.close()\n",
    "        pre = article.split(\". \")\n",
    "        out = \"\"\n",
    "        for x in range(0, len(pre), 3):\n",
    "            inputs = tokenizer([\" \".join(pre[x:x+3])], max_length=max_length, return_tensors=\"pt\", truncation=True)\n",
    "            summary_ids = model.generate(inputs[\"input_ids\"])\n",
    "            curr = tokenizer.batch_decode(summary_ids, skip_special_tokens=True, clean_up_tokenization_spaces=False)[0]\n",
    "            curr = curr.replace(u'\\xa0', u' ')\n",
    "            curr = re.sub(\" +\", \" \", curr)\n",
    "            curr = re.sub(\" Rs\\. \", \" Rs \", curr)\n",
    "            curr = re.sub(\" rs\\. \", \" rs \", curr)\n",
    "            curr = re.sub(\" Mrs\\. \", \" Mrs \", curr)\n",
    "            curr = re.sub(\" Mr\\. \", \" Mr \", curr)\n",
    "            curr = re.sub(\" Ltd\\. \", \" Ltd \", curr)\n",
    "            if len(pre)-x<3:\n",
    "                curr = \". \".join(curr.split(\". \")[:len(pre)-x])\n",
    "            out += \" \" + curr\n",
    "        out = out.replace(u'\\xa0', u' ')\n",
    "        summ = re.sub(\" +\", \" \", out)\n",
    "        with open(\"./annot_out/\" + str(loc[j]) + \"/out_\" + str(i[1][0]) + \".txt\", \"w+\", encoding=\"utf-8\") as f:\n",
    "            f.write(re.sub(\"\\. \", \".\\n\", summ))\n",
    "            f.close()\n",
    "        scorer = rouge_scorer.RougeScorer(['rouge1', 'rouge2', 'rougeL'], use_stemmer=True)\n",
    "        scores = scorer.score(article, summ)\n",
    "        rouge_list[j].append(scores)\n",
    "        print(count, loc[j], scores)"
   ]
  },
  {
   "cell_type": "code",
   "execution_count": 167,
   "metadata": {},
   "outputs": [],
   "source": [
    "loc = [\"investor\", \"defense\", \"ao\"]\n",
    "\n",
    "rouge_list = np.zeros(3)\n",
    "\n",
    "count = 0\n",
    "\n",
    "for i in data.iterrows():\n",
    "    count +=1 \n",
    "    for j in range(len(loc)):\n",
    "        if loc[j]==\"investor\":\n",
    "            ref = str(i[1][6])\n",
    "        elif loc[j]==\"defense\":\n",
    "            ref = str(i[1][7])\n",
    "        else:\n",
    "            ref = str(i[1][8])\n",
    "        with open(\"./annot_ref/\"+loc[j]+\"/ref_\"+str(i[1][0])+\".txt\", \"w+\", encoding=\"utf-8\") as f:\n",
    "            f.write(ref)\n",
    "            f.close()\n",
    "        # with open(\"./pipe_annot_out/\"+loc[j]+\"/out_\"+str(i[1][0])+\".txt\", encoding=\"utf-8\") as f:\n",
    "        #     summ = f.read()\n",
    "        #     summ = \" \".join(summ.split(\"\\n\"))\n",
    "        # scorer = rouge_scorer.RougeScorer(['rouge1', 'rouge2', 'rougeL'], use_stemmer=True)\n",
    "        # scores = scorer.score(summ, ref)\n",
    "        # rouge_list[0]+=scores['rouge1'][2]\n",
    "        # rouge_list[1]+=scores['rouge2'][2]\n",
    "        # rouge_list[2]+=scores['rougeL'][2]\n",
    "        # print(count, loc[j], scorer.score(summ, ref), scorer.score(ref, summ))\n",
    "\n",
    "# pipe_annot_out [0.45419966 0.27147896 0.34998784]\n",
    "# annot_out [0.40752874 0.24601638 0.32188257]"
   ]
  },
  {
   "cell_type": "code",
   "execution_count": 163,
   "metadata": {},
   "outputs": [
    {
     "name": "stdout",
     "output_type": "stream",
     "text": [
      "[0.45419966 0.27147896 0.34998784]\n"
     ]
    }
   ],
   "source": [
    "print(rouge_list/99)"
   ]
  },
  {
   "cell_type": "code",
   "execution_count": 173,
   "metadata": {},
   "outputs": [
    {
     "name": "stderr",
     "output_type": "stream",
     "text": [
      "INFO:absl:Using default tokenizer.\n"
     ]
    },
    {
     "name": "stdout",
     "output_type": "stream",
     "text": [
      "1 investor {'rouge1': Score(precision=1.0, recall=0.13043478260869565, fmeasure=0.23076923076923078), 'rouge2': Score(precision=1.0, recall=0.11764705882352941, fmeasure=0.21052631578947367), 'rougeL': Score(precision=1.0, recall=0.13043478260869565, fmeasure=0.23076923076923078)}\n"
     ]
    },
    {
     "name": "stderr",
     "output_type": "stream",
     "text": [
      "INFO:absl:Using default tokenizer.\n"
     ]
    },
    {
     "name": "stdout",
     "output_type": "stream",
     "text": [
      "1 defense {'rouge1': Score(precision=0.9, recall=0.04864864864864865, fmeasure=0.09230769230769231), 'rouge2': Score(precision=0.8888888888888888, recall=0.043478260869565216, fmeasure=0.08290155440414508), 'rougeL': Score(precision=0.9, recall=0.04864864864864865, fmeasure=0.09230769230769231)}\n"
     ]
    },
    {
     "name": "stderr",
     "output_type": "stream",
     "text": [
      "INFO:absl:Using default tokenizer.\n"
     ]
    },
    {
     "name": "stdout",
     "output_type": "stream",
     "text": [
      "1 ao {'rouge1': Score(precision=1.0, recall=0.054455445544554455, fmeasure=0.10328638497652581), 'rouge2': Score(precision=0.9, recall=0.04477611940298507, fmeasure=0.08530805687203791), 'rougeL': Score(precision=1.0, recall=0.054455445544554455, fmeasure=0.10328638497652581)}\n"
     ]
    },
    {
     "name": "stderr",
     "output_type": "stream",
     "text": [
      "INFO:absl:Using default tokenizer.\n"
     ]
    },
    {
     "name": "stdout",
     "output_type": "stream",
     "text": [
      "2 investor {'rouge1': Score(precision=1.0, recall=0.1411764705882353, fmeasure=0.24742268041237114), 'rouge2': Score(precision=1.0, recall=0.13095238095238096, fmeasure=0.23157894736842108), 'rougeL': Score(precision=1.0, recall=0.1411764705882353, fmeasure=0.24742268041237114)}\n"
     ]
    },
    {
     "name": "stderr",
     "output_type": "stream",
     "text": [
      "INFO:absl:Using default tokenizer.\n"
     ]
    },
    {
     "name": "stdout",
     "output_type": "stream",
     "text": [
      "2 defense {'rouge1': Score(precision=1.0, recall=0.07894736842105263, fmeasure=0.14634146341463414), 'rouge2': Score(precision=1.0, recall=0.0728476821192053, fmeasure=0.13580246913580246), 'rougeL': Score(precision=1.0, recall=0.07894736842105263, fmeasure=0.14634146341463414)}\n"
     ]
    },
    {
     "name": "stderr",
     "output_type": "stream",
     "text": [
      "INFO:absl:Using default tokenizer.\n"
     ]
    },
    {
     "name": "stdout",
     "output_type": "stream",
     "text": [
      "2 ao {'rouge1': Score(precision=1.0, recall=0.07228915662650602, fmeasure=0.1348314606741573), 'rouge2': Score(precision=1.0, recall=0.06666666666666667, fmeasure=0.125), 'rougeL': Score(precision=1.0, recall=0.07228915662650602, fmeasure=0.1348314606741573)}\n"
     ]
    },
    {
     "name": "stderr",
     "output_type": "stream",
     "text": [
      "INFO:absl:Using default tokenizer.\n"
     ]
    },
    {
     "name": "stdout",
     "output_type": "stream",
     "text": [
      "3 investor {'rouge1': Score(precision=1.0, recall=0.07042253521126761, fmeasure=0.13157894736842107), 'rouge2': Score(precision=1.0, recall=0.06382978723404255, fmeasure=0.12), 'rougeL': Score(precision=1.0, recall=0.07042253521126761, fmeasure=0.13157894736842107)}\n"
     ]
    },
    {
     "name": "stderr",
     "output_type": "stream",
     "text": [
      "INFO:absl:Using default tokenizer.\n"
     ]
    },
    {
     "name": "stdout",
     "output_type": "stream",
     "text": [
      "3 defense {'rouge1': Score(precision=1.0, recall=0.0423728813559322, fmeasure=0.0813008130081301), 'rouge2': Score(precision=1.0, recall=0.03829787234042553, fmeasure=0.07377049180327869), 'rougeL': Score(precision=1.0, recall=0.0423728813559322, fmeasure=0.0813008130081301)}\n"
     ]
    },
    {
     "name": "stderr",
     "output_type": "stream",
     "text": [
      "INFO:absl:Using default tokenizer.\n"
     ]
    },
    {
     "name": "stdout",
     "output_type": "stream",
     "text": [
      "3 ao {'rouge1': Score(precision=1.0, recall=0.0423728813559322, fmeasure=0.0813008130081301), 'rouge2': Score(precision=1.0, recall=0.03829787234042553, fmeasure=0.07377049180327869), 'rougeL': Score(precision=1.0, recall=0.0423728813559322, fmeasure=0.0813008130081301)}\n"
     ]
    },
    {
     "name": "stderr",
     "output_type": "stream",
     "text": [
      "INFO:absl:Using default tokenizer.\n"
     ]
    },
    {
     "name": "stdout",
     "output_type": "stream",
     "text": [
      "4 investor {'rouge1': Score(precision=1.0, recall=0.06666666666666667, fmeasure=0.125), 'rouge2': Score(precision=1.0, recall=0.05970149253731343, fmeasure=0.11267605633802817), 'rougeL': Score(precision=1.0, recall=0.06666666666666667, fmeasure=0.125)}\n"
     ]
    },
    {
     "name": "stderr",
     "output_type": "stream",
     "text": [
      "INFO:absl:Using default tokenizer.\n"
     ]
    },
    {
     "name": "stdout",
     "output_type": "stream",
     "text": [
      "4 defense {'rouge1': Score(precision=1.0, recall=0.0371900826446281, fmeasure=0.07171314741035857), 'rouge2': Score(precision=1.0, recall=0.03319502074688797, fmeasure=0.0642570281124498), 'rougeL': Score(precision=1.0, recall=0.0371900826446281, fmeasure=0.07171314741035857)}\n"
     ]
    },
    {
     "name": "stderr",
     "output_type": "stream",
     "text": [
      "INFO:absl:Using default tokenizer.\n"
     ]
    },
    {
     "name": "stdout",
     "output_type": "stream",
     "text": [
      "4 ao {'rouge1': Score(precision=1.0, recall=0.0371900826446281, fmeasure=0.07171314741035857), 'rouge2': Score(precision=1.0, recall=0.03319502074688797, fmeasure=0.0642570281124498), 'rougeL': Score(precision=1.0, recall=0.0371900826446281, fmeasure=0.07171314741035857)}\n"
     ]
    },
    {
     "name": "stderr",
     "output_type": "stream",
     "text": [
      "INFO:absl:Using default tokenizer.\n"
     ]
    },
    {
     "name": "stdout",
     "output_type": "stream",
     "text": [
      "5 investor {'rouge1': Score(precision=1.0, recall=0.2, fmeasure=0.33333333333333337), 'rouge2': Score(precision=1.0, recall=0.1891891891891892, fmeasure=0.3181818181818182), 'rougeL': Score(precision=1.0, recall=0.2, fmeasure=0.33333333333333337)}\n"
     ]
    },
    {
     "name": "stderr",
     "output_type": "stream",
     "text": [
      "INFO:absl:Using default tokenizer.\n"
     ]
    },
    {
     "name": "stdout",
     "output_type": "stream",
     "text": [
      "5 defense {'rouge1': Score(precision=1.0, recall=0.0635593220338983, fmeasure=0.1195219123505976), 'rouge2': Score(precision=1.0, recall=0.059574468085106386, fmeasure=0.11244979919678715), 'rougeL': Score(precision=1.0, recall=0.0635593220338983, fmeasure=0.1195219123505976)}\n"
     ]
    },
    {
     "name": "stderr",
     "output_type": "stream",
     "text": [
      "INFO:absl:Using default tokenizer.\n"
     ]
    },
    {
     "name": "stdout",
     "output_type": "stream",
     "text": [
      "5 ao {'rouge1': Score(precision=1.0, recall=0.0635593220338983, fmeasure=0.1195219123505976), 'rouge2': Score(precision=1.0, recall=0.059574468085106386, fmeasure=0.11244979919678715), 'rougeL': Score(precision=1.0, recall=0.0635593220338983, fmeasure=0.1195219123505976)}\n"
     ]
    },
    {
     "name": "stderr",
     "output_type": "stream",
     "text": [
      "INFO:absl:Using default tokenizer.\n"
     ]
    },
    {
     "name": "stdout",
     "output_type": "stream",
     "text": [
      "6 investor {'rouge1': Score(precision=1.0, recall=0.12037037037037036, fmeasure=0.21487603305785122), 'rouge2': Score(precision=1.0, recall=0.11214953271028037, fmeasure=0.20168067226890757), 'rougeL': Score(precision=1.0, recall=0.12037037037037036, fmeasure=0.21487603305785122)}\n"
     ]
    },
    {
     "name": "stderr",
     "output_type": "stream",
     "text": [
      "INFO:absl:Using default tokenizer.\n"
     ]
    },
    {
     "name": "stdout",
     "output_type": "stream",
     "text": [
      "6 defense {'rouge1': Score(precision=1.0, recall=0.104, fmeasure=0.18840579710144925), 'rouge2': Score(precision=1.0, recall=0.0967741935483871, fmeasure=0.17647058823529413), 'rougeL': Score(precision=1.0, recall=0.104, fmeasure=0.18840579710144925)}\n"
     ]
    },
    {
     "name": "stderr",
     "output_type": "stream",
     "text": [
      "INFO:absl:Using default tokenizer.\n"
     ]
    },
    {
     "name": "stdout",
     "output_type": "stream",
     "text": [
      "6 ao {'rouge1': Score(precision=1.0, recall=0.104, fmeasure=0.18840579710144925), 'rouge2': Score(precision=1.0, recall=0.0967741935483871, fmeasure=0.17647058823529413), 'rougeL': Score(precision=1.0, recall=0.104, fmeasure=0.18840579710144925)}\n"
     ]
    },
    {
     "name": "stderr",
     "output_type": "stream",
     "text": [
      "INFO:absl:Using default tokenizer.\n"
     ]
    },
    {
     "name": "stdout",
     "output_type": "stream",
     "text": [
      "7 investor {'rouge1': Score(precision=1.0, recall=0.17073170731707318, fmeasure=0.2916666666666667), 'rouge2': Score(precision=1.0, recall=0.16049382716049382, fmeasure=0.276595744680851), 'rougeL': Score(precision=1.0, recall=0.17073170731707318, fmeasure=0.2916666666666667)}\n"
     ]
    },
    {
     "name": "stderr",
     "output_type": "stream",
     "text": [
      "INFO:absl:Using default tokenizer.\n"
     ]
    },
    {
     "name": "stdout",
     "output_type": "stream",
     "text": [
      "7 defense {'rouge1': Score(precision=1.0, recall=0.1037037037037037, fmeasure=0.18791946308724833), 'rouge2': Score(precision=1.0, recall=0.09701492537313433, fmeasure=0.17687074829931973), 'rougeL': Score(precision=1.0, recall=0.1037037037037037, fmeasure=0.18791946308724833)}\n"
     ]
    },
    {
     "name": "stderr",
     "output_type": "stream",
     "text": [
      "INFO:absl:Using default tokenizer.\n"
     ]
    },
    {
     "name": "stdout",
     "output_type": "stream",
     "text": [
      "7 ao {'rouge1': Score(precision=1.0, recall=0.1037037037037037, fmeasure=0.18791946308724833), 'rouge2': Score(precision=1.0, recall=0.09701492537313433, fmeasure=0.17687074829931973), 'rougeL': Score(precision=1.0, recall=0.1037037037037037, fmeasure=0.18791946308724833)}\n"
     ]
    },
    {
     "name": "stderr",
     "output_type": "stream",
     "text": [
      "INFO:absl:Using default tokenizer.\n"
     ]
    },
    {
     "name": "stdout",
     "output_type": "stream",
     "text": [
      "8 investor {'rouge1': Score(precision=1.0, recall=0.12962962962962962, fmeasure=0.22950819672131148), 'rouge2': Score(precision=1.0, recall=0.12149532710280374, fmeasure=0.21666666666666667), 'rougeL': Score(precision=1.0, recall=0.12962962962962962, fmeasure=0.22950819672131148)}\n"
     ]
    },
    {
     "name": "stderr",
     "output_type": "stream",
     "text": [
      "INFO:absl:Using default tokenizer.\n"
     ]
    },
    {
     "name": "stdout",
     "output_type": "stream",
     "text": [
      "8 defense {'rouge1': Score(precision=1.0, recall=0.11965811965811966, fmeasure=0.21374045801526717), 'rouge2': Score(precision=1.0, recall=0.11206896551724138, fmeasure=0.20155038759689925), 'rougeL': Score(precision=1.0, recall=0.11965811965811966, fmeasure=0.21374045801526717)}\n"
     ]
    },
    {
     "name": "stderr",
     "output_type": "stream",
     "text": [
      "INFO:absl:Using default tokenizer.\n"
     ]
    },
    {
     "name": "stdout",
     "output_type": "stream",
     "text": [
      "8 ao {'rouge1': Score(precision=1.0, recall=0.11965811965811966, fmeasure=0.21374045801526717), 'rouge2': Score(precision=1.0, recall=0.11206896551724138, fmeasure=0.20155038759689925), 'rougeL': Score(precision=1.0, recall=0.11965811965811966, fmeasure=0.21374045801526717)}\n"
     ]
    },
    {
     "name": "stderr",
     "output_type": "stream",
     "text": [
      "INFO:absl:Using default tokenizer.\n"
     ]
    },
    {
     "name": "stdout",
     "output_type": "stream",
     "text": [
      "9 investor {'rouge1': Score(precision=1.0, recall=0.1935483870967742, fmeasure=0.3243243243243243), 'rouge2': Score(precision=1.0, recall=0.18032786885245902, fmeasure=0.3055555555555556), 'rougeL': Score(precision=1.0, recall=0.1935483870967742, fmeasure=0.3243243243243243)}\n"
     ]
    },
    {
     "name": "stderr",
     "output_type": "stream",
     "text": [
      "INFO:absl:Using default tokenizer.\n"
     ]
    },
    {
     "name": "stdout",
     "output_type": "stream",
     "text": [
      "9 defense {'rouge1': Score(precision=1.0, recall=0.05714285714285714, fmeasure=0.1081081081081081), 'rouge2': Score(precision=1.0, recall=0.05263157894736842, fmeasure=0.1), 'rougeL': Score(precision=1.0, recall=0.05714285714285714, fmeasure=0.1081081081081081)}\n"
     ]
    },
    {
     "name": "stderr",
     "output_type": "stream",
     "text": [
      "INFO:absl:Using default tokenizer.\n"
     ]
    },
    {
     "name": "stdout",
     "output_type": "stream",
     "text": [
      "9 ao {'rouge1': Score(precision=1.0, recall=0.05714285714285714, fmeasure=0.1081081081081081), 'rouge2': Score(precision=1.0, recall=0.05263157894736842, fmeasure=0.1), 'rougeL': Score(precision=1.0, recall=0.05714285714285714, fmeasure=0.1081081081081081)}\n"
     ]
    },
    {
     "name": "stderr",
     "output_type": "stream",
     "text": [
      "INFO:absl:Using default tokenizer.\n"
     ]
    },
    {
     "name": "stdout",
     "output_type": "stream",
     "text": [
      "10 investor {'rouge1': Score(precision=1.0, recall=0.10679611650485436, fmeasure=0.19298245614035087), 'rouge2': Score(precision=1.0, recall=0.09803921568627451, fmeasure=0.17857142857142855), 'rougeL': Score(precision=1.0, recall=0.10679611650485436, fmeasure=0.19298245614035087)}\n"
     ]
    },
    {
     "name": "stderr",
     "output_type": "stream",
     "text": [
      "INFO:absl:Using default tokenizer.\n"
     ]
    },
    {
     "name": "stdout",
     "output_type": "stream",
     "text": [
      "10 defense {'rouge1': Score(precision=1.0, recall=0.09565217391304348, fmeasure=0.17460317460317462), 'rouge2': Score(precision=1.0, recall=0.08771929824561403, fmeasure=0.16129032258064516), 'rougeL': Score(precision=1.0, recall=0.09565217391304348, fmeasure=0.17460317460317462)}\n"
     ]
    },
    {
     "name": "stderr",
     "output_type": "stream",
     "text": [
      "INFO:absl:Using default tokenizer.\n"
     ]
    },
    {
     "name": "stdout",
     "output_type": "stream",
     "text": [
      "10 ao {'rouge1': Score(precision=1.0, recall=0.07801418439716312, fmeasure=0.14473684210526316), 'rouge2': Score(precision=1.0, recall=0.07142857142857142, fmeasure=0.13333333333333333), 'rougeL': Score(precision=1.0, recall=0.07801418439716312, fmeasure=0.14473684210526316)}\n"
     ]
    },
    {
     "name": "stderr",
     "output_type": "stream",
     "text": [
      "INFO:absl:Using default tokenizer.\n"
     ]
    },
    {
     "name": "stdout",
     "output_type": "stream",
     "text": [
      "11 investor {'rouge1': Score(precision=0.5454545454545454, recall=0.045454545454545456, fmeasure=0.08391608391608392), 'rouge2': Score(precision=0.3, recall=0.022900763358778626, fmeasure=0.04255319148936171), 'rougeL': Score(precision=0.45454545454545453, recall=0.03787878787878788, fmeasure=0.06993006993006994)}\n"
     ]
    },
    {
     "name": "stderr",
     "output_type": "stream",
     "text": [
      "INFO:absl:Using default tokenizer.\n"
     ]
    },
    {
     "name": "stdout",
     "output_type": "stream",
     "text": [
      "11 defense {'rouge1': Score(precision=0.18181818181818182, recall=0.020833333333333332, fmeasure=0.037383177570093455), 'rouge2': Score(precision=0.0, recall=0.0, fmeasure=0.0), 'rougeL': Score(precision=0.18181818181818182, recall=0.020833333333333332, fmeasure=0.037383177570093455)}\n"
     ]
    },
    {
     "name": "stderr",
     "output_type": "stream",
     "text": [
      "INFO:absl:Using default tokenizer.\n"
     ]
    },
    {
     "name": "stdout",
     "output_type": "stream",
     "text": [
      "11 ao {'rouge1': Score(precision=0.2727272727272727, recall=0.03614457831325301, fmeasure=0.06382978723404255), 'rouge2': Score(precision=0.0, recall=0.0, fmeasure=0.0), 'rougeL': Score(precision=0.2727272727272727, recall=0.03614457831325301, fmeasure=0.06382978723404255)}\n"
     ]
    },
    {
     "name": "stderr",
     "output_type": "stream",
     "text": [
      "INFO:absl:Using default tokenizer.\n"
     ]
    },
    {
     "name": "stdout",
     "output_type": "stream",
     "text": [
      "12 investor {'rouge1': Score(precision=0.2727272727272727, recall=0.034482758620689655, fmeasure=0.06122448979591836), 'rouge2': Score(precision=0.0, recall=0.0, fmeasure=0.0), 'rougeL': Score(precision=0.18181818181818182, recall=0.022988505747126436, fmeasure=0.04081632653061225)}\n"
     ]
    },
    {
     "name": "stderr",
     "output_type": "stream",
     "text": [
      "INFO:absl:Using default tokenizer.\n"
     ]
    },
    {
     "name": "stdout",
     "output_type": "stream",
     "text": [
      "12 defense {'rouge1': Score(precision=0.2727272727272727, recall=0.03, fmeasure=0.05405405405405404), 'rouge2': Score(precision=0.0, recall=0.0, fmeasure=0.0), 'rougeL': Score(precision=0.18181818181818182, recall=0.02, fmeasure=0.036036036036036036)}\n"
     ]
    },
    {
     "name": "stderr",
     "output_type": "stream",
     "text": [
      "INFO:absl:Using default tokenizer.\n"
     ]
    },
    {
     "name": "stdout",
     "output_type": "stream",
     "text": [
      "12 ao {'rouge1': Score(precision=0.18181818181818182, recall=0.031746031746031744, fmeasure=0.05405405405405405), 'rouge2': Score(precision=0.0, recall=0.0, fmeasure=0.0), 'rougeL': Score(precision=0.18181818181818182, recall=0.031746031746031744, fmeasure=0.05405405405405405)}\n"
     ]
    },
    {
     "name": "stderr",
     "output_type": "stream",
     "text": [
      "INFO:absl:Using default tokenizer.\n"
     ]
    },
    {
     "name": "stdout",
     "output_type": "stream",
     "text": [
      "13 investor {'rouge1': Score(precision=0.18181818181818182, recall=0.09523809523809523, fmeasure=0.125), 'rouge2': Score(precision=0.0, recall=0.0, fmeasure=0.0), 'rougeL': Score(precision=0.18181818181818182, recall=0.09523809523809523, fmeasure=0.125)}\n"
     ]
    },
    {
     "name": "stderr",
     "output_type": "stream",
     "text": [
      "INFO:absl:Using default tokenizer.\n"
     ]
    },
    {
     "name": "stdout",
     "output_type": "stream",
     "text": [
      "13 defense {'rouge1': Score(precision=0.0, recall=0.0, fmeasure=0.0), 'rouge2': Score(precision=0.0, recall=0.0, fmeasure=0.0), 'rougeL': Score(precision=0.0, recall=0.0, fmeasure=0.0)}\n"
     ]
    },
    {
     "name": "stderr",
     "output_type": "stream",
     "text": [
      "INFO:absl:Using default tokenizer.\n"
     ]
    },
    {
     "name": "stdout",
     "output_type": "stream",
     "text": [
      "13 ao {'rouge1': Score(precision=0.0, recall=0.0, fmeasure=0.0), 'rouge2': Score(precision=0.0, recall=0.0, fmeasure=0.0), 'rougeL': Score(precision=0.0, recall=0.0, fmeasure=0.0)}\n"
     ]
    },
    {
     "name": "stderr",
     "output_type": "stream",
     "text": [
      "INFO:absl:Using default tokenizer.\n"
     ]
    },
    {
     "name": "stdout",
     "output_type": "stream",
     "text": [
      "14 investor {'rouge1': Score(precision=0.5, recall=0.08139534883720931, fmeasure=0.14), 'rouge2': Score(precision=0.15384615384615385, recall=0.023529411764705882, fmeasure=0.04081632653061224), 'rougeL': Score(precision=0.42857142857142855, recall=0.06976744186046512, fmeasure=0.12)}\n"
     ]
    },
    {
     "name": "stderr",
     "output_type": "stream",
     "text": [
      "INFO:absl:Using default tokenizer.\n"
     ]
    },
    {
     "name": "stdout",
     "output_type": "stream",
     "text": [
      "14 defense {'rouge1': Score(precision=0.5, recall=0.1, fmeasure=0.16666666666666669), 'rouge2': Score(precision=0.15384615384615385, recall=0.028985507246376812, fmeasure=0.04878048780487805), 'rougeL': Score(precision=0.42857142857142855, recall=0.08571428571428572, fmeasure=0.14285714285714285)}\n"
     ]
    },
    {
     "name": "stderr",
     "output_type": "stream",
     "text": [
      "INFO:absl:Using default tokenizer.\n"
     ]
    },
    {
     "name": "stdout",
     "output_type": "stream",
     "text": [
      "14 ao {'rouge1': Score(precision=0.5, recall=0.08860759493670886, fmeasure=0.15053763440860216), 'rouge2': Score(precision=0.15384615384615385, recall=0.02564102564102564, fmeasure=0.04395604395604396), 'rougeL': Score(precision=0.42857142857142855, recall=0.0759493670886076, fmeasure=0.12903225806451613)}\n"
     ]
    },
    {
     "name": "stderr",
     "output_type": "stream",
     "text": [
      "INFO:absl:Using default tokenizer.\n"
     ]
    },
    {
     "name": "stdout",
     "output_type": "stream",
     "text": [
      "15 investor {'rouge1': Score(precision=0.36363636363636365, recall=0.047058823529411764, fmeasure=0.08333333333333333), 'rouge2': Score(precision=0.1, recall=0.011904761904761904, fmeasure=0.02127659574468085), 'rougeL': Score(precision=0.18181818181818182, recall=0.023529411764705882, fmeasure=0.041666666666666664)}\n"
     ]
    },
    {
     "name": "stderr",
     "output_type": "stream",
     "text": [
      "INFO:absl:Using default tokenizer.\n"
     ]
    },
    {
     "name": "stdout",
     "output_type": "stream",
     "text": [
      "15 defense {'rouge1': Score(precision=0.18181818181818182, recall=0.02631578947368421, fmeasure=0.04597701149425287), 'rouge2': Score(precision=0.0, recall=0.0, fmeasure=0.0), 'rougeL': Score(precision=0.18181818181818182, recall=0.02631578947368421, fmeasure=0.04597701149425287)}\n"
     ]
    },
    {
     "name": "stderr",
     "output_type": "stream",
     "text": [
      "INFO:absl:Using default tokenizer.\n"
     ]
    },
    {
     "name": "stdout",
     "output_type": "stream",
     "text": [
      "15 ao {'rouge1': Score(precision=0.18181818181818182, recall=0.02631578947368421, fmeasure=0.04597701149425287), 'rouge2': Score(precision=0.0, recall=0.0, fmeasure=0.0), 'rougeL': Score(precision=0.18181818181818182, recall=0.02631578947368421, fmeasure=0.04597701149425287)}\n"
     ]
    },
    {
     "name": "stderr",
     "output_type": "stream",
     "text": [
      "INFO:absl:Using default tokenizer.\n"
     ]
    },
    {
     "name": "stdout",
     "output_type": "stream",
     "text": [
      "16 investor {'rouge1': Score(precision=0.3333333333333333, recall=0.03305785123966942, fmeasure=0.06015037593984963), 'rouge2': Score(precision=0.0, recall=0.0, fmeasure=0.0), 'rougeL': Score(precision=0.25, recall=0.024793388429752067, fmeasure=0.045112781954887216)}\n"
     ]
    },
    {
     "name": "stderr",
     "output_type": "stream",
     "text": [
      "INFO:absl:Using default tokenizer.\n"
     ]
    },
    {
     "name": "stdout",
     "output_type": "stream",
     "text": [
      "16 defense {'rouge1': Score(precision=0.4166666666666667, recall=0.032467532467532464, fmeasure=0.06024096385542168), 'rouge2': Score(precision=0.0, recall=0.0, fmeasure=0.0), 'rougeL': Score(precision=0.3333333333333333, recall=0.025974025974025976, fmeasure=0.04819277108433735)}\n"
     ]
    },
    {
     "name": "stderr",
     "output_type": "stream",
     "text": [
      "INFO:absl:Using default tokenizer.\n"
     ]
    },
    {
     "name": "stdout",
     "output_type": "stream",
     "text": [
      "16 ao {'rouge1': Score(precision=0.4166666666666667, recall=0.032467532467532464, fmeasure=0.06024096385542168), 'rouge2': Score(precision=0.0, recall=0.0, fmeasure=0.0), 'rougeL': Score(precision=0.3333333333333333, recall=0.025974025974025976, fmeasure=0.04819277108433735)}\n"
     ]
    },
    {
     "name": "stderr",
     "output_type": "stream",
     "text": [
      "INFO:absl:Using default tokenizer.\n"
     ]
    },
    {
     "name": "stdout",
     "output_type": "stream",
     "text": [
      "17 investor {'rouge1': Score(precision=0.09090909090909091, recall=0.024390243902439025, fmeasure=0.038461538461538464), 'rouge2': Score(precision=0.0, recall=0.0, fmeasure=0.0), 'rougeL': Score(precision=0.09090909090909091, recall=0.024390243902439025, fmeasure=0.038461538461538464)}\n"
     ]
    },
    {
     "name": "stderr",
     "output_type": "stream",
     "text": [
      "INFO:absl:Using default tokenizer.\n"
     ]
    },
    {
     "name": "stdout",
     "output_type": "stream",
     "text": [
      "17 defense {'rouge1': Score(precision=0.09090909090909091, recall=0.014084507042253521, fmeasure=0.02439024390243903), 'rouge2': Score(precision=0.0, recall=0.0, fmeasure=0.0), 'rougeL': Score(precision=0.09090909090909091, recall=0.014084507042253521, fmeasure=0.02439024390243903)}\n"
     ]
    },
    {
     "name": "stderr",
     "output_type": "stream",
     "text": [
      "INFO:absl:Using default tokenizer.\n"
     ]
    },
    {
     "name": "stdout",
     "output_type": "stream",
     "text": [
      "17 ao {'rouge1': Score(precision=0.18181818181818182, recall=0.03636363636363636, fmeasure=0.0606060606060606), 'rouge2': Score(precision=0.0, recall=0.0, fmeasure=0.0), 'rougeL': Score(precision=0.18181818181818182, recall=0.03636363636363636, fmeasure=0.0606060606060606)}\n"
     ]
    },
    {
     "name": "stderr",
     "output_type": "stream",
     "text": [
      "INFO:absl:Using default tokenizer.\n"
     ]
    },
    {
     "name": "stdout",
     "output_type": "stream",
     "text": [
      "18 investor {'rouge1': Score(precision=0.2727272727272727, recall=0.05660377358490566, fmeasure=0.09375), 'rouge2': Score(precision=0.0, recall=0.0, fmeasure=0.0), 'rougeL': Score(precision=0.2727272727272727, recall=0.05660377358490566, fmeasure=0.09375)}\n"
     ]
    },
    {
     "name": "stderr",
     "output_type": "stream",
     "text": [
      "INFO:absl:Using default tokenizer.\n"
     ]
    },
    {
     "name": "stdout",
     "output_type": "stream",
     "text": [
      "18 defense {'rouge1': Score(precision=0.2727272727272727, recall=0.04285714285714286, fmeasure=0.07407407407407407), 'rouge2': Score(precision=0.0, recall=0.0, fmeasure=0.0), 'rougeL': Score(precision=0.2727272727272727, recall=0.04285714285714286, fmeasure=0.07407407407407407)}\n"
     ]
    },
    {
     "name": "stderr",
     "output_type": "stream",
     "text": [
      "INFO:absl:Using default tokenizer.\n"
     ]
    },
    {
     "name": "stdout",
     "output_type": "stream",
     "text": [
      "18 ao {'rouge1': Score(precision=0.2727272727272727, recall=0.05660377358490566, fmeasure=0.09375), 'rouge2': Score(precision=0.0, recall=0.0, fmeasure=0.0), 'rougeL': Score(precision=0.2727272727272727, recall=0.05660377358490566, fmeasure=0.09375)}\n"
     ]
    },
    {
     "name": "stderr",
     "output_type": "stream",
     "text": [
      "INFO:absl:Using default tokenizer.\n"
     ]
    },
    {
     "name": "stdout",
     "output_type": "stream",
     "text": [
      "19 investor {'rouge1': Score(precision=0.3333333333333333, recall=0.13513513513513514, fmeasure=0.1923076923076923), 'rouge2': Score(precision=0.0, recall=0.0, fmeasure=0.0), 'rougeL': Score(precision=0.3333333333333333, recall=0.13513513513513514, fmeasure=0.1923076923076923)}\n"
     ]
    },
    {
     "name": "stderr",
     "output_type": "stream",
     "text": [
      "INFO:absl:Using default tokenizer.\n"
     ]
    },
    {
     "name": "stdout",
     "output_type": "stream",
     "text": [
      "19 defense {'rouge1': Score(precision=0.3333333333333333, recall=0.13157894736842105, fmeasure=0.18867924528301885), 'rouge2': Score(precision=0.0, recall=0.0, fmeasure=0.0), 'rougeL': Score(precision=0.26666666666666666, recall=0.10526315789473684, fmeasure=0.1509433962264151)}\n"
     ]
    },
    {
     "name": "stderr",
     "output_type": "stream",
     "text": [
      "INFO:absl:Using default tokenizer.\n"
     ]
    },
    {
     "name": "stdout",
     "output_type": "stream",
     "text": [
      "19 ao {'rouge1': Score(precision=0.3333333333333333, recall=0.13157894736842105, fmeasure=0.18867924528301885), 'rouge2': Score(precision=0.0, recall=0.0, fmeasure=0.0), 'rougeL': Score(precision=0.26666666666666666, recall=0.10526315789473684, fmeasure=0.1509433962264151)}\n"
     ]
    },
    {
     "name": "stderr",
     "output_type": "stream",
     "text": [
      "INFO:absl:Using default tokenizer.\n"
     ]
    },
    {
     "name": "stdout",
     "output_type": "stream",
     "text": [
      "20 investor {'rouge1': Score(precision=0.2727272727272727, recall=0.037037037037037035, fmeasure=0.06521739130434782), 'rouge2': Score(precision=0.0, recall=0.0, fmeasure=0.0), 'rougeL': Score(precision=0.2727272727272727, recall=0.037037037037037035, fmeasure=0.06521739130434782)}\n"
     ]
    },
    {
     "name": "stderr",
     "output_type": "stream",
     "text": [
      "INFO:absl:Using default tokenizer.\n"
     ]
    },
    {
     "name": "stdout",
     "output_type": "stream",
     "text": [
      "20 defense {'rouge1': Score(precision=0.2727272727272727, recall=0.03, fmeasure=0.05405405405405404), 'rouge2': Score(precision=0.0, recall=0.0, fmeasure=0.0), 'rougeL': Score(precision=0.2727272727272727, recall=0.03, fmeasure=0.05405405405405404)}\n"
     ]
    },
    {
     "name": "stderr",
     "output_type": "stream",
     "text": [
      "INFO:absl:Using default tokenizer.\n"
     ]
    },
    {
     "name": "stdout",
     "output_type": "stream",
     "text": [
      "20 ao {'rouge1': Score(precision=0.2727272727272727, recall=0.037037037037037035, fmeasure=0.06521739130434782), 'rouge2': Score(precision=0.0, recall=0.0, fmeasure=0.0), 'rougeL': Score(precision=0.2727272727272727, recall=0.037037037037037035, fmeasure=0.06521739130434782)}\n"
     ]
    },
    {
     "name": "stderr",
     "output_type": "stream",
     "text": [
      "INFO:absl:Using default tokenizer.\n"
     ]
    },
    {
     "name": "stdout",
     "output_type": "stream",
     "text": [
      "21 investor {'rouge1': Score(precision=0.375, recall=0.09230769230769231, fmeasure=0.14814814814814817), 'rouge2': Score(precision=0.0, recall=0.0, fmeasure=0.0), 'rougeL': Score(precision=0.3125, recall=0.07692307692307693, fmeasure=0.1234567901234568)}\n"
     ]
    },
    {
     "name": "stderr",
     "output_type": "stream",
     "text": [
      "INFO:absl:Using default tokenizer.\n"
     ]
    },
    {
     "name": "stdout",
     "output_type": "stream",
     "text": [
      "21 defense {'rouge1': Score(precision=0.375, recall=0.09090909090909091, fmeasure=0.14634146341463414), 'rouge2': Score(precision=0.0, recall=0.0, fmeasure=0.0), 'rougeL': Score(precision=0.3125, recall=0.07575757575757576, fmeasure=0.12195121951219512)}\n"
     ]
    },
    {
     "name": "stderr",
     "output_type": "stream",
     "text": [
      "INFO:absl:Using default tokenizer.\n"
     ]
    },
    {
     "name": "stdout",
     "output_type": "stream",
     "text": [
      "21 ao {'rouge1': Score(precision=0.375, recall=0.09090909090909091, fmeasure=0.14634146341463414), 'rouge2': Score(precision=0.0, recall=0.0, fmeasure=0.0), 'rougeL': Score(precision=0.3125, recall=0.07575757575757576, fmeasure=0.12195121951219512)}\n"
     ]
    },
    {
     "name": "stderr",
     "output_type": "stream",
     "text": [
      "INFO:absl:Using default tokenizer.\n"
     ]
    },
    {
     "name": "stdout",
     "output_type": "stream",
     "text": [
      "22 investor {'rouge1': Score(precision=0.3076923076923077, recall=0.06060606060606061, fmeasure=0.10126582278481013), 'rouge2': Score(precision=0.0, recall=0.0, fmeasure=0.0), 'rougeL': Score(precision=0.23076923076923078, recall=0.045454545454545456, fmeasure=0.0759493670886076)}\n"
     ]
    },
    {
     "name": "stderr",
     "output_type": "stream",
     "text": [
      "INFO:absl:Using default tokenizer.\n"
     ]
    },
    {
     "name": "stdout",
     "output_type": "stream",
     "text": [
      "22 defense {'rouge1': Score(precision=0.23076923076923078, recall=0.04477611940298507, fmeasure=0.075), 'rouge2': Score(precision=0.0, recall=0.0, fmeasure=0.0), 'rougeL': Score(precision=0.23076923076923078, recall=0.04477611940298507, fmeasure=0.075)}\n"
     ]
    },
    {
     "name": "stderr",
     "output_type": "stream",
     "text": [
      "INFO:absl:Using default tokenizer.\n"
     ]
    },
    {
     "name": "stdout",
     "output_type": "stream",
     "text": [
      "22 ao {'rouge1': Score(precision=0.23076923076923078, recall=0.04477611940298507, fmeasure=0.075), 'rouge2': Score(precision=0.0, recall=0.0, fmeasure=0.0), 'rougeL': Score(precision=0.23076923076923078, recall=0.04477611940298507, fmeasure=0.075)}\n"
     ]
    },
    {
     "name": "stderr",
     "output_type": "stream",
     "text": [
      "INFO:absl:Using default tokenizer.\n"
     ]
    },
    {
     "name": "stdout",
     "output_type": "stream",
     "text": [
      "23 investor {'rouge1': Score(precision=0.3076923076923077, recall=0.05405405405405406, fmeasure=0.09195402298850575), 'rouge2': Score(precision=0.0, recall=0.0, fmeasure=0.0), 'rougeL': Score(precision=0.3076923076923077, recall=0.05405405405405406, fmeasure=0.09195402298850575)}\n"
     ]
    },
    {
     "name": "stderr",
     "output_type": "stream",
     "text": [
      "INFO:absl:Using default tokenizer.\n"
     ]
    },
    {
     "name": "stdout",
     "output_type": "stream",
     "text": [
      "23 defense {'rouge1': Score(precision=0.3076923076923077, recall=0.05333333333333334, fmeasure=0.09090909090909093), 'rouge2': Score(precision=0.0, recall=0.0, fmeasure=0.0), 'rougeL': Score(precision=0.3076923076923077, recall=0.05333333333333334, fmeasure=0.09090909090909093)}\n"
     ]
    },
    {
     "name": "stderr",
     "output_type": "stream",
     "text": [
      "INFO:absl:Using default tokenizer.\n"
     ]
    },
    {
     "name": "stdout",
     "output_type": "stream",
     "text": [
      "23 ao {'rouge1': Score(precision=0.3076923076923077, recall=0.043010752688172046, fmeasure=0.07547169811320754), 'rouge2': Score(precision=0.0, recall=0.0, fmeasure=0.0), 'rougeL': Score(precision=0.3076923076923077, recall=0.043010752688172046, fmeasure=0.07547169811320754)}\n"
     ]
    },
    {
     "name": "stderr",
     "output_type": "stream",
     "text": [
      "INFO:absl:Using default tokenizer.\n"
     ]
    },
    {
     "name": "stdout",
     "output_type": "stream",
     "text": [
      "24 investor {'rouge1': Score(precision=0.36363636363636365, recall=0.045454545454545456, fmeasure=0.0808080808080808), 'rouge2': Score(precision=0.0, recall=0.0, fmeasure=0.0), 'rougeL': Score(precision=0.36363636363636365, recall=0.045454545454545456, fmeasure=0.0808080808080808)}\n"
     ]
    },
    {
     "name": "stderr",
     "output_type": "stream",
     "text": [
      "INFO:absl:Using default tokenizer.\n"
     ]
    },
    {
     "name": "stdout",
     "output_type": "stream",
     "text": [
      "24 defense {'rouge1': Score(precision=0.36363636363636365, recall=0.045454545454545456, fmeasure=0.0808080808080808), 'rouge2': Score(precision=0.0, recall=0.0, fmeasure=0.0), 'rougeL': Score(precision=0.36363636363636365, recall=0.045454545454545456, fmeasure=0.0808080808080808)}\n"
     ]
    },
    {
     "name": "stderr",
     "output_type": "stream",
     "text": [
      "INFO:absl:Using default tokenizer.\n"
     ]
    },
    {
     "name": "stdout",
     "output_type": "stream",
     "text": [
      "24 ao {'rouge1': Score(precision=0.36363636363636365, recall=0.045454545454545456, fmeasure=0.0808080808080808), 'rouge2': Score(precision=0.0, recall=0.0, fmeasure=0.0), 'rougeL': Score(precision=0.36363636363636365, recall=0.045454545454545456, fmeasure=0.0808080808080808)}\n"
     ]
    },
    {
     "name": "stderr",
     "output_type": "stream",
     "text": [
      "INFO:absl:Using default tokenizer.\n"
     ]
    },
    {
     "name": "stdout",
     "output_type": "stream",
     "text": [
      "25 investor {'rouge1': Score(precision=0.2727272727272727, recall=0.04838709677419355, fmeasure=0.0821917808219178), 'rouge2': Score(precision=0.0, recall=0.0, fmeasure=0.0), 'rougeL': Score(precision=0.18181818181818182, recall=0.03225806451612903, fmeasure=0.0547945205479452)}\n"
     ]
    },
    {
     "name": "stderr",
     "output_type": "stream",
     "text": [
      "INFO:absl:Using default tokenizer.\n"
     ]
    },
    {
     "name": "stdout",
     "output_type": "stream",
     "text": [
      "25 defense {'rouge1': Score(precision=0.2727272727272727, recall=0.046153846153846156, fmeasure=0.07894736842105263), 'rouge2': Score(precision=0.0, recall=0.0, fmeasure=0.0), 'rougeL': Score(precision=0.18181818181818182, recall=0.03076923076923077, fmeasure=0.052631578947368425)}\n"
     ]
    },
    {
     "name": "stderr",
     "output_type": "stream",
     "text": [
      "INFO:absl:Using default tokenizer.\n"
     ]
    },
    {
     "name": "stdout",
     "output_type": "stream",
     "text": [
      "25 ao {'rouge1': Score(precision=0.2727272727272727, recall=0.046153846153846156, fmeasure=0.07894736842105263), 'rouge2': Score(precision=0.0, recall=0.0, fmeasure=0.0), 'rougeL': Score(precision=0.18181818181818182, recall=0.03076923076923077, fmeasure=0.052631578947368425)}\n"
     ]
    },
    {
     "name": "stderr",
     "output_type": "stream",
     "text": [
      "INFO:absl:Using default tokenizer.\n"
     ]
    },
    {
     "name": "stdout",
     "output_type": "stream",
     "text": [
      "26 investor {'rouge1': Score(precision=0.45454545454545453, recall=0.07462686567164178, fmeasure=0.1282051282051282), 'rouge2': Score(precision=0.0, recall=0.0, fmeasure=0.0), 'rougeL': Score(precision=0.2727272727272727, recall=0.04477611940298507, fmeasure=0.07692307692307691)}\n"
     ]
    },
    {
     "name": "stderr",
     "output_type": "stream",
     "text": [
      "INFO:absl:Using default tokenizer.\n"
     ]
    },
    {
     "name": "stdout",
     "output_type": "stream",
     "text": [
      "26 defense {'rouge1': Score(precision=0.36363636363636365, recall=0.058823529411764705, fmeasure=0.10126582278481011), 'rouge2': Score(precision=0.0, recall=0.0, fmeasure=0.0), 'rougeL': Score(precision=0.2727272727272727, recall=0.04411764705882353, fmeasure=0.0759493670886076)}\n"
     ]
    },
    {
     "name": "stderr",
     "output_type": "stream",
     "text": [
      "INFO:absl:Using default tokenizer.\n"
     ]
    },
    {
     "name": "stdout",
     "output_type": "stream",
     "text": [
      "26 ao {'rouge1': Score(precision=0.36363636363636365, recall=0.058823529411764705, fmeasure=0.10126582278481011), 'rouge2': Score(precision=0.0, recall=0.0, fmeasure=0.0), 'rougeL': Score(precision=0.2727272727272727, recall=0.04411764705882353, fmeasure=0.0759493670886076)}\n"
     ]
    },
    {
     "name": "stderr",
     "output_type": "stream",
     "text": [
      "INFO:absl:Using default tokenizer.\n"
     ]
    },
    {
     "name": "stdout",
     "output_type": "stream",
     "text": [
      "27 investor {'rouge1': Score(precision=0.3333333333333333, recall=0.06060606060606061, fmeasure=0.10256410256410256), 'rouge2': Score(precision=0.0, recall=0.0, fmeasure=0.0), 'rougeL': Score(precision=0.25, recall=0.045454545454545456, fmeasure=0.07692307692307693)}\n"
     ]
    },
    {
     "name": "stderr",
     "output_type": "stream",
     "text": [
      "INFO:absl:Using default tokenizer.\n"
     ]
    },
    {
     "name": "stdout",
     "output_type": "stream",
     "text": [
      "27 defense {'rouge1': Score(precision=0.3333333333333333, recall=0.05970149253731343, fmeasure=0.10126582278481013), 'rouge2': Score(precision=0.0, recall=0.0, fmeasure=0.0), 'rougeL': Score(precision=0.25, recall=0.04477611940298507, fmeasure=0.07594936708860758)}\n"
     ]
    },
    {
     "name": "stderr",
     "output_type": "stream",
     "text": [
      "INFO:absl:Using default tokenizer.\n"
     ]
    },
    {
     "name": "stdout",
     "output_type": "stream",
     "text": [
      "27 ao {'rouge1': Score(precision=0.3333333333333333, recall=0.05970149253731343, fmeasure=0.10126582278481013), 'rouge2': Score(precision=0.0, recall=0.0, fmeasure=0.0), 'rougeL': Score(precision=0.25, recall=0.04477611940298507, fmeasure=0.07594936708860758)}\n"
     ]
    },
    {
     "name": "stderr",
     "output_type": "stream",
     "text": [
      "INFO:absl:Using default tokenizer.\n"
     ]
    },
    {
     "name": "stdout",
     "output_type": "stream",
     "text": [
      "28 investor {'rouge1': Score(precision=0.2727272727272727, recall=0.045454545454545456, fmeasure=0.07792207792207792), 'rouge2': Score(precision=0.0, recall=0.0, fmeasure=0.0), 'rougeL': Score(precision=0.2727272727272727, recall=0.045454545454545456, fmeasure=0.07792207792207792)}\n"
     ]
    },
    {
     "name": "stderr",
     "output_type": "stream",
     "text": [
      "INFO:absl:Using default tokenizer.\n"
     ]
    },
    {
     "name": "stdout",
     "output_type": "stream",
     "text": [
      "28 defense {'rouge1': Score(precision=0.2727272727272727, recall=0.04477611940298507, fmeasure=0.07692307692307691), 'rouge2': Score(precision=0.0, recall=0.0, fmeasure=0.0), 'rougeL': Score(precision=0.2727272727272727, recall=0.04477611940298507, fmeasure=0.07692307692307691)}\n"
     ]
    },
    {
     "name": "stderr",
     "output_type": "stream",
     "text": [
      "INFO:absl:Using default tokenizer.\n"
     ]
    },
    {
     "name": "stdout",
     "output_type": "stream",
     "text": [
      "28 ao {'rouge1': Score(precision=0.2727272727272727, recall=0.036585365853658534, fmeasure=0.06451612903225806), 'rouge2': Score(precision=0.0, recall=0.0, fmeasure=0.0), 'rougeL': Score(precision=0.2727272727272727, recall=0.036585365853658534, fmeasure=0.06451612903225806)}\n"
     ]
    },
    {
     "name": "stderr",
     "output_type": "stream",
     "text": [
      "INFO:absl:Using default tokenizer.\n"
     ]
    },
    {
     "name": "stdout",
     "output_type": "stream",
     "text": [
      "29 investor {'rouge1': Score(precision=0.2727272727272727, recall=0.047619047619047616, fmeasure=0.08108108108108109), 'rouge2': Score(precision=0.0, recall=0.0, fmeasure=0.0), 'rougeL': Score(precision=0.18181818181818182, recall=0.031746031746031744, fmeasure=0.05405405405405405)}\n"
     ]
    },
    {
     "name": "stderr",
     "output_type": "stream",
     "text": [
      "INFO:absl:Using default tokenizer.\n"
     ]
    },
    {
     "name": "stdout",
     "output_type": "stream",
     "text": [
      "29 defense {'rouge1': Score(precision=0.2727272727272727, recall=0.046875, fmeasure=0.08), 'rouge2': Score(precision=0.0, recall=0.0, fmeasure=0.0), 'rougeL': Score(precision=0.18181818181818182, recall=0.03125, fmeasure=0.05333333333333334)}\n"
     ]
    },
    {
     "name": "stderr",
     "output_type": "stream",
     "text": [
      "INFO:absl:Using default tokenizer.\n"
     ]
    },
    {
     "name": "stdout",
     "output_type": "stream",
     "text": [
      "29 ao {'rouge1': Score(precision=0.2727272727272727, recall=0.046875, fmeasure=0.08), 'rouge2': Score(precision=0.0, recall=0.0, fmeasure=0.0), 'rougeL': Score(precision=0.18181818181818182, recall=0.03125, fmeasure=0.05333333333333334)}\n"
     ]
    },
    {
     "name": "stderr",
     "output_type": "stream",
     "text": [
      "INFO:absl:Using default tokenizer.\n"
     ]
    },
    {
     "name": "stdout",
     "output_type": "stream",
     "text": [
      "30 investor {'rouge1': Score(precision=0.2727272727272727, recall=0.06818181818181818, fmeasure=0.10909090909090909), 'rouge2': Score(precision=0.0, recall=0.0, fmeasure=0.0), 'rougeL': Score(precision=0.18181818181818182, recall=0.045454545454545456, fmeasure=0.07272727272727272)}\n"
     ]
    },
    {
     "name": "stderr",
     "output_type": "stream",
     "text": [
      "INFO:absl:Using default tokenizer.\n"
     ]
    },
    {
     "name": "stdout",
     "output_type": "stream",
     "text": [
      "30 defense {'rouge1': Score(precision=0.2727272727272727, recall=0.06666666666666667, fmeasure=0.10714285714285715), 'rouge2': Score(precision=0.0, recall=0.0, fmeasure=0.0), 'rougeL': Score(precision=0.18181818181818182, recall=0.044444444444444446, fmeasure=0.07142857142857142)}\n"
     ]
    },
    {
     "name": "stderr",
     "output_type": "stream",
     "text": [
      "INFO:absl:Using default tokenizer.\n"
     ]
    },
    {
     "name": "stdout",
     "output_type": "stream",
     "text": [
      "30 ao {'rouge1': Score(precision=0.2727272727272727, recall=0.04918032786885246, fmeasure=0.08333333333333333), 'rouge2': Score(precision=0.0, recall=0.0, fmeasure=0.0), 'rougeL': Score(precision=0.18181818181818182, recall=0.03278688524590164, fmeasure=0.05555555555555556)}\n"
     ]
    },
    {
     "name": "stderr",
     "output_type": "stream",
     "text": [
      "INFO:absl:Using default tokenizer.\n"
     ]
    },
    {
     "name": "stdout",
     "output_type": "stream",
     "text": [
      "31 investor {'rouge1': Score(precision=0.35714285714285715, recall=0.09090909090909091, fmeasure=0.1449275362318841), 'rouge2': Score(precision=0.15384615384615385, recall=0.037037037037037035, fmeasure=0.05970149253731343), 'rougeL': Score(precision=0.2857142857142857, recall=0.07272727272727272, fmeasure=0.11594202898550722)}\n"
     ]
    },
    {
     "name": "stderr",
     "output_type": "stream",
     "text": [
      "INFO:absl:Using default tokenizer.\n"
     ]
    },
    {
     "name": "stdout",
     "output_type": "stream",
     "text": [
      "31 defense {'rouge1': Score(precision=0.35714285714285715, recall=0.08928571428571429, fmeasure=0.14285714285714285), 'rouge2': Score(precision=0.15384615384615385, recall=0.03636363636363636, fmeasure=0.0588235294117647), 'rougeL': Score(precision=0.2857142857142857, recall=0.07142857142857142, fmeasure=0.1142857142857143)}\n"
     ]
    },
    {
     "name": "stderr",
     "output_type": "stream",
     "text": [
      "INFO:absl:Using default tokenizer.\n"
     ]
    },
    {
     "name": "stdout",
     "output_type": "stream",
     "text": [
      "31 ao {'rouge1': Score(precision=0.35714285714285715, recall=0.08928571428571429, fmeasure=0.14285714285714285), 'rouge2': Score(precision=0.15384615384615385, recall=0.03636363636363636, fmeasure=0.0588235294117647), 'rougeL': Score(precision=0.2857142857142857, recall=0.07142857142857142, fmeasure=0.1142857142857143)}\n"
     ]
    },
    {
     "name": "stderr",
     "output_type": "stream",
     "text": [
      "INFO:absl:Using default tokenizer.\n"
     ]
    },
    {
     "name": "stdout",
     "output_type": "stream",
     "text": [
      "32 investor {'rouge1': Score(precision=0.2727272727272727, recall=0.0410958904109589, fmeasure=0.07142857142857142), 'rouge2': Score(precision=0.0, recall=0.0, fmeasure=0.0), 'rougeL': Score(precision=0.2727272727272727, recall=0.0410958904109589, fmeasure=0.07142857142857142)}\n"
     ]
    },
    {
     "name": "stderr",
     "output_type": "stream",
     "text": [
      "INFO:absl:Using default tokenizer.\n"
     ]
    },
    {
     "name": "stdout",
     "output_type": "stream",
     "text": [
      "32 defense {'rouge1': Score(precision=0.2727272727272727, recall=0.04054054054054054, fmeasure=0.07058823529411765), 'rouge2': Score(precision=0.0, recall=0.0, fmeasure=0.0), 'rougeL': Score(precision=0.2727272727272727, recall=0.04054054054054054, fmeasure=0.07058823529411765)}\n"
     ]
    },
    {
     "name": "stderr",
     "output_type": "stream",
     "text": [
      "INFO:absl:Using default tokenizer.\n"
     ]
    },
    {
     "name": "stdout",
     "output_type": "stream",
     "text": [
      "32 ao {'rouge1': Score(precision=0.2727272727272727, recall=0.04054054054054054, fmeasure=0.07058823529411765), 'rouge2': Score(precision=0.0, recall=0.0, fmeasure=0.0), 'rougeL': Score(precision=0.2727272727272727, recall=0.04054054054054054, fmeasure=0.07058823529411765)}\n"
     ]
    },
    {
     "name": "stderr",
     "output_type": "stream",
     "text": [
      "INFO:absl:Using default tokenizer.\n"
     ]
    },
    {
     "name": "stdout",
     "output_type": "stream",
     "text": [
      "33 investor {'rouge1': Score(precision=0.36363636363636365, recall=0.07547169811320754, fmeasure=0.125), 'rouge2': Score(precision=0.0, recall=0.0, fmeasure=0.0), 'rougeL': Score(precision=0.2727272727272727, recall=0.05660377358490566, fmeasure=0.09375)}\n"
     ]
    },
    {
     "name": "stderr",
     "output_type": "stream",
     "text": [
      "INFO:absl:Using default tokenizer.\n"
     ]
    },
    {
     "name": "stdout",
     "output_type": "stream",
     "text": [
      "33 defense {'rouge1': Score(precision=0.36363636363636365, recall=0.07407407407407407, fmeasure=0.12307692307692307), 'rouge2': Score(precision=0.0, recall=0.0, fmeasure=0.0), 'rougeL': Score(precision=0.2727272727272727, recall=0.05555555555555555, fmeasure=0.0923076923076923)}\n"
     ]
    },
    {
     "name": "stderr",
     "output_type": "stream",
     "text": [
      "INFO:absl:Using default tokenizer.\n"
     ]
    },
    {
     "name": "stdout",
     "output_type": "stream",
     "text": [
      "33 ao {'rouge1': Score(precision=0.36363636363636365, recall=0.05714285714285714, fmeasure=0.09876543209876543), 'rouge2': Score(precision=0.0, recall=0.0, fmeasure=0.0), 'rougeL': Score(precision=0.2727272727272727, recall=0.04285714285714286, fmeasure=0.07407407407407407)}\n"
     ]
    }
   ],
   "source": [
    "loc = [\"investor\", \"defense\", \"ao\"]\n",
    "\n",
    "count = 0\n",
    "flag = 0\n",
    "\n",
    "# rouge_list = [[[], [], []], [[], [], []], [[], [], []]]\n",
    "rouge_list_1 = np.zeros(3)\n",
    "\n",
    "for i in data.iterrows():\n",
    "    count+=1\n",
    "    if i[1][0]==\"1315460000000_\":\n",
    "        flag = 1\n",
    "    for j in range(len(loc)):\n",
    "        if loc[j]==\"investor\":\n",
    "            if not flag:\n",
    "                article = str(i[1][1]) + \" \" + str(i[1][3])\n",
    "            else:\n",
    "                article = str(i[1][1]) + \" \" + str(i[1][2]) + \" \" + str(i[1][3])\n",
    "        elif loc[j]==\"defense\":\n",
    "            article = str(i[1][1]) + \" \" + str(i[1][2]) + \" \" + str(i[1][4]) + \" \" + str(i[1][3])\n",
    "        elif loc[j]==\"ao\":\n",
    "            article = str(i[1][1]) + \" \" + str(i[1][2]) + \" \" + str(i[1][5])\n",
    "            if not flag:\n",
    "                article += \" \" + str(i[1][3])\n",
    "        article = re.sub(\" +\", \" \", article)\n",
    "        article = re.sub(\" rs\\. \", \" rs \", article)\n",
    "        article = re.sub(\" Rs\\. \", \" Rs \", article)\n",
    "        article = re.sub(\" Mrs\\. \", \" Mrs\", article)\n",
    "        article = re.sub(\" Mr\\. \", \" Mr\", article)\n",
    "        article = re.sub(\" Ltd\\. \", \" Ltd \", article)\n",
    "        # with open(\"./annot_data/\" + str(loc[j]) + \"/\" + str(i[1][0]) + \".txt\", \"w+\", encoding=\"utf-8\") as f:\n",
    "        #     f.write(re.sub(\"\\. \", \".\\n\", article))\n",
    "        #     f.close()\n",
    "        pre = article.split(\". \")\n",
    "        out = \"\"\n",
    "        inputs = tokenizer([article], max_length=max_length, return_tensors=\"pt\", truncation=True)\n",
    "        summary_ids = model.generate(inputs[\"input_ids\"])\n",
    "        out = tokenizer.batch_decode(summary_ids, skip_special_tokens=True, clean_up_tokenization_spaces=False)[0]\n",
    "        out = out.replace(u'\\xa0', u' ')\n",
    "        summ = re.sub(\" +\", \" \", out)\n",
    "        summ = re.sub(\" Rs\\. \", \" Rs \", summ)\n",
    "        summ = re.sub(\" rs\\. \", \" rs \", summ)\n",
    "        summ = re.sub(\" Mrs\\. \", \" Mrs \", summ)\n",
    "        summ = re.sub(\" Mr\\. \", \" Mr \", summ)\n",
    "        summ = re.sub(\" Ltd\\. \", \" Ltd \", summ)\n",
    "        with open(\"./bart_annot_out/\" + str(loc[j]) + \"/out_\" + str(i[1][0]) + \".txt\", \"w+\", encoding=\"utf-8\") as f:\n",
    "            f.write(re.sub(\"\\. \", \".\\n\", summ))\n",
    "            f.close()\n",
    "        with open(\"./annot_ref/\"+loc[j]+\"/ref_\"+str(i[1][0])+\".txt\", encoding=\"utf-8\") as f:\n",
    "            ref = f.read()\n",
    "        scorer = rouge_scorer.RougeScorer(['rouge1', 'rouge2', 'rougeL'], use_stemmer=True)\n",
    "        scores = scorer.score(ref, summ)\n",
    "        rouge_list_1[0]+=scores['rouge1'][2]\n",
    "        rouge_list_1[1]+=scores['rouge2'][2]\n",
    "        rouge_list_1[2]+=scores['rougeL'][2]\n",
    "        print(count, loc[j], scores)"
   ]
  },
  {
   "cell_type": "code",
   "execution_count": 137,
   "metadata": {},
   "outputs": [],
   "source": [
    "#brio [0.4013672  0.33043133 0.37608726]\n",
    "#piped brio 0.5131486598504263 0.4041381764501251 0.4593964335064585"
   ]
  },
  {
   "cell_type": "code",
   "execution_count": 136,
   "metadata": {},
   "outputs": [
    {
     "name": "stdout",
     "output_type": "stream",
     "text": [
      "[0.4013672  0.33043133 0.37608726]\n"
     ]
    }
   ],
   "source": [
    "print(rouge_list_1/99)"
   ]
  },
  {
   "cell_type": "code",
   "execution_count": 132,
   "metadata": {},
   "outputs": [
    {
     "name": "stdout",
     "output_type": "stream",
     "text": [
      "0.5131486598504263 0.4041381764501251 0.4593964335064585\n"
     ]
    }
   ],
   "source": [
    "r1 = np.zeros(3)\n",
    "r2 = np.zeros(3)\n",
    "rl = np.zeros(3)\n",
    "\n",
    "for i in range(3):\n",
    "    for j in rouge_list[i]:\n",
    "        r1[i]+=j['rouge1'][2]\n",
    "        r2[i]+=j['rouge2'][2]\n",
    "        rl[i]+=j['rougeL'][2]\n",
    "\n",
    "r1 = np.sum(r1/33)/3\n",
    "r2 = np.sum(r2/33)/3\n",
    "rl = np.sum(rl/33)/3\n",
    "\n",
    "print(r1, r2, rl)"
   ]
  },
  {
   "cell_type": "code",
   "execution_count": 147,
   "metadata": {},
   "outputs": [
    {
     "ename": "KeyError",
     "evalue": "'Venus'",
     "output_type": "error",
     "traceback": [
      "\u001b[1;31m---------------------------------------------------------------------------\u001b[0m",
      "\u001b[1;31mKeyError\u001b[0m                                  Traceback (most recent call last)",
      "\u001b[1;32md:\\miniconda3\\lib\\site-packages\\gensim\\models\\coherencemodel.py\u001b[0m in \u001b[0;36m_ensure_elements_are_ids\u001b[1;34m(self, topic)\u001b[0m\n\u001b[0;32m    447\u001b[0m         \u001b[1;32mtry\u001b[0m\u001b[1;33m:\u001b[0m\u001b[1;33m\u001b[0m\u001b[1;33m\u001b[0m\u001b[0m\n\u001b[1;32m--> 448\u001b[1;33m             \u001b[1;32mreturn\u001b[0m \u001b[0mnp\u001b[0m\u001b[1;33m.\u001b[0m\u001b[0marray\u001b[0m\u001b[1;33m(\u001b[0m\u001b[1;33m[\u001b[0m\u001b[0mself\u001b[0m\u001b[1;33m.\u001b[0m\u001b[0mdictionary\u001b[0m\u001b[1;33m.\u001b[0m\u001b[0mtoken2id\u001b[0m\u001b[1;33m[\u001b[0m\u001b[0mtoken\u001b[0m\u001b[1;33m]\u001b[0m \u001b[1;32mfor\u001b[0m \u001b[0mtoken\u001b[0m \u001b[1;32min\u001b[0m \u001b[0mtopic\u001b[0m\u001b[1;33m]\u001b[0m\u001b[1;33m)\u001b[0m\u001b[1;33m\u001b[0m\u001b[1;33m\u001b[0m\u001b[0m\n\u001b[0m\u001b[0;32m    449\u001b[0m         \u001b[1;32mexcept\u001b[0m \u001b[0mKeyError\u001b[0m\u001b[1;33m:\u001b[0m  \u001b[1;31m# might be a list of token ids already, but let's verify all in dict\u001b[0m\u001b[1;33m\u001b[0m\u001b[1;33m\u001b[0m\u001b[0m\n",
      "\u001b[1;32md:\\miniconda3\\lib\\site-packages\\gensim\\models\\coherencemodel.py\u001b[0m in \u001b[0;36m<listcomp>\u001b[1;34m(.0)\u001b[0m\n\u001b[0;32m    447\u001b[0m         \u001b[1;32mtry\u001b[0m\u001b[1;33m:\u001b[0m\u001b[1;33m\u001b[0m\u001b[1;33m\u001b[0m\u001b[0m\n\u001b[1;32m--> 448\u001b[1;33m             \u001b[1;32mreturn\u001b[0m \u001b[0mnp\u001b[0m\u001b[1;33m.\u001b[0m\u001b[0marray\u001b[0m\u001b[1;33m(\u001b[0m\u001b[1;33m[\u001b[0m\u001b[0mself\u001b[0m\u001b[1;33m.\u001b[0m\u001b[0mdictionary\u001b[0m\u001b[1;33m.\u001b[0m\u001b[0mtoken2id\u001b[0m\u001b[1;33m[\u001b[0m\u001b[0mtoken\u001b[0m\u001b[1;33m]\u001b[0m \u001b[1;32mfor\u001b[0m \u001b[0mtoken\u001b[0m \u001b[1;32min\u001b[0m \u001b[0mtopic\u001b[0m\u001b[1;33m]\u001b[0m\u001b[1;33m)\u001b[0m\u001b[1;33m\u001b[0m\u001b[1;33m\u001b[0m\u001b[0m\n\u001b[0m\u001b[0;32m    449\u001b[0m         \u001b[1;32mexcept\u001b[0m \u001b[0mKeyError\u001b[0m\u001b[1;33m:\u001b[0m  \u001b[1;31m# might be a list of token ids already, but let's verify all in dict\u001b[0m\u001b[1;33m\u001b[0m\u001b[1;33m\u001b[0m\u001b[0m\n",
      "\u001b[1;31mKeyError\u001b[0m: 'Venus'",
      "\nDuring handling of the above exception, another exception occurred:\n",
      "\u001b[1;31mKeyError\u001b[0m                                  Traceback (most recent call last)",
      "\u001b[1;32m<ipython-input-147-1f6a81b453e1>\u001b[0m in \u001b[0;36m<module>\u001b[1;34m\u001b[0m\n\u001b[0;32m      5\u001b[0m \u001b[0mcorpus\u001b[0m \u001b[1;33m=\u001b[0m \u001b[1;33m[\u001b[0m\u001b[0mid2word\u001b[0m\u001b[1;33m.\u001b[0m\u001b[0mdoc2bow\u001b[0m\u001b[1;33m(\u001b[0m\u001b[0mtext\u001b[0m\u001b[1;33m)\u001b[0m \u001b[1;32mfor\u001b[0m \u001b[0mtext\u001b[0m \u001b[1;32min\u001b[0m \u001b[0msumm_ind_tokens\u001b[0m\u001b[1;33m]\u001b[0m\u001b[1;33m\u001b[0m\u001b[1;33m\u001b[0m\u001b[0m\n\u001b[0;32m      6\u001b[0m \u001b[1;31m# cm = CoherenceModel(topics=summ_ind_tokens, corpus=corpus, dictionary=id2word, coherence='u_mass')\u001b[0m\u001b[1;33m\u001b[0m\u001b[1;33m\u001b[0m\u001b[1;33m\u001b[0m\u001b[0m\n\u001b[1;32m----> 7\u001b[1;33m \u001b[0mcm\u001b[0m \u001b[1;33m=\u001b[0m \u001b[0mCoherenceModel\u001b[0m\u001b[1;33m(\u001b[0m\u001b[0mtopics\u001b[0m\u001b[1;33m=\u001b[0m\u001b[0msumm_ind_tokens\u001b[0m\u001b[1;33m,\u001b[0m \u001b[0mcorpus\u001b[0m\u001b[1;33m=\u001b[0m\u001b[0mcommon_corpus\u001b[0m\u001b[1;33m,\u001b[0m \u001b[0mdictionary\u001b[0m\u001b[1;33m=\u001b[0m\u001b[0mcommon_dictionary\u001b[0m\u001b[1;33m,\u001b[0m \u001b[0mcoherence\u001b[0m\u001b[1;33m=\u001b[0m\u001b[1;34m'u_mass'\u001b[0m\u001b[1;33m)\u001b[0m\u001b[1;33m\u001b[0m\u001b[1;33m\u001b[0m\u001b[0m\n\u001b[0m\u001b[0;32m      8\u001b[0m \u001b[0mprint\u001b[0m\u001b[1;33m(\u001b[0m\u001b[0mcm\u001b[0m\u001b[1;33m.\u001b[0m\u001b[0mget_coherence\u001b[0m\u001b[1;33m(\u001b[0m\u001b[1;33m)\u001b[0m\u001b[1;33m)\u001b[0m\u001b[1;33m\u001b[0m\u001b[1;33m\u001b[0m\u001b[0m\n\u001b[0;32m      9\u001b[0m \u001b[1;31m#-0.9009510160545718\u001b[0m\u001b[1;33m\u001b[0m\u001b[1;33m\u001b[0m\u001b[1;33m\u001b[0m\u001b[0m\n",
      "\u001b[1;32md:\\miniconda3\\lib\\site-packages\\gensim\\models\\coherencemodel.py\u001b[0m in \u001b[0;36m__init__\u001b[1;34m(self, model, topics, texts, corpus, dictionary, window_size, keyed_vectors, coherence, topn, processes)\u001b[0m\n\u001b[0;32m    213\u001b[0m         \u001b[0mself\u001b[0m\u001b[1;33m.\u001b[0m\u001b[0m_accumulator\u001b[0m \u001b[1;33m=\u001b[0m \u001b[1;32mNone\u001b[0m\u001b[1;33m\u001b[0m\u001b[1;33m\u001b[0m\u001b[0m\n\u001b[0;32m    214\u001b[0m         \u001b[0mself\u001b[0m\u001b[1;33m.\u001b[0m\u001b[0m_topics\u001b[0m \u001b[1;33m=\u001b[0m \u001b[1;32mNone\u001b[0m\u001b[1;33m\u001b[0m\u001b[1;33m\u001b[0m\u001b[0m\n\u001b[1;32m--> 215\u001b[1;33m         \u001b[0mself\u001b[0m\u001b[1;33m.\u001b[0m\u001b[0mtopics\u001b[0m \u001b[1;33m=\u001b[0m \u001b[0mtopics\u001b[0m\u001b[1;33m\u001b[0m\u001b[1;33m\u001b[0m\u001b[0m\n\u001b[0m\u001b[0;32m    216\u001b[0m \u001b[1;33m\u001b[0m\u001b[0m\n\u001b[0;32m    217\u001b[0m         \u001b[0mself\u001b[0m\u001b[1;33m.\u001b[0m\u001b[0mprocesses\u001b[0m \u001b[1;33m=\u001b[0m \u001b[0mprocesses\u001b[0m \u001b[1;32mif\u001b[0m \u001b[0mprocesses\u001b[0m \u001b[1;33m>=\u001b[0m \u001b[1;36m1\u001b[0m \u001b[1;32melse\u001b[0m \u001b[0mmax\u001b[0m\u001b[1;33m(\u001b[0m\u001b[1;36m1\u001b[0m\u001b[1;33m,\u001b[0m \u001b[0mmp\u001b[0m\u001b[1;33m.\u001b[0m\u001b[0mcpu_count\u001b[0m\u001b[1;33m(\u001b[0m\u001b[1;33m)\u001b[0m \u001b[1;33m-\u001b[0m \u001b[1;36m1\u001b[0m\u001b[1;33m)\u001b[0m\u001b[1;33m\u001b[0m\u001b[1;33m\u001b[0m\u001b[0m\n",
      "\u001b[1;32md:\\miniconda3\\lib\\site-packages\\gensim\\models\\coherencemodel.py\u001b[0m in \u001b[0;36mtopics\u001b[1;34m(self, topics)\u001b[0m\n\u001b[0;32m    428\u001b[0m             \u001b[0mnew_topics\u001b[0m \u001b[1;33m=\u001b[0m \u001b[1;33m[\u001b[0m\u001b[1;33m]\u001b[0m\u001b[1;33m\u001b[0m\u001b[1;33m\u001b[0m\u001b[0m\n\u001b[0;32m    429\u001b[0m             \u001b[1;32mfor\u001b[0m \u001b[0mtopic\u001b[0m \u001b[1;32min\u001b[0m \u001b[0mtopics\u001b[0m\u001b[1;33m:\u001b[0m\u001b[1;33m\u001b[0m\u001b[1;33m\u001b[0m\u001b[0m\n\u001b[1;32m--> 430\u001b[1;33m                 \u001b[0mtopic_token_ids\u001b[0m \u001b[1;33m=\u001b[0m \u001b[0mself\u001b[0m\u001b[1;33m.\u001b[0m\u001b[0m_ensure_elements_are_ids\u001b[0m\u001b[1;33m(\u001b[0m\u001b[0mtopic\u001b[0m\u001b[1;33m)\u001b[0m\u001b[1;33m\u001b[0m\u001b[1;33m\u001b[0m\u001b[0m\n\u001b[0m\u001b[0;32m    431\u001b[0m                 \u001b[0mnew_topics\u001b[0m\u001b[1;33m.\u001b[0m\u001b[0mappend\u001b[0m\u001b[1;33m(\u001b[0m\u001b[0mtopic_token_ids\u001b[0m\u001b[1;33m)\u001b[0m\u001b[1;33m\u001b[0m\u001b[1;33m\u001b[0m\u001b[0m\n\u001b[0;32m    432\u001b[0m \u001b[1;33m\u001b[0m\u001b[0m\n",
      "\u001b[1;32md:\\miniconda3\\lib\\site-packages\\gensim\\models\\coherencemodel.py\u001b[0m in \u001b[0;36m_ensure_elements_are_ids\u001b[1;34m(self, topic)\u001b[0m\n\u001b[0;32m    449\u001b[0m         \u001b[1;32mexcept\u001b[0m \u001b[0mKeyError\u001b[0m\u001b[1;33m:\u001b[0m  \u001b[1;31m# might be a list of token ids already, but let's verify all in dict\u001b[0m\u001b[1;33m\u001b[0m\u001b[1;33m\u001b[0m\u001b[0m\n\u001b[0;32m    450\u001b[0m             \u001b[0mtopic\u001b[0m \u001b[1;33m=\u001b[0m \u001b[1;33m(\u001b[0m\u001b[0mself\u001b[0m\u001b[1;33m.\u001b[0m\u001b[0mdictionary\u001b[0m\u001b[1;33m.\u001b[0m\u001b[0mid2token\u001b[0m\u001b[1;33m[\u001b[0m\u001b[0m_id\u001b[0m\u001b[1;33m]\u001b[0m \u001b[1;32mfor\u001b[0m \u001b[0m_id\u001b[0m \u001b[1;32min\u001b[0m \u001b[0mtopic\u001b[0m\u001b[1;33m)\u001b[0m\u001b[1;33m\u001b[0m\u001b[1;33m\u001b[0m\u001b[0m\n\u001b[1;32m--> 451\u001b[1;33m             \u001b[1;32mreturn\u001b[0m \u001b[0mnp\u001b[0m\u001b[1;33m.\u001b[0m\u001b[0marray\u001b[0m\u001b[1;33m(\u001b[0m\u001b[1;33m[\u001b[0m\u001b[0mself\u001b[0m\u001b[1;33m.\u001b[0m\u001b[0mdictionary\u001b[0m\u001b[1;33m.\u001b[0m\u001b[0mtoken2id\u001b[0m\u001b[1;33m[\u001b[0m\u001b[0mtoken\u001b[0m\u001b[1;33m]\u001b[0m \u001b[1;32mfor\u001b[0m \u001b[0mtoken\u001b[0m \u001b[1;32min\u001b[0m \u001b[0mtopic\u001b[0m\u001b[1;33m]\u001b[0m\u001b[1;33m)\u001b[0m\u001b[1;33m\u001b[0m\u001b[1;33m\u001b[0m\u001b[0m\n\u001b[0m\u001b[0;32m    452\u001b[0m \u001b[1;33m\u001b[0m\u001b[0m\n\u001b[0;32m    453\u001b[0m     \u001b[1;32mdef\u001b[0m \u001b[0m_update_accumulator\u001b[0m\u001b[1;33m(\u001b[0m\u001b[0mself\u001b[0m\u001b[1;33m,\u001b[0m \u001b[0mnew_topics\u001b[0m\u001b[1;33m)\u001b[0m\u001b[1;33m:\u001b[0m\u001b[1;33m\u001b[0m\u001b[1;33m\u001b[0m\u001b[0m\n",
      "\u001b[1;32md:\\miniconda3\\lib\\site-packages\\gensim\\models\\coherencemodel.py\u001b[0m in \u001b[0;36m<listcomp>\u001b[1;34m(.0)\u001b[0m\n\u001b[0;32m    449\u001b[0m         \u001b[1;32mexcept\u001b[0m \u001b[0mKeyError\u001b[0m\u001b[1;33m:\u001b[0m  \u001b[1;31m# might be a list of token ids already, but let's verify all in dict\u001b[0m\u001b[1;33m\u001b[0m\u001b[1;33m\u001b[0m\u001b[0m\n\u001b[0;32m    450\u001b[0m             \u001b[0mtopic\u001b[0m \u001b[1;33m=\u001b[0m \u001b[1;33m(\u001b[0m\u001b[0mself\u001b[0m\u001b[1;33m.\u001b[0m\u001b[0mdictionary\u001b[0m\u001b[1;33m.\u001b[0m\u001b[0mid2token\u001b[0m\u001b[1;33m[\u001b[0m\u001b[0m_id\u001b[0m\u001b[1;33m]\u001b[0m \u001b[1;32mfor\u001b[0m \u001b[0m_id\u001b[0m \u001b[1;32min\u001b[0m \u001b[0mtopic\u001b[0m\u001b[1;33m)\u001b[0m\u001b[1;33m\u001b[0m\u001b[1;33m\u001b[0m\u001b[0m\n\u001b[1;32m--> 451\u001b[1;33m             \u001b[1;32mreturn\u001b[0m \u001b[0mnp\u001b[0m\u001b[1;33m.\u001b[0m\u001b[0marray\u001b[0m\u001b[1;33m(\u001b[0m\u001b[1;33m[\u001b[0m\u001b[0mself\u001b[0m\u001b[1;33m.\u001b[0m\u001b[0mdictionary\u001b[0m\u001b[1;33m.\u001b[0m\u001b[0mtoken2id\u001b[0m\u001b[1;33m[\u001b[0m\u001b[0mtoken\u001b[0m\u001b[1;33m]\u001b[0m \u001b[1;32mfor\u001b[0m \u001b[0mtoken\u001b[0m \u001b[1;32min\u001b[0m \u001b[0mtopic\u001b[0m\u001b[1;33m]\u001b[0m\u001b[1;33m)\u001b[0m\u001b[1;33m\u001b[0m\u001b[1;33m\u001b[0m\u001b[0m\n\u001b[0m\u001b[0;32m    452\u001b[0m \u001b[1;33m\u001b[0m\u001b[0m\n\u001b[0;32m    453\u001b[0m     \u001b[1;32mdef\u001b[0m \u001b[0m_update_accumulator\u001b[0m\u001b[1;33m(\u001b[0m\u001b[0mself\u001b[0m\u001b[1;33m,\u001b[0m \u001b[0mnew_topics\u001b[0m\u001b[1;33m)\u001b[0m\u001b[1;33m:\u001b[0m\u001b[1;33m\u001b[0m\u001b[1;33m\u001b[0m\u001b[0m\n",
      "\u001b[1;32md:\\miniconda3\\lib\\site-packages\\gensim\\models\\coherencemodel.py\u001b[0m in \u001b[0;36m<genexpr>\u001b[1;34m(.0)\u001b[0m\n\u001b[0;32m    448\u001b[0m             \u001b[1;32mreturn\u001b[0m \u001b[0mnp\u001b[0m\u001b[1;33m.\u001b[0m\u001b[0marray\u001b[0m\u001b[1;33m(\u001b[0m\u001b[1;33m[\u001b[0m\u001b[0mself\u001b[0m\u001b[1;33m.\u001b[0m\u001b[0mdictionary\u001b[0m\u001b[1;33m.\u001b[0m\u001b[0mtoken2id\u001b[0m\u001b[1;33m[\u001b[0m\u001b[0mtoken\u001b[0m\u001b[1;33m]\u001b[0m \u001b[1;32mfor\u001b[0m \u001b[0mtoken\u001b[0m \u001b[1;32min\u001b[0m \u001b[0mtopic\u001b[0m\u001b[1;33m]\u001b[0m\u001b[1;33m)\u001b[0m\u001b[1;33m\u001b[0m\u001b[1;33m\u001b[0m\u001b[0m\n\u001b[0;32m    449\u001b[0m         \u001b[1;32mexcept\u001b[0m \u001b[0mKeyError\u001b[0m\u001b[1;33m:\u001b[0m  \u001b[1;31m# might be a list of token ids already, but let's verify all in dict\u001b[0m\u001b[1;33m\u001b[0m\u001b[1;33m\u001b[0m\u001b[0m\n\u001b[1;32m--> 450\u001b[1;33m             \u001b[0mtopic\u001b[0m \u001b[1;33m=\u001b[0m \u001b[1;33m(\u001b[0m\u001b[0mself\u001b[0m\u001b[1;33m.\u001b[0m\u001b[0mdictionary\u001b[0m\u001b[1;33m.\u001b[0m\u001b[0mid2token\u001b[0m\u001b[1;33m[\u001b[0m\u001b[0m_id\u001b[0m\u001b[1;33m]\u001b[0m \u001b[1;32mfor\u001b[0m \u001b[0m_id\u001b[0m \u001b[1;32min\u001b[0m \u001b[0mtopic\u001b[0m\u001b[1;33m)\u001b[0m\u001b[1;33m\u001b[0m\u001b[1;33m\u001b[0m\u001b[0m\n\u001b[0m\u001b[0;32m    451\u001b[0m             \u001b[1;32mreturn\u001b[0m \u001b[0mnp\u001b[0m\u001b[1;33m.\u001b[0m\u001b[0marray\u001b[0m\u001b[1;33m(\u001b[0m\u001b[1;33m[\u001b[0m\u001b[0mself\u001b[0m\u001b[1;33m.\u001b[0m\u001b[0mdictionary\u001b[0m\u001b[1;33m.\u001b[0m\u001b[0mtoken2id\u001b[0m\u001b[1;33m[\u001b[0m\u001b[0mtoken\u001b[0m\u001b[1;33m]\u001b[0m \u001b[1;32mfor\u001b[0m \u001b[0mtoken\u001b[0m \u001b[1;32min\u001b[0m \u001b[0mtopic\u001b[0m\u001b[1;33m]\u001b[0m\u001b[1;33m)\u001b[0m\u001b[1;33m\u001b[0m\u001b[1;33m\u001b[0m\u001b[0m\n\u001b[0;32m    452\u001b[0m \u001b[1;33m\u001b[0m\u001b[0m\n",
      "\u001b[1;31mKeyError\u001b[0m: 'Venus'"
     ]
    }
   ],
   "source": [
    "summ =  \"Venus Power Ventures India Limited's scrip is listed at the Bombay Stock Exchange. BSE on the basis of an internal alert conducted an investigation in the said Scrip for the period from 01 04 2012 to 31 01 2013. There was a decrease in the holding of Ravi Chakravarthy Noticee. I impose a penalty of 50000 Rupees fifty thousand on the noticee Viz. for failing to make disclosures to the company and stock exchanges in the September 2012 quarter. The noticee admitted that he did not make any disclosures. the penalty is in line with the regulations of the SEBI.\"\n",
    "summ_ind_tokens = [word_tokenize(i) for i in summ.split(\". \")]\n",
    "# print(summ_ind_tokens)\n",
    "id2word = corpora.Dictionary(summ_ind_tokens)\n",
    "corpus = [id2word.doc2bow(text) for text in summ_ind_tokens]\n",
    "# cm = CoherenceModel(topics=summ_ind_tokens, corpus=corpus, dictionary=id2word, coherence='u_mass')\n",
    "cm = CoherenceModel(topics=summ_ind_tokens, corpus=common_corpus, dictionary=common_dictionary, coherence='u_mass')\n",
    "print(cm.get_coherence())\n",
    "#-0.9009510160545718\n",
    "#-0.7023449409828717\n",
    "#-0.344044747903167"
   ]
  },
  {
   "cell_type": "code",
   "execution_count": 182,
   "metadata": {},
   "outputs": [
    {
     "ename": "KeyboardInterrupt",
     "evalue": "",
     "output_type": "error",
     "traceback": [
      "\u001b[1;31m---------------------------------------------------------------------------\u001b[0m",
      "\u001b[1;31mKeyboardInterrupt\u001b[0m                         Traceback (most recent call last)",
      "\u001b[1;32m<ipython-input-182-67a99c967b93>\u001b[0m in \u001b[0;36m<module>\u001b[1;34m\u001b[0m\n\u001b[0;32m     20\u001b[0m         \u001b[1;32mfor\u001b[0m \u001b[0mx\u001b[0m \u001b[1;32min\u001b[0m \u001b[0mrange\u001b[0m\u001b[1;33m(\u001b[0m\u001b[1;36m0\u001b[0m\u001b[1;33m,\u001b[0m \u001b[0mlen\u001b[0m\u001b[1;33m(\u001b[0m\u001b[0mpre\u001b[0m\u001b[1;33m)\u001b[0m\u001b[1;33m,\u001b[0m \u001b[1;36m3\u001b[0m\u001b[1;33m)\u001b[0m\u001b[1;33m:\u001b[0m\u001b[1;33m\u001b[0m\u001b[1;33m\u001b[0m\u001b[0m\n\u001b[0;32m     21\u001b[0m             \u001b[0minputs\u001b[0m \u001b[1;33m=\u001b[0m \u001b[0mtokenizer\u001b[0m\u001b[1;33m(\u001b[0m\u001b[1;33m[\u001b[0m\u001b[1;34m\" \"\u001b[0m\u001b[1;33m.\u001b[0m\u001b[0mjoin\u001b[0m\u001b[1;33m(\u001b[0m\u001b[0mpre\u001b[0m\u001b[1;33m[\u001b[0m\u001b[0mx\u001b[0m\u001b[1;33m:\u001b[0m\u001b[0mx\u001b[0m\u001b[1;33m+\u001b[0m\u001b[1;36m3\u001b[0m\u001b[1;33m]\u001b[0m\u001b[1;33m)\u001b[0m\u001b[1;33m]\u001b[0m\u001b[1;33m,\u001b[0m \u001b[0mmax_length\u001b[0m\u001b[1;33m=\u001b[0m\u001b[0mmax_length\u001b[0m\u001b[1;33m,\u001b[0m \u001b[0mreturn_tensors\u001b[0m\u001b[1;33m=\u001b[0m\u001b[1;34m\"pt\"\u001b[0m\u001b[1;33m,\u001b[0m \u001b[0mtruncation\u001b[0m\u001b[1;33m=\u001b[0m\u001b[1;32mTrue\u001b[0m\u001b[1;33m)\u001b[0m\u001b[1;33m\u001b[0m\u001b[1;33m\u001b[0m\u001b[0m\n\u001b[1;32m---> 22\u001b[1;33m             \u001b[0msummary_ids\u001b[0m \u001b[1;33m=\u001b[0m \u001b[0mmodel\u001b[0m\u001b[1;33m.\u001b[0m\u001b[0mgenerate\u001b[0m\u001b[1;33m(\u001b[0m\u001b[0minputs\u001b[0m\u001b[1;33m[\u001b[0m\u001b[1;34m\"input_ids\"\u001b[0m\u001b[1;33m]\u001b[0m\u001b[1;33m)\u001b[0m\u001b[1;33m\u001b[0m\u001b[1;33m\u001b[0m\u001b[0m\n\u001b[0m\u001b[0;32m     23\u001b[0m             \u001b[0mcurr\u001b[0m \u001b[1;33m=\u001b[0m \u001b[0mtokenizer\u001b[0m\u001b[1;33m.\u001b[0m\u001b[0mbatch_decode\u001b[0m\u001b[1;33m(\u001b[0m\u001b[0msummary_ids\u001b[0m\u001b[1;33m,\u001b[0m \u001b[0mskip_special_tokens\u001b[0m\u001b[1;33m=\u001b[0m\u001b[1;32mTrue\u001b[0m\u001b[1;33m,\u001b[0m \u001b[0mclean_up_tokenization_spaces\u001b[0m\u001b[1;33m=\u001b[0m\u001b[1;32mFalse\u001b[0m\u001b[1;33m)\u001b[0m\u001b[1;33m[\u001b[0m\u001b[1;36m0\u001b[0m\u001b[1;33m]\u001b[0m\u001b[1;33m\u001b[0m\u001b[1;33m\u001b[0m\u001b[0m\n\u001b[0;32m     24\u001b[0m             \u001b[0mcurr\u001b[0m \u001b[1;33m=\u001b[0m \u001b[0mcurr\u001b[0m\u001b[1;33m.\u001b[0m\u001b[0mreplace\u001b[0m\u001b[1;33m(\u001b[0m\u001b[1;34mu'\\xa0'\u001b[0m\u001b[1;33m,\u001b[0m \u001b[1;34mu' '\u001b[0m\u001b[1;33m)\u001b[0m\u001b[1;33m\u001b[0m\u001b[1;33m\u001b[0m\u001b[0m\n",
      "\u001b[1;32md:\\miniconda3\\lib\\site-packages\\torch\\autograd\\grad_mode.py\u001b[0m in \u001b[0;36mdecorate_context\u001b[1;34m(*args, **kwargs)\u001b[0m\n\u001b[0;32m     26\u001b[0m         \u001b[1;32mdef\u001b[0m \u001b[0mdecorate_context\u001b[0m\u001b[1;33m(\u001b[0m\u001b[1;33m*\u001b[0m\u001b[0margs\u001b[0m\u001b[1;33m,\u001b[0m \u001b[1;33m**\u001b[0m\u001b[0mkwargs\u001b[0m\u001b[1;33m)\u001b[0m\u001b[1;33m:\u001b[0m\u001b[1;33m\u001b[0m\u001b[1;33m\u001b[0m\u001b[0m\n\u001b[0;32m     27\u001b[0m             \u001b[1;32mwith\u001b[0m \u001b[0mself\u001b[0m\u001b[1;33m.\u001b[0m\u001b[0m__class__\u001b[0m\u001b[1;33m(\u001b[0m\u001b[1;33m)\u001b[0m\u001b[1;33m:\u001b[0m\u001b[1;33m\u001b[0m\u001b[1;33m\u001b[0m\u001b[0m\n\u001b[1;32m---> 28\u001b[1;33m                 \u001b[1;32mreturn\u001b[0m \u001b[0mfunc\u001b[0m\u001b[1;33m(\u001b[0m\u001b[1;33m*\u001b[0m\u001b[0margs\u001b[0m\u001b[1;33m,\u001b[0m \u001b[1;33m**\u001b[0m\u001b[0mkwargs\u001b[0m\u001b[1;33m)\u001b[0m\u001b[1;33m\u001b[0m\u001b[1;33m\u001b[0m\u001b[0m\n\u001b[0m\u001b[0;32m     29\u001b[0m         \u001b[1;32mreturn\u001b[0m \u001b[0mcast\u001b[0m\u001b[1;33m(\u001b[0m\u001b[0mF\u001b[0m\u001b[1;33m,\u001b[0m \u001b[0mdecorate_context\u001b[0m\u001b[1;33m)\u001b[0m\u001b[1;33m\u001b[0m\u001b[1;33m\u001b[0m\u001b[0m\n\u001b[0;32m     30\u001b[0m \u001b[1;33m\u001b[0m\u001b[0m\n",
      "\u001b[1;32md:\\miniconda3\\lib\\site-packages\\transformers\\generation_utils.py\u001b[0m in \u001b[0;36mgenerate\u001b[1;34m(self, input_ids, max_length, min_length, do_sample, early_stopping, num_beams, temperature, top_k, top_p, repetition_penalty, bad_words_ids, bos_token_id, pad_token_id, eos_token_id, length_penalty, no_repeat_ngram_size, encoder_no_repeat_ngram_size, num_return_sequences, max_time, max_new_tokens, decoder_start_token_id, use_cache, num_beam_groups, diversity_penalty, prefix_allowed_tokens_fn, output_attentions, output_hidden_states, output_scores, return_dict_in_generate, forced_bos_token_id, forced_eos_token_id, remove_invalid_values, synced_gpus, **model_kwargs)\u001b[0m\n\u001b[0;32m   1068\u001b[0m                 \u001b[0minput_ids\u001b[0m\u001b[1;33m,\u001b[0m \u001b[0mexpand_size\u001b[0m\u001b[1;33m=\u001b[0m\u001b[0mnum_beams\u001b[0m\u001b[1;33m,\u001b[0m \u001b[0mis_encoder_decoder\u001b[0m\u001b[1;33m=\u001b[0m\u001b[0mself\u001b[0m\u001b[1;33m.\u001b[0m\u001b[0mconfig\u001b[0m\u001b[1;33m.\u001b[0m\u001b[0mis_encoder_decoder\u001b[0m\u001b[1;33m,\u001b[0m \u001b[1;33m**\u001b[0m\u001b[0mmodel_kwargs\u001b[0m\u001b[1;33m\u001b[0m\u001b[1;33m\u001b[0m\u001b[0m\n\u001b[0;32m   1069\u001b[0m             )\n\u001b[1;32m-> 1070\u001b[1;33m             return self.beam_search(\n\u001b[0m\u001b[0;32m   1071\u001b[0m                 \u001b[0minput_ids\u001b[0m\u001b[1;33m,\u001b[0m\u001b[1;33m\u001b[0m\u001b[1;33m\u001b[0m\u001b[0m\n\u001b[0;32m   1072\u001b[0m                 \u001b[0mbeam_scorer\u001b[0m\u001b[1;33m,\u001b[0m\u001b[1;33m\u001b[0m\u001b[1;33m\u001b[0m\u001b[0m\n",
      "\u001b[1;32md:\\miniconda3\\lib\\site-packages\\transformers\\generation_utils.py\u001b[0m in \u001b[0;36mbeam_search\u001b[1;34m(self, input_ids, beam_scorer, logits_processor, stopping_criteria, max_length, pad_token_id, eos_token_id, output_attentions, output_hidden_states, output_scores, return_dict_in_generate, synced_gpus, **model_kwargs)\u001b[0m\n\u001b[0;32m   1805\u001b[0m             \u001b[0mmodel_inputs\u001b[0m \u001b[1;33m=\u001b[0m \u001b[0mself\u001b[0m\u001b[1;33m.\u001b[0m\u001b[0mprepare_inputs_for_generation\u001b[0m\u001b[1;33m(\u001b[0m\u001b[0minput_ids\u001b[0m\u001b[1;33m,\u001b[0m \u001b[1;33m**\u001b[0m\u001b[0mmodel_kwargs\u001b[0m\u001b[1;33m)\u001b[0m\u001b[1;33m\u001b[0m\u001b[1;33m\u001b[0m\u001b[0m\n\u001b[0;32m   1806\u001b[0m \u001b[1;33m\u001b[0m\u001b[0m\n\u001b[1;32m-> 1807\u001b[1;33m             outputs = self(\n\u001b[0m\u001b[0;32m   1808\u001b[0m                 \u001b[1;33m**\u001b[0m\u001b[0mmodel_inputs\u001b[0m\u001b[1;33m,\u001b[0m\u001b[1;33m\u001b[0m\u001b[1;33m\u001b[0m\u001b[0m\n\u001b[0;32m   1809\u001b[0m                 \u001b[0mreturn_dict\u001b[0m\u001b[1;33m=\u001b[0m\u001b[1;32mTrue\u001b[0m\u001b[1;33m,\u001b[0m\u001b[1;33m\u001b[0m\u001b[1;33m\u001b[0m\u001b[0m\n",
      "\u001b[1;32md:\\miniconda3\\lib\\site-packages\\torch\\nn\\modules\\module.py\u001b[0m in \u001b[0;36m_call_impl\u001b[1;34m(self, *input, **kwargs)\u001b[0m\n\u001b[0;32m   1100\u001b[0m         if not (self._backward_hooks or self._forward_hooks or self._forward_pre_hooks or _global_backward_hooks\n\u001b[0;32m   1101\u001b[0m                 or _global_forward_hooks or _global_forward_pre_hooks):\n\u001b[1;32m-> 1102\u001b[1;33m             \u001b[1;32mreturn\u001b[0m \u001b[0mforward_call\u001b[0m\u001b[1;33m(\u001b[0m\u001b[1;33m*\u001b[0m\u001b[0minput\u001b[0m\u001b[1;33m,\u001b[0m \u001b[1;33m**\u001b[0m\u001b[0mkwargs\u001b[0m\u001b[1;33m)\u001b[0m\u001b[1;33m\u001b[0m\u001b[1;33m\u001b[0m\u001b[0m\n\u001b[0m\u001b[0;32m   1103\u001b[0m         \u001b[1;31m# Do not call functions when jit is used\u001b[0m\u001b[1;33m\u001b[0m\u001b[1;33m\u001b[0m\u001b[1;33m\u001b[0m\u001b[0m\n\u001b[0;32m   1104\u001b[0m         \u001b[0mfull_backward_hooks\u001b[0m\u001b[1;33m,\u001b[0m \u001b[0mnon_full_backward_hooks\u001b[0m \u001b[1;33m=\u001b[0m \u001b[1;33m[\u001b[0m\u001b[1;33m]\u001b[0m\u001b[1;33m,\u001b[0m \u001b[1;33m[\u001b[0m\u001b[1;33m]\u001b[0m\u001b[1;33m\u001b[0m\u001b[1;33m\u001b[0m\u001b[0m\n",
      "\u001b[1;32md:\\miniconda3\\lib\\site-packages\\transformers\\models\\bart\\modeling_bart.py\u001b[0m in \u001b[0;36mforward\u001b[1;34m(self, input_ids, attention_mask, decoder_input_ids, decoder_attention_mask, head_mask, decoder_head_mask, cross_attn_head_mask, encoder_outputs, past_key_values, inputs_embeds, decoder_inputs_embeds, labels, use_cache, output_attentions, output_hidden_states, return_dict)\u001b[0m\n\u001b[0;32m   1319\u001b[0m                 )\n\u001b[0;32m   1320\u001b[0m \u001b[1;33m\u001b[0m\u001b[0m\n\u001b[1;32m-> 1321\u001b[1;33m         outputs = self.model(\n\u001b[0m\u001b[0;32m   1322\u001b[0m             \u001b[0minput_ids\u001b[0m\u001b[1;33m,\u001b[0m\u001b[1;33m\u001b[0m\u001b[1;33m\u001b[0m\u001b[0m\n\u001b[0;32m   1323\u001b[0m             \u001b[0mattention_mask\u001b[0m\u001b[1;33m=\u001b[0m\u001b[0mattention_mask\u001b[0m\u001b[1;33m,\u001b[0m\u001b[1;33m\u001b[0m\u001b[1;33m\u001b[0m\u001b[0m\n",
      "\u001b[1;32md:\\miniconda3\\lib\\site-packages\\torch\\nn\\modules\\module.py\u001b[0m in \u001b[0;36m_call_impl\u001b[1;34m(self, *input, **kwargs)\u001b[0m\n\u001b[0;32m   1100\u001b[0m         if not (self._backward_hooks or self._forward_hooks or self._forward_pre_hooks or _global_backward_hooks\n\u001b[0;32m   1101\u001b[0m                 or _global_forward_hooks or _global_forward_pre_hooks):\n\u001b[1;32m-> 1102\u001b[1;33m             \u001b[1;32mreturn\u001b[0m \u001b[0mforward_call\u001b[0m\u001b[1;33m(\u001b[0m\u001b[1;33m*\u001b[0m\u001b[0minput\u001b[0m\u001b[1;33m,\u001b[0m \u001b[1;33m**\u001b[0m\u001b[0mkwargs\u001b[0m\u001b[1;33m)\u001b[0m\u001b[1;33m\u001b[0m\u001b[1;33m\u001b[0m\u001b[0m\n\u001b[0m\u001b[0;32m   1103\u001b[0m         \u001b[1;31m# Do not call functions when jit is used\u001b[0m\u001b[1;33m\u001b[0m\u001b[1;33m\u001b[0m\u001b[1;33m\u001b[0m\u001b[0m\n\u001b[0;32m   1104\u001b[0m         \u001b[0mfull_backward_hooks\u001b[0m\u001b[1;33m,\u001b[0m \u001b[0mnon_full_backward_hooks\u001b[0m \u001b[1;33m=\u001b[0m \u001b[1;33m[\u001b[0m\u001b[1;33m]\u001b[0m\u001b[1;33m,\u001b[0m \u001b[1;33m[\u001b[0m\u001b[1;33m]\u001b[0m\u001b[1;33m\u001b[0m\u001b[1;33m\u001b[0m\u001b[0m\n",
      "\u001b[1;32md:\\miniconda3\\lib\\site-packages\\transformers\\models\\bart\\modeling_bart.py\u001b[0m in \u001b[0;36mforward\u001b[1;34m(self, input_ids, attention_mask, decoder_input_ids, decoder_attention_mask, head_mask, decoder_head_mask, cross_attn_head_mask, encoder_outputs, past_key_values, inputs_embeds, decoder_inputs_embeds, use_cache, output_attentions, output_hidden_states, return_dict)\u001b[0m\n\u001b[0;32m   1209\u001b[0m \u001b[1;33m\u001b[0m\u001b[0m\n\u001b[0;32m   1210\u001b[0m         \u001b[1;31m# decoder outputs consists of (dec_features, past_key_value, dec_hidden, dec_attn)\u001b[0m\u001b[1;33m\u001b[0m\u001b[1;33m\u001b[0m\u001b[1;33m\u001b[0m\u001b[0m\n\u001b[1;32m-> 1211\u001b[1;33m         decoder_outputs = self.decoder(\n\u001b[0m\u001b[0;32m   1212\u001b[0m             \u001b[0minput_ids\u001b[0m\u001b[1;33m=\u001b[0m\u001b[0mdecoder_input_ids\u001b[0m\u001b[1;33m,\u001b[0m\u001b[1;33m\u001b[0m\u001b[1;33m\u001b[0m\u001b[0m\n\u001b[0;32m   1213\u001b[0m             \u001b[0mattention_mask\u001b[0m\u001b[1;33m=\u001b[0m\u001b[0mdecoder_attention_mask\u001b[0m\u001b[1;33m,\u001b[0m\u001b[1;33m\u001b[0m\u001b[1;33m\u001b[0m\u001b[0m\n",
      "\u001b[1;32md:\\miniconda3\\lib\\site-packages\\torch\\nn\\modules\\module.py\u001b[0m in \u001b[0;36m_call_impl\u001b[1;34m(self, *input, **kwargs)\u001b[0m\n\u001b[0;32m   1100\u001b[0m         if not (self._backward_hooks or self._forward_hooks or self._forward_pre_hooks or _global_backward_hooks\n\u001b[0;32m   1101\u001b[0m                 or _global_forward_hooks or _global_forward_pre_hooks):\n\u001b[1;32m-> 1102\u001b[1;33m             \u001b[1;32mreturn\u001b[0m \u001b[0mforward_call\u001b[0m\u001b[1;33m(\u001b[0m\u001b[1;33m*\u001b[0m\u001b[0minput\u001b[0m\u001b[1;33m,\u001b[0m \u001b[1;33m**\u001b[0m\u001b[0mkwargs\u001b[0m\u001b[1;33m)\u001b[0m\u001b[1;33m\u001b[0m\u001b[1;33m\u001b[0m\u001b[0m\n\u001b[0m\u001b[0;32m   1103\u001b[0m         \u001b[1;31m# Do not call functions when jit is used\u001b[0m\u001b[1;33m\u001b[0m\u001b[1;33m\u001b[0m\u001b[1;33m\u001b[0m\u001b[0m\n\u001b[0;32m   1104\u001b[0m         \u001b[0mfull_backward_hooks\u001b[0m\u001b[1;33m,\u001b[0m \u001b[0mnon_full_backward_hooks\u001b[0m \u001b[1;33m=\u001b[0m \u001b[1;33m[\u001b[0m\u001b[1;33m]\u001b[0m\u001b[1;33m,\u001b[0m \u001b[1;33m[\u001b[0m\u001b[1;33m]\u001b[0m\u001b[1;33m\u001b[0m\u001b[1;33m\u001b[0m\u001b[0m\n",
      "\u001b[1;32md:\\miniconda3\\lib\\site-packages\\transformers\\models\\bart\\modeling_bart.py\u001b[0m in \u001b[0;36mforward\u001b[1;34m(self, input_ids, attention_mask, encoder_hidden_states, encoder_attention_mask, head_mask, cross_attn_head_mask, past_key_values, inputs_embeds, use_cache, output_attentions, output_hidden_states, return_dict)\u001b[0m\n\u001b[0;32m   1075\u001b[0m             \u001b[1;32melse\u001b[0m\u001b[1;33m:\u001b[0m\u001b[1;33m\u001b[0m\u001b[1;33m\u001b[0m\u001b[0m\n\u001b[0;32m   1076\u001b[0m \u001b[1;33m\u001b[0m\u001b[0m\n\u001b[1;32m-> 1077\u001b[1;33m                 layer_outputs = decoder_layer(\n\u001b[0m\u001b[0;32m   1078\u001b[0m                     \u001b[0mhidden_states\u001b[0m\u001b[1;33m,\u001b[0m\u001b[1;33m\u001b[0m\u001b[1;33m\u001b[0m\u001b[0m\n\u001b[0;32m   1079\u001b[0m                     \u001b[0mattention_mask\u001b[0m\u001b[1;33m=\u001b[0m\u001b[0mattention_mask\u001b[0m\u001b[1;33m,\u001b[0m\u001b[1;33m\u001b[0m\u001b[1;33m\u001b[0m\u001b[0m\n",
      "\u001b[1;32md:\\miniconda3\\lib\\site-packages\\torch\\nn\\modules\\module.py\u001b[0m in \u001b[0;36m_call_impl\u001b[1;34m(self, *input, **kwargs)\u001b[0m\n\u001b[0;32m   1100\u001b[0m         if not (self._backward_hooks or self._forward_hooks or self._forward_pre_hooks or _global_backward_hooks\n\u001b[0;32m   1101\u001b[0m                 or _global_forward_hooks or _global_forward_pre_hooks):\n\u001b[1;32m-> 1102\u001b[1;33m             \u001b[1;32mreturn\u001b[0m \u001b[0mforward_call\u001b[0m\u001b[1;33m(\u001b[0m\u001b[1;33m*\u001b[0m\u001b[0minput\u001b[0m\u001b[1;33m,\u001b[0m \u001b[1;33m**\u001b[0m\u001b[0mkwargs\u001b[0m\u001b[1;33m)\u001b[0m\u001b[1;33m\u001b[0m\u001b[1;33m\u001b[0m\u001b[0m\n\u001b[0m\u001b[0;32m   1103\u001b[0m         \u001b[1;31m# Do not call functions when jit is used\u001b[0m\u001b[1;33m\u001b[0m\u001b[1;33m\u001b[0m\u001b[1;33m\u001b[0m\u001b[0m\n\u001b[0;32m   1104\u001b[0m         \u001b[0mfull_backward_hooks\u001b[0m\u001b[1;33m,\u001b[0m \u001b[0mnon_full_backward_hooks\u001b[0m \u001b[1;33m=\u001b[0m \u001b[1;33m[\u001b[0m\u001b[1;33m]\u001b[0m\u001b[1;33m,\u001b[0m \u001b[1;33m[\u001b[0m\u001b[1;33m]\u001b[0m\u001b[1;33m\u001b[0m\u001b[1;33m\u001b[0m\u001b[0m\n",
      "\u001b[1;32md:\\miniconda3\\lib\\site-packages\\transformers\\models\\bart\\modeling_bart.py\u001b[0m in \u001b[0;36mforward\u001b[1;34m(self, hidden_states, attention_mask, encoder_hidden_states, encoder_attention_mask, layer_head_mask, cross_attn_layer_head_mask, past_key_value, output_attentions, use_cache)\u001b[0m\n\u001b[0;32m    399\u001b[0m         \u001b[0mself_attn_past_key_value\u001b[0m \u001b[1;33m=\u001b[0m \u001b[0mpast_key_value\u001b[0m\u001b[1;33m[\u001b[0m\u001b[1;33m:\u001b[0m\u001b[1;36m2\u001b[0m\u001b[1;33m]\u001b[0m \u001b[1;32mif\u001b[0m \u001b[0mpast_key_value\u001b[0m \u001b[1;32mis\u001b[0m \u001b[1;32mnot\u001b[0m \u001b[1;32mNone\u001b[0m \u001b[1;32melse\u001b[0m \u001b[1;32mNone\u001b[0m\u001b[1;33m\u001b[0m\u001b[1;33m\u001b[0m\u001b[0m\n\u001b[0;32m    400\u001b[0m         \u001b[1;31m# add present self-attn cache to positions 1,2 of present_key_value tuple\u001b[0m\u001b[1;33m\u001b[0m\u001b[1;33m\u001b[0m\u001b[1;33m\u001b[0m\u001b[0m\n\u001b[1;32m--> 401\u001b[1;33m         hidden_states, self_attn_weights, present_key_value = self.self_attn(\n\u001b[0m\u001b[0;32m    402\u001b[0m             \u001b[0mhidden_states\u001b[0m\u001b[1;33m=\u001b[0m\u001b[0mhidden_states\u001b[0m\u001b[1;33m,\u001b[0m\u001b[1;33m\u001b[0m\u001b[1;33m\u001b[0m\u001b[0m\n\u001b[0;32m    403\u001b[0m             \u001b[0mpast_key_value\u001b[0m\u001b[1;33m=\u001b[0m\u001b[0mself_attn_past_key_value\u001b[0m\u001b[1;33m,\u001b[0m\u001b[1;33m\u001b[0m\u001b[1;33m\u001b[0m\u001b[0m\n",
      "\u001b[1;32md:\\miniconda3\\lib\\site-packages\\torch\\nn\\modules\\module.py\u001b[0m in \u001b[0;36m_call_impl\u001b[1;34m(self, *input, **kwargs)\u001b[0m\n\u001b[0;32m   1100\u001b[0m         if not (self._backward_hooks or self._forward_hooks or self._forward_pre_hooks or _global_backward_hooks\n\u001b[0;32m   1101\u001b[0m                 or _global_forward_hooks or _global_forward_pre_hooks):\n\u001b[1;32m-> 1102\u001b[1;33m             \u001b[1;32mreturn\u001b[0m \u001b[0mforward_call\u001b[0m\u001b[1;33m(\u001b[0m\u001b[1;33m*\u001b[0m\u001b[0minput\u001b[0m\u001b[1;33m,\u001b[0m \u001b[1;33m**\u001b[0m\u001b[0mkwargs\u001b[0m\u001b[1;33m)\u001b[0m\u001b[1;33m\u001b[0m\u001b[1;33m\u001b[0m\u001b[0m\n\u001b[0m\u001b[0;32m   1103\u001b[0m         \u001b[1;31m# Do not call functions when jit is used\u001b[0m\u001b[1;33m\u001b[0m\u001b[1;33m\u001b[0m\u001b[1;33m\u001b[0m\u001b[0m\n\u001b[0;32m   1104\u001b[0m         \u001b[0mfull_backward_hooks\u001b[0m\u001b[1;33m,\u001b[0m \u001b[0mnon_full_backward_hooks\u001b[0m \u001b[1;33m=\u001b[0m \u001b[1;33m[\u001b[0m\u001b[1;33m]\u001b[0m\u001b[1;33m,\u001b[0m \u001b[1;33m[\u001b[0m\u001b[1;33m]\u001b[0m\u001b[1;33m\u001b[0m\u001b[1;33m\u001b[0m\u001b[0m\n",
      "\u001b[1;32md:\\miniconda3\\lib\\site-packages\\transformers\\models\\bart\\modeling_bart.py\u001b[0m in \u001b[0;36mforward\u001b[1;34m(self, hidden_states, key_value_states, past_key_value, attention_mask, layer_head_mask, output_attentions)\u001b[0m\n\u001b[0;32m    190\u001b[0m             \u001b[0mkey_states\u001b[0m \u001b[1;33m=\u001b[0m \u001b[0mself\u001b[0m\u001b[1;33m.\u001b[0m\u001b[0m_shape\u001b[0m\u001b[1;33m(\u001b[0m\u001b[0mself\u001b[0m\u001b[1;33m.\u001b[0m\u001b[0mk_proj\u001b[0m\u001b[1;33m(\u001b[0m\u001b[0mhidden_states\u001b[0m\u001b[1;33m)\u001b[0m\u001b[1;33m,\u001b[0m \u001b[1;33m-\u001b[0m\u001b[1;36m1\u001b[0m\u001b[1;33m,\u001b[0m \u001b[0mbsz\u001b[0m\u001b[1;33m)\u001b[0m\u001b[1;33m\u001b[0m\u001b[1;33m\u001b[0m\u001b[0m\n\u001b[0;32m    191\u001b[0m             \u001b[0mvalue_states\u001b[0m \u001b[1;33m=\u001b[0m \u001b[0mself\u001b[0m\u001b[1;33m.\u001b[0m\u001b[0m_shape\u001b[0m\u001b[1;33m(\u001b[0m\u001b[0mself\u001b[0m\u001b[1;33m.\u001b[0m\u001b[0mv_proj\u001b[0m\u001b[1;33m(\u001b[0m\u001b[0mhidden_states\u001b[0m\u001b[1;33m)\u001b[0m\u001b[1;33m,\u001b[0m \u001b[1;33m-\u001b[0m\u001b[1;36m1\u001b[0m\u001b[1;33m,\u001b[0m \u001b[0mbsz\u001b[0m\u001b[1;33m)\u001b[0m\u001b[1;33m\u001b[0m\u001b[1;33m\u001b[0m\u001b[0m\n\u001b[1;32m--> 192\u001b[1;33m             \u001b[0mkey_states\u001b[0m \u001b[1;33m=\u001b[0m \u001b[0mtorch\u001b[0m\u001b[1;33m.\u001b[0m\u001b[0mcat\u001b[0m\u001b[1;33m(\u001b[0m\u001b[1;33m[\u001b[0m\u001b[0mpast_key_value\u001b[0m\u001b[1;33m[\u001b[0m\u001b[1;36m0\u001b[0m\u001b[1;33m]\u001b[0m\u001b[1;33m,\u001b[0m \u001b[0mkey_states\u001b[0m\u001b[1;33m]\u001b[0m\u001b[1;33m,\u001b[0m \u001b[0mdim\u001b[0m\u001b[1;33m=\u001b[0m\u001b[1;36m2\u001b[0m\u001b[1;33m)\u001b[0m\u001b[1;33m\u001b[0m\u001b[1;33m\u001b[0m\u001b[0m\n\u001b[0m\u001b[0;32m    193\u001b[0m             \u001b[0mvalue_states\u001b[0m \u001b[1;33m=\u001b[0m \u001b[0mtorch\u001b[0m\u001b[1;33m.\u001b[0m\u001b[0mcat\u001b[0m\u001b[1;33m(\u001b[0m\u001b[1;33m[\u001b[0m\u001b[0mpast_key_value\u001b[0m\u001b[1;33m[\u001b[0m\u001b[1;36m1\u001b[0m\u001b[1;33m]\u001b[0m\u001b[1;33m,\u001b[0m \u001b[0mvalue_states\u001b[0m\u001b[1;33m]\u001b[0m\u001b[1;33m,\u001b[0m \u001b[0mdim\u001b[0m\u001b[1;33m=\u001b[0m\u001b[1;36m2\u001b[0m\u001b[1;33m)\u001b[0m\u001b[1;33m\u001b[0m\u001b[1;33m\u001b[0m\u001b[0m\n\u001b[0;32m    194\u001b[0m         \u001b[1;32melse\u001b[0m\u001b[1;33m:\u001b[0m\u001b[1;33m\u001b[0m\u001b[1;33m\u001b[0m\u001b[0m\n",
      "\u001b[1;31mKeyboardInterrupt\u001b[0m: "
     ]
    }
   ],
   "source": [
    "pipe_metrics = [[[], [], [], []], [[], [], [], []], [[], [], [], []]]\n",
    "\n",
    "loc = [\"investor\", \"defense\", \"ao\"]\n",
    "\n",
    "itcount = 0\n",
    "\n",
    "for j in range(len(loc)):\n",
    "    for i in os.listdir(\"./gen_data/\" + str(loc[j]) + \"/\"):\n",
    "        if itcount==25:\n",
    "            break\n",
    "        itcount+=1\n",
    "        with open(\"./gen_data/\" + str(loc[j]) + \"/\" + str(i), encoding=\"utf-8\") as f:\n",
    "            text = f.read()\n",
    "            f.close()\n",
    "        pre = text.split(\"\\n\")\n",
    "        if len(pre) < 2:\n",
    "            continue\n",
    "        article = \" \".join(pre)\n",
    "        out = \"\"\n",
    "        for x in range(0, len(pre), 3):\n",
    "            inputs = tokenizer([\" \".join(pre[x:x+3])], max_length=max_length, return_tensors=\"pt\", truncation=True)\n",
    "            summary_ids = model.generate(inputs[\"input_ids\"])\n",
    "            curr = tokenizer.batch_decode(summary_ids, skip_special_tokens=True, clean_up_tokenization_spaces=False)[0]\n",
    "            curr = curr.replace(u'\\xa0', u' ')\n",
    "            curr = re.sub(\" +\", \" \", curr)\n",
    "            curr = re.sub(\" Rs\\. \", \" Rs \", curr)\n",
    "            curr = re.sub(\" rs\\. \", \" rs \", curr)\n",
    "            curr = re.sub(\" Mrs\\. \", \" Mrs \", curr)\n",
    "            curr = re.sub(\" Mr\\. \", \" Mr \", curr)\n",
    "            curr = re.sub(\" Ltd\\. \", \" Ltd \", curr)\n",
    "            if len(pre)-x<3:\n",
    "                curr = \". \".join(curr.split(\". \")[:len(pre)-x])\n",
    "            out += \" \" + curr\n",
    "        out = out.replace(u'\\xa0', u' ')\n",
    "        summ = re.sub(\" +\", \" \", out)\n",
    "        # print(summ)\n",
    "        with open(\"./pipe_gen_out/\" + str(loc[j]) + \"/out_\" + str(i), \"w+\", encoding=\"utf-8\") as f:\n",
    "            f.write(summ)\n",
    "            f.close()\n",
    "        scorer = rouge_scorer.RougeScorer(['rouge1', 'rouge2', 'rougeL'], use_stemmer=True)\n",
    "        scores = scorer.score(article, summ)\n",
    "        print(scores)\n",
    "        # source_sbert = smodel.encode(article, convert_to_tensor=True)\n",
    "        # summ_sbert = smodel.encode(summ, convert_to_tensor=True)\n",
    "        # try:\n",
    "        #     pipe_metrics[j][0].append(util.cos_sim(source_sbert, summ_sbert))\n",
    "        # except:\n",
    "        #     pipe_metrics[j][0].append(0)\n",
    "        # source_sbert = np.array(source_sbert.cpu())\n",
    "        # summ_sbert = np.array(summ_sbert.cpu())\n",
    "        # source_tokens = word_tokenize(article)\n",
    "        # summ_tokens = word_tokenize(summ)\n",
    "        # # print(len(summ_tokens), len(source_tokens))\n",
    "        # try:\n",
    "        #     pipe_metrics[j][1].append(len(summ_tokens)/len(source_tokens))\n",
    "        # except:\n",
    "        #     pipe_metrics[j][1].append(0)\n",
    "        # count = 0\n",
    "        # sum = 0\n",
    "        # summlist = summ.split(\". \")\n",
    "        # for ind1, m in enumerate(summlist):\n",
    "        #     for ind2, n in enumerate(summlist[ind1+1:]):\n",
    "        #         sbert_m = smodel.encode(m, convert_to_tensor=True)\n",
    "        #         sbert_n = smodel.encode(n, convert_to_tensor=True)\n",
    "        #         count+=1\n",
    "        #         sum+=util.cos_sim(sbert_m, sbert_n)[0][0]\n",
    "        # try:\n",
    "        #     pipe_metrics[j][2].append(sum/count)\n",
    "        # except: \n",
    "        #     pipe_metrics[j][2].append(0)\n",
    "        # summ_ind_tokens = [word_tokenize(i) for i in summ.split(\". \")]\n",
    "        # try:\n",
    "        #     id2word = corpora.Dictionary(summ_ind_tokens)\n",
    "        #     corpus = [id2word.doc2bow(text) for text in summ_ind_tokens]\n",
    "        #     cm = CoherenceModel(topics=summ_ind_tokens, corpus=corpus, dictionary=id2word, coherence='u_mass')\n",
    "        # except:\n",
    "        #     id2word = corpora.Dictionary([source_tokens, summ_tokens])\n",
    "        #     corpus = [id2word.doc2bow(text) for text in [source_tokens, summ_tokens]]\n",
    "        #     cm = CoherenceModel(topics=[source_tokens, summ_tokens], corpus=corpus, dictionary=id2word, coherence='u_mass')\n",
    "        # pipe_metrics[j][3].append(cm.get_coherence())\n",
    "        # print(itcount, np.sum(np.array(pipe_metrics[j]), axis=1)/np.shape(pipe_metrics[j])[1])\n",
    "\n",
    "# 0.9065 0.400 0.375"
   ]
  },
  {
   "cell_type": "code",
   "execution_count": null,
   "metadata": {},
   "outputs": [],
   "source": [
    "ref = \"\"\n",
    "summ = \"\"\n",
    "\n",
    "scorer = rouge_scorer.RougeScorer(['rouge1', 'rouge2', 'rougeL'], use_stemmer=True)\n",
    "scores = scorer.score(ref, summ)"
   ]
  },
  {
   "cell_type": "code",
   "execution_count": 94,
   "metadata": {},
   "outputs": [
    {
     "name": "stderr",
     "output_type": "stream",
     "text": [
      "  0%|          | 0/1495 [00:00<?, ?it/s]<ipython-input-94-eca4c135c937>:62: FutureWarning: The input object of type 'Tensor' is an array-like implementing one of the corresponding protocols (`__array__`, `__array_interface__` or `__array_struct__`); but not a sequence (or 0-D). In the future, this object will be coerced as if it was first converted using `np.array(obj)`. To retain the old behaviour, you have to either modify the type 'Tensor', or assign to an empty array created with `np.empty(correct_shape, dtype=object)`.\n",
      "  print(itcount, np.sum(np.array(metrics[j]), axis=1)/np.shape(metrics[j])[1])\n",
      "  0%|          | 1/1495 [00:12<5:11:38, 12.52s/it]"
     ]
    },
    {
     "name": "stdout",
     "output_type": "stream",
     "text": [
      "1 [ 0.67055345  0.14933333  0.30950633 -0.0638425 ]\n"
     ]
    },
    {
     "name": "stderr",
     "output_type": "stream",
     "text": [
      "<ipython-input-94-eca4c135c937>:62: VisibleDeprecationWarning: Creating an ndarray from ragged nested sequences (which is a list-or-tuple of lists-or-tuples-or ndarrays with different lengths or shapes) is deprecated. If you meant to do this, you must specify 'dtype=object' when creating the ndarray.\n",
      "  print(itcount, np.sum(np.array(metrics[j]), axis=1)/np.shape(metrics[j])[1])\n",
      "  0%|          | 2/1495 [00:27<5:26:41, 13.13s/it]"
     ]
    },
    {
     "name": "stdout",
     "output_type": "stream",
     "text": [
      "2 [tensor([[0.7616]]) 0.09505941591137966 tensor(0.4269)\n",
      " -0.051986038540701114]\n"
     ]
    },
    {
     "name": "stderr",
     "output_type": "stream",
     "text": [
      "  0%|          | 3/1495 [00:43<5:52:43, 14.18s/it]"
     ]
    },
    {
     "name": "stdout",
     "output_type": "stream",
     "text": [
      "3 [tensor([[0.8025]]) 0.07265843339638091 tensor(0.4153)\n",
      " -0.08998752870292882]\n"
     ]
    },
    {
     "name": "stderr",
     "output_type": "stream",
     "text": [
      "  0%|          | 4/1495 [00:58<5:55:25, 14.30s/it]"
     ]
    },
    {
     "name": "stdout",
     "output_type": "stream",
     "text": [
      "4 [tensor([[0.8019]]) 0.06890558975316803 tensor(0.4207)\n",
      " -0.08345127239500194]\n"
     ]
    },
    {
     "name": "stderr",
     "output_type": "stream",
     "text": [
      "  0%|          | 5/1495 [01:10<5:38:29, 13.63s/it]"
     ]
    },
    {
     "name": "stdout",
     "output_type": "stream",
     "text": [
      "5 [tensor([[0.8039]]) 0.0796437025717652 tensor(0.4352) -0.07697581847132495]\n"
     ]
    },
    {
     "name": "stderr",
     "output_type": "stream",
     "text": [
      "  0%|          | 6/1495 [01:24<5:43:25, 13.84s/it]"
     ]
    },
    {
     "name": "stdout",
     "output_type": "stream",
     "text": [
      "6 [tensor([[0.8032]]) 0.07554578210568448 tensor(0.4302)\n",
      " -0.08725142141118608]\n"
     ]
    },
    {
     "name": "stderr",
     "output_type": "stream",
     "text": [
      "  0%|          | 7/1495 [01:39<5:46:50, 13.99s/it]"
     ]
    },
    {
     "name": "stdout",
     "output_type": "stream",
     "text": [
      "7 [tensor([[0.8107]]) 0.06931182818467002 tensor(0.4154)\n",
      " -0.07921682063402569]\n"
     ]
    },
    {
     "name": "stderr",
     "output_type": "stream",
     "text": [
      "  1%|          | 8/1495 [01:53<5:53:05, 14.25s/it]"
     ]
    },
    {
     "name": "stdout",
     "output_type": "stream",
     "text": [
      "8 [tensor([[0.8090]]) 0.06406276144303191 tensor(0.4137)\n",
      " -0.07159480746433644]\n"
     ]
    },
    {
     "name": "stderr",
     "output_type": "stream",
     "text": [
      "  1%|          | 9/1495 [02:09<6:01:30, 14.60s/it]"
     ]
    },
    {
     "name": "stdout",
     "output_type": "stream",
     "text": [
      "9 [tensor([[0.8101]]) 0.061456354120628505 tensor(0.4233)\n",
      " -0.07802972646516225]\n"
     ]
    },
    {
     "name": "stderr",
     "output_type": "stream",
     "text": [
      "d:\\miniconda3\\lib\\site-packages\\numpy\\core\\fromnumeric.py:3432: RuntimeWarning: Mean of empty slice.\n",
      "  return _methods._mean(a, axis=axis, dtype=dtype,\n",
      "d:\\miniconda3\\lib\\site-packages\\numpy\\core\\_methods.py:190: RuntimeWarning: invalid value encountered in double_scalars\n",
      "  ret = ret.dtype.type(ret / rcount)\n",
      "  1%|          | 10/1495 [02:17<5:15:46, 12.76s/it]"
     ]
    },
    {
     "name": "stdout",
     "output_type": "stream",
     "text": [
      "10 [tensor([[0.7403]]) 0.05531071870856565 tensor(0.3981) nan]\n"
     ]
    },
    {
     "name": "stderr",
     "output_type": "stream",
     "text": [
      "  1%|          | 11/1495 [02:32<5:33:07, 13.47s/it]"
     ]
    },
    {
     "name": "stdout",
     "output_type": "stream",
     "text": [
      "11 [tensor([[0.7395]]) 0.05283668339644418 tensor(0.3916) nan]\n"
     ]
    },
    {
     "name": "stderr",
     "output_type": "stream",
     "text": [
      "  1%|          | 12/1495 [02:48<5:48:19, 14.09s/it]"
     ]
    },
    {
     "name": "stdout",
     "output_type": "stream",
     "text": [
      "12 [tensor([[0.7500]]) 0.05348124549435954 tensor(0.3999) nan]\n"
     ]
    },
    {
     "name": "stderr",
     "output_type": "stream",
     "text": [
      "  1%|          | 13/1495 [03:02<5:50:31, 14.19s/it]"
     ]
    },
    {
     "name": "stdout",
     "output_type": "stream",
     "text": [
      "13 [tensor([[0.7534]]) 0.05191196769060003 tensor(0.3969) nan]\n"
     ]
    },
    {
     "name": "stderr",
     "output_type": "stream",
     "text": [
      "  1%|          | 14/1495 [03:12<5:17:49, 12.88s/it]"
     ]
    },
    {
     "name": "stdout",
     "output_type": "stream",
     "text": [
      "14 [tensor([[0.7613]]) 0.059801228828145474 tensor(0.4009) nan]\n"
     ]
    },
    {
     "name": "stderr",
     "output_type": "stream",
     "text": [
      "  1%|          | 15/1495 [03:26<5:27:32, 13.28s/it]"
     ]
    },
    {
     "name": "stdout",
     "output_type": "stream",
     "text": [
      "15 [tensor([[0.7592]]) 0.05679458978125709 tensor(0.3959) nan]\n"
     ]
    },
    {
     "name": "stderr",
     "output_type": "stream",
     "text": [
      "  1%|          | 16/1495 [03:37<5:04:49, 12.37s/it]"
     ]
    },
    {
     "name": "stdout",
     "output_type": "stream",
     "text": [
      "16 [tensor([[0.7676]]) 0.06287543106458261 tensor(0.4015) nan]\n"
     ]
    },
    {
     "name": "stderr",
     "output_type": "stream",
     "text": [
      "  1%|          | 17/1495 [03:53<5:32:14, 13.49s/it]"
     ]
    },
    {
     "name": "stdout",
     "output_type": "stream",
     "text": [
      "17 [tensor([[0.7671]]) 0.06075754695205608 tensor(0.4047) nan]\n"
     ]
    },
    {
     "name": "stderr",
     "output_type": "stream",
     "text": [
      "  1%|          | 18/1495 [04:10<6:00:15, 14.63s/it]"
     ]
    },
    {
     "name": "stdout",
     "output_type": "stream",
     "text": [
      "18 [tensor([[0.7649]]) 0.05839154894208317 tensor(0.4079) nan]\n"
     ]
    },
    {
     "name": "stderr",
     "output_type": "stream",
     "text": [
      "  1%|▏         | 19/1495 [04:20<5:28:42, 13.36s/it]"
     ]
    },
    {
     "name": "stdout",
     "output_type": "stream",
     "text": [
      "19 [tensor([[0.7578]]) 0.06442001114655603 tensor(0.4069) nan]\n"
     ]
    },
    {
     "name": "stderr",
     "output_type": "stream",
     "text": [
      "  1%|▏         | 20/1495 [04:36<5:47:09, 14.12s/it]"
     ]
    },
    {
     "name": "stdout",
     "output_type": "stream",
     "text": [
      "20 [tensor([[0.7600]]) 0.06252049064689282 tensor(0.4031) nan]\n"
     ]
    },
    {
     "name": "stderr",
     "output_type": "stream",
     "text": [
      "  1%|▏         | 21/1495 [04:53<6:03:56, 14.81s/it]"
     ]
    },
    {
     "name": "stdout",
     "output_type": "stream",
     "text": [
      "21 [tensor([[0.7672]]) 0.060767989173637425 tensor(0.4074) nan]\n"
     ]
    },
    {
     "name": "stderr",
     "output_type": "stream",
     "text": [
      "  1%|▏         | 22/1495 [05:02<5:25:29, 13.26s/it]"
     ]
    },
    {
     "name": "stdout",
     "output_type": "stream",
     "text": [
      "22 [tensor([[0.7712]]) 0.06713475421500309 tensor(0.4071) nan]\n"
     ]
    },
    {
     "name": "stderr",
     "output_type": "stream",
     "text": [
      "  2%|▏         | 23/1495 [05:16<5:28:18, 13.38s/it]"
     ]
    },
    {
     "name": "stdout",
     "output_type": "stream",
     "text": [
      "23 [tensor([[0.7729]]) 0.06762077590183115 tensor(0.4043) nan]\n"
     ]
    },
    {
     "name": "stderr",
     "output_type": "stream",
     "text": [
      "  2%|▏         | 24/1495 [05:27<5:09:42, 12.63s/it]"
     ]
    },
    {
     "name": "stdout",
     "output_type": "stream",
     "text": [
      "24 [tensor([[0.7690]]) 0.07124263751198212 tensor(0.4109) nan]\n"
     ]
    },
    {
     "name": "stderr",
     "output_type": "stream",
     "text": [
      "  2%|▏         | 25/1495 [05:44<5:39:13, 13.85s/it]"
     ]
    },
    {
     "name": "stdout",
     "output_type": "stream",
     "text": [
      "25 [tensor([[0.7712]]) 0.07025489027795548 tensor(0.4115) nan]\n"
     ]
    },
    {
     "name": "stderr",
     "output_type": "stream",
     "text": [
      "  2%|▏         | 26/1495 [05:56<5:30:53, 13.51s/it]"
     ]
    },
    {
     "name": "stdout",
     "output_type": "stream",
     "text": [
      "26 [tensor([[0.7739]]) 0.07035975474648132 tensor(0.4148) nan]\n"
     ]
    },
    {
     "name": "stderr",
     "output_type": "stream",
     "text": [
      "  2%|▏         | 27/1495 [06:12<5:45:23, 14.12s/it]"
     ]
    },
    {
     "name": "stdout",
     "output_type": "stream",
     "text": [
      "27 [tensor([[0.7775]]) 0.06957587460977668 tensor(0.4154) nan]\n"
     ]
    },
    {
     "name": "stderr",
     "output_type": "stream",
     "text": [
      "  2%|▏         | 28/1495 [06:22<5:19:18, 13.06s/it]"
     ]
    },
    {
     "name": "stdout",
     "output_type": "stream",
     "text": [
      "28 [tensor([[0.7801]]) 0.07368037355294359 tensor(0.4134) nan]\n"
     ]
    },
    {
     "name": "stderr",
     "output_type": "stream",
     "text": [
      "  2%|▏         | 29/1495 [06:38<5:34:13, 13.68s/it]"
     ]
    },
    {
     "name": "stdout",
     "output_type": "stream",
     "text": [
      "29 [tensor([[0.7828]]) 0.0734046243308628 tensor(0.4145) nan]\n"
     ]
    },
    {
     "name": "stderr",
     "output_type": "stream",
     "text": [
      "  2%|▏         | 30/1495 [06:53<5:46:35, 14.19s/it]"
     ]
    },
    {
     "name": "stdout",
     "output_type": "stream",
     "text": [
      "30 [tensor([[0.7850]]) 0.07264907043250317 tensor(0.4139) nan]\n"
     ]
    },
    {
     "name": "stderr",
     "output_type": "stream",
     "text": [
      "  2%|▏         | 31/1495 [07:10<6:05:34, 14.98s/it]"
     ]
    },
    {
     "name": "stdout",
     "output_type": "stream",
     "text": [
      "31 [tensor([[0.7865]]) 0.0709583290537035 tensor(0.4123) nan]\n"
     ]
    },
    {
     "name": "stderr",
     "output_type": "stream",
     "text": [
      "  2%|▏         | 32/1495 [07:22<5:42:38, 14.05s/it]"
     ]
    },
    {
     "name": "stdout",
     "output_type": "stream",
     "text": [
      "32 [tensor([[0.7884]]) 0.07350022035123503 tensor(0.4065) nan]\n"
     ]
    },
    {
     "name": "stderr",
     "output_type": "stream",
     "text": [
      "  2%|▏         | 33/1495 [07:39<6:03:23, 14.91s/it]"
     ]
    },
    {
     "name": "stdout",
     "output_type": "stream",
     "text": [
      "33 [tensor([[0.7882]]) 0.07274003256399418 tensor(0.4084) nan]\n"
     ]
    },
    {
     "name": "stderr",
     "output_type": "stream",
     "text": [
      "  2%|▏         | 34/1495 [07:58<6:32:41, 16.13s/it]"
     ]
    },
    {
     "name": "stdout",
     "output_type": "stream",
     "text": [
      "34 [tensor([[0.7910]]) 0.0720772598802553 tensor(0.4050) nan]\n"
     ]
    },
    {
     "name": "stderr",
     "output_type": "stream",
     "text": [
      "  2%|▏         | 35/1495 [08:12<6:21:34, 15.68s/it]"
     ]
    },
    {
     "name": "stdout",
     "output_type": "stream",
     "text": [
      "35 [tensor([[0.7866]]) 0.07115112237674469 tensor(0.4082) nan]\n"
     ]
    },
    {
     "name": "stderr",
     "output_type": "stream",
     "text": [
      "  2%|▏         | 36/1495 [08:27<6:14:21, 15.39s/it]"
     ]
    },
    {
     "name": "stdout",
     "output_type": "stream",
     "text": [
      "36 [tensor([[0.7886]]) 0.07002990920500728 tensor(0.4105) nan]\n"
     ]
    },
    {
     "name": "stderr",
     "output_type": "stream",
     "text": [
      "  2%|▏         | 37/1495 [08:38<5:44:12, 14.17s/it]"
     ]
    },
    {
     "name": "stdout",
     "output_type": "stream",
     "text": [
      "37 [tensor([[0.7903]]) 0.07183321265222699 tensor(0.4097) nan]\n"
     ]
    },
    {
     "name": "stderr",
     "output_type": "stream",
     "text": [
      "  3%|▎         | 38/1495 [08:53<5:47:49, 14.32s/it]"
     ]
    },
    {
     "name": "stdout",
     "output_type": "stream",
     "text": [
      "38 [tensor([[0.7922]]) 0.07208203188659686 tensor(0.4110) nan]\n"
     ]
    },
    {
     "name": "stderr",
     "output_type": "stream",
     "text": [
      "  3%|▎         | 39/1495 [09:04<5:24:40, 13.38s/it]"
     ]
    },
    {
     "name": "stdout",
     "output_type": "stream",
     "text": [
      "39 [tensor([[0.7885]]) 0.0738115921900413 tensor(0.4041) nan]\n"
     ]
    },
    {
     "name": "stderr",
     "output_type": "stream",
     "text": [
      "  3%|▎         | 40/1495 [09:19<5:33:15, 13.74s/it]"
     ]
    },
    {
     "name": "stdout",
     "output_type": "stream",
     "text": [
      "40 [tensor([[0.7889]]) 0.07299831586465 tensor(0.4056) nan]\n"
     ]
    },
    {
     "name": "stderr",
     "output_type": "stream",
     "text": [
      "  3%|▎         | 41/1495 [09:33<5:39:37, 14.01s/it]"
     ]
    },
    {
     "name": "stdout",
     "output_type": "stream",
     "text": [
      "41 [tensor([[0.7906]]) 0.07178383059696349 tensor(0.4052) nan]\n"
     ]
    },
    {
     "name": "stderr",
     "output_type": "stream",
     "text": [
      "  3%|▎         | 42/1495 [09:49<5:53:59, 14.62s/it]"
     ]
    },
    {
     "name": "stdout",
     "output_type": "stream",
     "text": [
      "42 [tensor([[0.7889]]) 0.07106100179019079 tensor(0.4019) nan]\n"
     ]
    },
    {
     "name": "stderr",
     "output_type": "stream",
     "text": [
      "  3%|▎         | 43/1495 [09:58<5:11:52, 12.89s/it]"
     ]
    },
    {
     "name": "stdout",
     "output_type": "stream",
     "text": [
      "43 [tensor([[0.7882]]) 0.0772796189220826 tensor(0.4042) nan]\n"
     ]
    },
    {
     "name": "stderr",
     "output_type": "stream",
     "text": [
      "  3%|▎         | 44/1495 [10:14<5:30:30, 13.67s/it]"
     ]
    },
    {
     "name": "stdout",
     "output_type": "stream",
     "text": [
      "44 [tensor([[0.7886]]) 0.07694549628245512 tensor(0.4022) nan]\n"
     ]
    },
    {
     "name": "stderr",
     "output_type": "stream",
     "text": [
      "  3%|▎         | 45/1495 [10:29<5:41:59, 14.15s/it]"
     ]
    },
    {
     "name": "stdout",
     "output_type": "stream",
     "text": [
      "45 [tensor([[0.7885]]) 0.0760975302312324 tensor(0.3995) nan]\n"
     ]
    },
    {
     "name": "stderr",
     "output_type": "stream",
     "text": [
      "  3%|▎         | 46/1495 [10:46<5:59:04, 14.87s/it]"
     ]
    },
    {
     "name": "stdout",
     "output_type": "stream",
     "text": [
      "46 [tensor([[0.7905]]) 0.07469277086146191 tensor(0.3993) nan]\n"
     ]
    },
    {
     "name": "stderr",
     "output_type": "stream",
     "text": [
      "  3%|▎         | 47/1495 [11:03<6:17:05, 15.63s/it]"
     ]
    },
    {
     "name": "stdout",
     "output_type": "stream",
     "text": [
      "47 [tensor([[0.7927]]) 0.0736623064188604 tensor(0.3995) nan]\n"
     ]
    },
    {
     "name": "stderr",
     "output_type": "stream",
     "text": [
      "  3%|▎         | 48/1495 [11:18<6:14:28, 15.53s/it]"
     ]
    },
    {
     "name": "stdout",
     "output_type": "stream",
     "text": [
      "48 [tensor([[0.7925]]) 0.0726893580416701 tensor(0.3956) nan]\n"
     ]
    },
    {
     "name": "stderr",
     "output_type": "stream",
     "text": [
      "  3%|▎         | 49/1495 [11:28<5:36:05, 13.95s/it]"
     ]
    },
    {
     "name": "stdout",
     "output_type": "stream",
     "text": [
      "49 [tensor([[0.7931]]) 0.07479415024131307 tensor(0.3959) nan]\n"
     ]
    },
    {
     "name": "stderr",
     "output_type": "stream",
     "text": [
      "  3%|▎         | 50/1495 [11:45<5:56:33, 14.81s/it]"
     ]
    },
    {
     "name": "stdout",
     "output_type": "stream",
     "text": [
      "50 [tensor([[0.7932]]) 0.07397155641970976 tensor(0.3933) nan]\n"
     ]
    },
    {
     "name": "stderr",
     "output_type": "stream",
     "text": [
      "  3%|▎         | 51/1495 [12:01<6:01:37, 15.03s/it]"
     ]
    },
    {
     "name": "stdout",
     "output_type": "stream",
     "text": [
      "51 [tensor([[0.7936]]) 0.07408143956475419 tensor(0.3925) nan]\n"
     ]
    },
    {
     "name": "stderr",
     "output_type": "stream",
     "text": [
      "  3%|▎         | 52/1495 [12:17<6:08:03, 15.30s/it]"
     ]
    },
    {
     "name": "stdout",
     "output_type": "stream",
     "text": [
      "52 [tensor([[0.7952]]) 0.0728195392541485 tensor(0.3922) nan]\n"
     ]
    },
    {
     "name": "stderr",
     "output_type": "stream",
     "text": [
      "  4%|▎         | 53/1495 [12:32<6:07:07, 15.28s/it]"
     ]
    },
    {
     "name": "stdout",
     "output_type": "stream",
     "text": [
      "53 [tensor([[0.7956]]) 0.07160603302415687 tensor(0.3935) nan]\n"
     ]
    },
    {
     "name": "stderr",
     "output_type": "stream",
     "text": [
      "  4%|▎         | 54/1495 [12:47<6:02:05, 15.08s/it]"
     ]
    },
    {
     "name": "stdout",
     "output_type": "stream",
     "text": [
      "54 [tensor([[0.7937]]) 0.07063375445025068 tensor(0.3973) nan]\n"
     ]
    },
    {
     "name": "stderr",
     "output_type": "stream",
     "text": [
      "  4%|▎         | 55/1495 [13:03<6:08:12, 15.34s/it]"
     ]
    },
    {
     "name": "stdout",
     "output_type": "stream",
     "text": [
      "55 [tensor([[0.7953]]) 0.06993564389352966 tensor(0.3962) nan]\n"
     ]
    },
    {
     "name": "stderr",
     "output_type": "stream",
     "text": [
      "  4%|▎         | 56/1495 [13:17<6:01:13, 15.06s/it]"
     ]
    },
    {
     "name": "stdout",
     "output_type": "stream",
     "text": [
      "56 [tensor([[0.7917]]) 0.06989535664562822 tensor(0.3957) nan]\n"
     ]
    },
    {
     "name": "stderr",
     "output_type": "stream",
     "text": [
      "  4%|▍         | 57/1495 [13:34<6:12:05, 15.53s/it]"
     ]
    },
    {
     "name": "stdout",
     "output_type": "stream",
     "text": [
      "57 [tensor([[0.7927]]) 0.06916010489739795 tensor(0.3934) nan]\n"
     ]
    },
    {
     "name": "stderr",
     "output_type": "stream",
     "text": [
      "  4%|▍         | 58/1495 [13:49<6:10:12, 15.46s/it]"
     ]
    },
    {
     "name": "stdout",
     "output_type": "stream",
     "text": [
      "58 [tensor([[0.7934]]) 0.06874015252646888 tensor(0.3958) nan]\n"
     ]
    },
    {
     "name": "stderr",
     "output_type": "stream",
     "text": [
      "  4%|▍         | 59/1495 [14:06<6:20:49, 15.91s/it]"
     ]
    },
    {
     "name": "stdout",
     "output_type": "stream",
     "text": [
      "59 [tensor([[0.7942]]) 0.06902636877712169 tensor(0.3934) nan]\n"
     ]
    },
    {
     "name": "stderr",
     "output_type": "stream",
     "text": [
      "  4%|▍         | 60/1495 [14:20<6:08:23, 15.40s/it]"
     ]
    },
    {
     "name": "stdout",
     "output_type": "stream",
     "text": [
      "60 [tensor([[0.7941]]) 0.0694148375437283 tensor(0.3927) nan]\n"
     ]
    },
    {
     "name": "stderr",
     "output_type": "stream",
     "text": [
      "  4%|▍         | 61/1495 [14:37<6:19:50, 15.89s/it]"
     ]
    },
    {
     "name": "stdout",
     "output_type": "stream",
     "text": [
      "61 [tensor([[0.7940]]) 0.06872978793799839 tensor(0.3939) nan]\n"
     ]
    },
    {
     "name": "stderr",
     "output_type": "stream",
     "text": [
      "  4%|▍         | 62/1495 [14:52<6:12:34, 15.60s/it]"
     ]
    },
    {
     "name": "stdout",
     "output_type": "stream",
     "text": [
      "62 [tensor([[0.7930]]) 0.06833479782073679 tensor(0.3944) nan]\n"
     ]
    },
    {
     "name": "stderr",
     "output_type": "stream",
     "text": [
      "  4%|▍         | 63/1495 [15:02<5:29:33, 13.81s/it]"
     ]
    },
    {
     "name": "stdout",
     "output_type": "stream",
     "text": [
      "63 [tensor([[0.7941]]) 0.07214180262721606 tensor(0.3909) nan]\n"
     ]
    },
    {
     "name": "stderr",
     "output_type": "stream",
     "text": [
      "  4%|▍         | 64/1495 [15:17<5:40:08, 14.26s/it]"
     ]
    },
    {
     "name": "stdout",
     "output_type": "stream",
     "text": [
      "64 [tensor([[0.7947]]) 0.07152108543211382 tensor(0.3913) nan]\n"
     ]
    },
    {
     "name": "stderr",
     "output_type": "stream",
     "text": [
      "  4%|▍         | 65/1495 [15:31<5:39:35, 14.25s/it]"
     ]
    },
    {
     "name": "stdout",
     "output_type": "stream",
     "text": [
      "65 [tensor([[0.7932]]) 0.07220675508753704 tensor(0.3908) nan]\n"
     ]
    },
    {
     "name": "stderr",
     "output_type": "stream",
     "text": [
      "  4%|▍         | 66/1495 [15:42<5:12:04, 13.10s/it]"
     ]
    },
    {
     "name": "stdout",
     "output_type": "stream",
     "text": [
      "66 [tensor([[0.7934]]) 0.07589740233900179 tensor(0.3891) nan]\n"
     ]
    },
    {
     "name": "stderr",
     "output_type": "stream",
     "text": [
      "  4%|▍         | 67/1495 [15:50<4:37:51, 11.67s/it]"
     ]
    },
    {
     "name": "stdout",
     "output_type": "stream",
     "text": [
      "67 [tensor([[0.7832]]) 0.07476460528916595 tensor(0.3859) nan]\n"
     ]
    },
    {
     "name": "stderr",
     "output_type": "stream",
     "text": [
      "  5%|▍         | 68/1495 [16:06<5:11:08, 13.08s/it]"
     ]
    },
    {
     "name": "stdout",
     "output_type": "stream",
     "text": [
      "68 [tensor([[0.7844]]) 0.07452845620640897 tensor(0.3873) nan]\n"
     ]
    },
    {
     "name": "stderr",
     "output_type": "stream",
     "text": [
      "  5%|▍         | 69/1495 [16:23<5:38:48, 14.26s/it]"
     ]
    },
    {
     "name": "stdout",
     "output_type": "stream",
     "text": [
      "69 [tensor([[0.7848]]) 0.07428052860613708 tensor(0.3846) nan]\n"
     ]
    },
    {
     "name": "stderr",
     "output_type": "stream",
     "text": [
      "  5%|▍         | 70/1495 [16:36<5:28:49, 13.85s/it]"
     ]
    },
    {
     "name": "stdout",
     "output_type": "stream",
     "text": [
      "70 [tensor([[0.7836]]) 0.07419581632101863 tensor(0.3875) nan]\n"
     ]
    },
    {
     "name": "stderr",
     "output_type": "stream",
     "text": [
      "  5%|▍         | 71/1495 [16:52<5:43:32, 14.48s/it]"
     ]
    },
    {
     "name": "stdout",
     "output_type": "stream",
     "text": [
      "71 [tensor([[0.7837]]) 0.07339483191515095 tensor(0.3876) nan]\n"
     ]
    },
    {
     "name": "stderr",
     "output_type": "stream",
     "text": [
      "  5%|▍         | 72/1495 [17:03<5:19:11, 13.46s/it]"
     ]
    },
    {
     "name": "stdout",
     "output_type": "stream",
     "text": [
      "72 [tensor([[0.7846]]) 0.0742324694632189 tensor(0.3891) nan]\n"
     ]
    },
    {
     "name": "stderr",
     "output_type": "stream",
     "text": [
      "  5%|▍         | 73/1495 [17:20<5:40:38, 14.37s/it]"
     ]
    },
    {
     "name": "stdout",
     "output_type": "stream",
     "text": [
      "73 [tensor([[0.7856]]) 0.07373182002626079 tensor(0.3902) nan]\n"
     ]
    },
    {
     "name": "stderr",
     "output_type": "stream",
     "text": [
      "  5%|▍         | 74/1495 [17:34<5:39:12, 14.32s/it]"
     ]
    },
    {
     "name": "stdout",
     "output_type": "stream",
     "text": [
      "74 [tensor([[0.7864]]) 0.07306133266951416 tensor(0.3916) nan]\n"
     ]
    },
    {
     "name": "stderr",
     "output_type": "stream",
     "text": [
      "  5%|▌         | 75/1495 [17:50<5:48:07, 14.71s/it]"
     ]
    },
    {
     "name": "stdout",
     "output_type": "stream",
     "text": [
      "75 [tensor([[0.7861]]) 0.07273597335805171 tensor(0.3921) nan]\n"
     ]
    },
    {
     "name": "stderr",
     "output_type": "stream",
     "text": [
      "  5%|▌         | 76/1495 [18:04<5:45:04, 14.59s/it]"
     ]
    },
    {
     "name": "stdout",
     "output_type": "stream",
     "text": [
      "76 [tensor([[0.7865]]) 0.0728338543285208 tensor(0.3922) nan]\n"
     ]
    },
    {
     "name": "stderr",
     "output_type": "stream",
     "text": [
      "  5%|▌         | 77/1495 [18:16<5:26:47, 13.83s/it]"
     ]
    },
    {
     "name": "stdout",
     "output_type": "stream",
     "text": [
      "77 [tensor([[0.7857]]) 0.07338985957754522 tensor(0.3923) nan]\n"
     ]
    },
    {
     "name": "stderr",
     "output_type": "stream",
     "text": [
      "  5%|▌         | 78/1495 [18:31<5:37:21, 14.28s/it]"
     ]
    },
    {
     "name": "stdout",
     "output_type": "stream",
     "text": [
      "78 [tensor([[0.7868]]) 0.07275645543885448 tensor(0.3908) nan]\n"
     ]
    },
    {
     "name": "stderr",
     "output_type": "stream",
     "text": [
      "  5%|▌         | 79/1495 [18:42<5:13:53, 13.30s/it]"
     ]
    },
    {
     "name": "stdout",
     "output_type": "stream",
     "text": [
      "79 [tensor([[0.7884]]) 0.07500004461051454 tensor(0.3897) nan]\n"
     ]
    },
    {
     "name": "stderr",
     "output_type": "stream",
     "text": [
      "  5%|▌         | 80/1495 [18:51<4:44:12, 12.05s/it]"
     ]
    },
    {
     "name": "stdout",
     "output_type": "stream",
     "text": [
      "80 [tensor([[0.7900]]) 0.08313788651863654 tensor(0.3901) nan]\n"
     ]
    },
    {
     "name": "stderr",
     "output_type": "stream",
     "text": [
      "  5%|▌         | 81/1495 [19:09<5:24:30, 13.77s/it]"
     ]
    },
    {
     "name": "stdout",
     "output_type": "stream",
     "text": [
      "81 [tensor([[0.7913]]) 0.08244336594964236 tensor(0.3902) nan]\n"
     ]
    },
    {
     "name": "stderr",
     "output_type": "stream",
     "text": [
      "  5%|▌         | 82/1495 [19:25<5:38:42, 14.38s/it]"
     ]
    },
    {
     "name": "stdout",
     "output_type": "stream",
     "text": [
      "82 [tensor([[0.7919]]) 0.08215314314606895 tensor(0.3909) nan]\n"
     ]
    },
    {
     "name": "stderr",
     "output_type": "stream",
     "text": [
      "  6%|▌         | 83/1495 [19:40<5:41:26, 14.51s/it]"
     ]
    },
    {
     "name": "stdout",
     "output_type": "stream",
     "text": [
      "83 [tensor([[0.7896]]) 0.08135444951464117 tensor(0.3927) nan]\n"
     ]
    },
    {
     "name": "stderr",
     "output_type": "stream",
     "text": [
      "  6%|▌         | 84/1495 [19:55<5:49:02, 14.84s/it]"
     ]
    },
    {
     "name": "stdout",
     "output_type": "stream",
     "text": [
      "84 [tensor([[0.7900]]) 0.08077545154267074 tensor(0.3917) nan]\n"
     ]
    },
    {
     "name": "stderr",
     "output_type": "stream",
     "text": [
      "  6%|▌         | 85/1495 [20:10<5:49:30, 14.87s/it]"
     ]
    },
    {
     "name": "stdout",
     "output_type": "stream",
     "text": [
      "85 [tensor([[0.7914]]) 0.08019026367462309 tensor(0.3922) nan]\n"
     ]
    },
    {
     "name": "stderr",
     "output_type": "stream",
     "text": [
      "  6%|▌         | 86/1495 [20:27<5:59:06, 15.29s/it]"
     ]
    },
    {
     "name": "stdout",
     "output_type": "stream",
     "text": [
      "86 [tensor([[0.7917]]) 0.07977507439660567 tensor(0.3914) nan]\n"
     ]
    },
    {
     "name": "stderr",
     "output_type": "stream",
     "text": [
      "  6%|▌         | 87/1495 [20:42<5:59:38, 15.33s/it]"
     ]
    },
    {
     "name": "stdout",
     "output_type": "stream",
     "text": [
      "87 [tensor([[0.7920]]) 0.07948436712112965 tensor(0.3933) nan]\n"
     ]
    },
    {
     "name": "stderr",
     "output_type": "stream",
     "text": [
      "  6%|▌         | 88/1495 [20:58<6:03:36, 15.51s/it]"
     ]
    },
    {
     "name": "stdout",
     "output_type": "stream",
     "text": [
      "88 [tensor([[0.7910]]) 0.07871160705704273 tensor(0.3940) nan]\n"
     ]
    },
    {
     "name": "stderr",
     "output_type": "stream",
     "text": [
      "  6%|▌         | 89/1495 [21:16<6:20:45, 16.25s/it]"
     ]
    },
    {
     "name": "stdout",
     "output_type": "stream",
     "text": [
      "89 [tensor([[0.7920]]) 0.07835280769970734 tensor(0.3919) nan]\n"
     ]
    },
    {
     "name": "stderr",
     "output_type": "stream",
     "text": [
      "  6%|▌         | 90/1495 [21:34<6:32:26, 16.76s/it]"
     ]
    },
    {
     "name": "stdout",
     "output_type": "stream",
     "text": [
      "90 [tensor([[0.7925]]) 0.07758547339973411 tensor(0.3894) nan]\n"
     ]
    },
    {
     "name": "stderr",
     "output_type": "stream",
     "text": [
      "  6%|▌         | 91/1495 [21:49<6:18:53, 16.19s/it]"
     ]
    },
    {
     "name": "stdout",
     "output_type": "stream",
     "text": [
      "91 [tensor([[0.7922]]) 0.07778718203720511 tensor(0.3878) nan]\n"
     ]
    },
    {
     "name": "stderr",
     "output_type": "stream",
     "text": [
      "  6%|▌         | 92/1495 [22:03<6:04:13, 15.58s/it]"
     ]
    },
    {
     "name": "stdout",
     "output_type": "stream",
     "text": [
      "92 [tensor([[0.7926]]) 0.07772281531316022 tensor(0.3872) nan]\n"
     ]
    },
    {
     "name": "stderr",
     "output_type": "stream",
     "text": [
      "  6%|▌         | 93/1495 [22:13<5:22:14, 13.79s/it]"
     ]
    },
    {
     "name": "stdout",
     "output_type": "stream",
     "text": [
      "93 [tensor([[0.7938]]) 0.08357473363788102 tensor(0.3904) nan]\n"
     ]
    },
    {
     "name": "stderr",
     "output_type": "stream",
     "text": [
      "  6%|▋         | 94/1495 [22:30<5:45:43, 14.81s/it]"
     ]
    },
    {
     "name": "stdout",
     "output_type": "stream",
     "text": [
      "94 [tensor([[0.7932]]) 0.08324175697573266 tensor(0.3907) nan]\n"
     ]
    },
    {
     "name": "stderr",
     "output_type": "stream",
     "text": [
      "  6%|▋         | 95/1495 [22:46<5:54:55, 15.21s/it]"
     ]
    },
    {
     "name": "stdout",
     "output_type": "stream",
     "text": [
      "95 [tensor([[0.7939]]) 0.08273814090323542 tensor(0.3921) nan]\n"
     ]
    },
    {
     "name": "stderr",
     "output_type": "stream",
     "text": [
      "  6%|▋         | 96/1495 [23:00<5:48:48, 14.96s/it]"
     ]
    },
    {
     "name": "stdout",
     "output_type": "stream",
     "text": [
      "96 [tensor([[0.7945]]) 0.08254573685408807 tensor(0.3938) nan]\n"
     ]
    },
    {
     "name": "stderr",
     "output_type": "stream",
     "text": [
      "  6%|▋         | 97/1495 [23:19<6:14:46, 16.09s/it]"
     ]
    },
    {
     "name": "stdout",
     "output_type": "stream",
     "text": [
      "97 [tensor([[0.7936]]) 0.08259719412351119 tensor(0.3949) nan]\n"
     ]
    },
    {
     "name": "stderr",
     "output_type": "stream",
     "text": [
      "  6%|▋         | 97/1495 [23:27<5:38:09, 14.51s/it]\n"
     ]
    },
    {
     "ename": "KeyboardInterrupt",
     "evalue": "",
     "output_type": "error",
     "traceback": [
      "\u001b[1;31m---------------------------------------------------------------------------\u001b[0m",
      "\u001b[1;31mKeyboardInterrupt\u001b[0m                         Traceback (most recent call last)",
      "\u001b[1;32m<ipython-input-94-eca4c135c937>\u001b[0m in \u001b[0;36m<module>\u001b[1;34m\u001b[0m\n\u001b[0;32m     16\u001b[0m         \u001b[0marticle\u001b[0m \u001b[1;33m=\u001b[0m \u001b[1;34m\" \"\u001b[0m\u001b[1;33m.\u001b[0m\u001b[0mjoin\u001b[0m\u001b[1;33m(\u001b[0m\u001b[0mpre\u001b[0m\u001b[1;33m)\u001b[0m\u001b[1;33m\u001b[0m\u001b[1;33m\u001b[0m\u001b[0m\n\u001b[0;32m     17\u001b[0m         \u001b[0minputs\u001b[0m \u001b[1;33m=\u001b[0m \u001b[0mtokenizer\u001b[0m\u001b[1;33m(\u001b[0m\u001b[1;33m[\u001b[0m\u001b[0marticle\u001b[0m\u001b[1;33m]\u001b[0m\u001b[1;33m,\u001b[0m \u001b[0mmax_length\u001b[0m\u001b[1;33m=\u001b[0m\u001b[0mmax_length\u001b[0m\u001b[1;33m,\u001b[0m \u001b[0mreturn_tensors\u001b[0m\u001b[1;33m=\u001b[0m\u001b[1;34m\"pt\"\u001b[0m\u001b[1;33m,\u001b[0m \u001b[0mtruncation\u001b[0m\u001b[1;33m=\u001b[0m\u001b[1;32mTrue\u001b[0m\u001b[1;33m)\u001b[0m\u001b[1;33m\u001b[0m\u001b[1;33m\u001b[0m\u001b[0m\n\u001b[1;32m---> 18\u001b[1;33m         \u001b[0msummary_ids\u001b[0m \u001b[1;33m=\u001b[0m \u001b[0mmodel\u001b[0m\u001b[1;33m.\u001b[0m\u001b[0mgenerate\u001b[0m\u001b[1;33m(\u001b[0m\u001b[0minputs\u001b[0m\u001b[1;33m[\u001b[0m\u001b[1;34m\"input_ids\"\u001b[0m\u001b[1;33m]\u001b[0m\u001b[1;33m)\u001b[0m\u001b[1;33m\u001b[0m\u001b[1;33m\u001b[0m\u001b[0m\n\u001b[0m\u001b[0;32m     19\u001b[0m         \u001b[0mout\u001b[0m \u001b[1;33m=\u001b[0m \u001b[0mtokenizer\u001b[0m\u001b[1;33m.\u001b[0m\u001b[0mbatch_decode\u001b[0m\u001b[1;33m(\u001b[0m\u001b[0msummary_ids\u001b[0m\u001b[1;33m,\u001b[0m \u001b[0mskip_special_tokens\u001b[0m\u001b[1;33m=\u001b[0m\u001b[1;32mTrue\u001b[0m\u001b[1;33m,\u001b[0m \u001b[0mclean_up_tokenization_spaces\u001b[0m\u001b[1;33m=\u001b[0m\u001b[1;32mFalse\u001b[0m\u001b[1;33m)\u001b[0m\u001b[1;33m[\u001b[0m\u001b[1;36m0\u001b[0m\u001b[1;33m]\u001b[0m\u001b[1;33m\u001b[0m\u001b[1;33m\u001b[0m\u001b[0m\n\u001b[0;32m     20\u001b[0m         \u001b[0mout\u001b[0m \u001b[1;33m=\u001b[0m \u001b[0mout\u001b[0m\u001b[1;33m.\u001b[0m\u001b[0mreplace\u001b[0m\u001b[1;33m(\u001b[0m\u001b[1;34mu'\\xa0'\u001b[0m\u001b[1;33m,\u001b[0m \u001b[1;34mu' '\u001b[0m\u001b[1;33m)\u001b[0m\u001b[1;33m\u001b[0m\u001b[1;33m\u001b[0m\u001b[0m\n",
      "\u001b[1;32md:\\miniconda3\\lib\\site-packages\\torch\\autograd\\grad_mode.py\u001b[0m in \u001b[0;36mdecorate_context\u001b[1;34m(*args, **kwargs)\u001b[0m\n\u001b[0;32m     26\u001b[0m         \u001b[1;32mdef\u001b[0m \u001b[0mdecorate_context\u001b[0m\u001b[1;33m(\u001b[0m\u001b[1;33m*\u001b[0m\u001b[0margs\u001b[0m\u001b[1;33m,\u001b[0m \u001b[1;33m**\u001b[0m\u001b[0mkwargs\u001b[0m\u001b[1;33m)\u001b[0m\u001b[1;33m:\u001b[0m\u001b[1;33m\u001b[0m\u001b[1;33m\u001b[0m\u001b[0m\n\u001b[0;32m     27\u001b[0m             \u001b[1;32mwith\u001b[0m \u001b[0mself\u001b[0m\u001b[1;33m.\u001b[0m\u001b[0m__class__\u001b[0m\u001b[1;33m(\u001b[0m\u001b[1;33m)\u001b[0m\u001b[1;33m:\u001b[0m\u001b[1;33m\u001b[0m\u001b[1;33m\u001b[0m\u001b[0m\n\u001b[1;32m---> 28\u001b[1;33m                 \u001b[1;32mreturn\u001b[0m \u001b[0mfunc\u001b[0m\u001b[1;33m(\u001b[0m\u001b[1;33m*\u001b[0m\u001b[0margs\u001b[0m\u001b[1;33m,\u001b[0m \u001b[1;33m**\u001b[0m\u001b[0mkwargs\u001b[0m\u001b[1;33m)\u001b[0m\u001b[1;33m\u001b[0m\u001b[1;33m\u001b[0m\u001b[0m\n\u001b[0m\u001b[0;32m     29\u001b[0m         \u001b[1;32mreturn\u001b[0m \u001b[0mcast\u001b[0m\u001b[1;33m(\u001b[0m\u001b[0mF\u001b[0m\u001b[1;33m,\u001b[0m \u001b[0mdecorate_context\u001b[0m\u001b[1;33m)\u001b[0m\u001b[1;33m\u001b[0m\u001b[1;33m\u001b[0m\u001b[0m\n\u001b[0;32m     30\u001b[0m \u001b[1;33m\u001b[0m\u001b[0m\n",
      "\u001b[1;32md:\\miniconda3\\lib\\site-packages\\transformers\\generation_utils.py\u001b[0m in \u001b[0;36mgenerate\u001b[1;34m(self, input_ids, max_length, min_length, do_sample, early_stopping, num_beams, temperature, top_k, top_p, repetition_penalty, bad_words_ids, bos_token_id, pad_token_id, eos_token_id, length_penalty, no_repeat_ngram_size, encoder_no_repeat_ngram_size, num_return_sequences, max_time, max_new_tokens, decoder_start_token_id, use_cache, num_beam_groups, diversity_penalty, prefix_allowed_tokens_fn, output_attentions, output_hidden_states, output_scores, return_dict_in_generate, forced_bos_token_id, forced_eos_token_id, remove_invalid_values, synced_gpus, **model_kwargs)\u001b[0m\n\u001b[0;32m   1068\u001b[0m                 \u001b[0minput_ids\u001b[0m\u001b[1;33m,\u001b[0m \u001b[0mexpand_size\u001b[0m\u001b[1;33m=\u001b[0m\u001b[0mnum_beams\u001b[0m\u001b[1;33m,\u001b[0m \u001b[0mis_encoder_decoder\u001b[0m\u001b[1;33m=\u001b[0m\u001b[0mself\u001b[0m\u001b[1;33m.\u001b[0m\u001b[0mconfig\u001b[0m\u001b[1;33m.\u001b[0m\u001b[0mis_encoder_decoder\u001b[0m\u001b[1;33m,\u001b[0m \u001b[1;33m**\u001b[0m\u001b[0mmodel_kwargs\u001b[0m\u001b[1;33m\u001b[0m\u001b[1;33m\u001b[0m\u001b[0m\n\u001b[0;32m   1069\u001b[0m             )\n\u001b[1;32m-> 1070\u001b[1;33m             return self.beam_search(\n\u001b[0m\u001b[0;32m   1071\u001b[0m                 \u001b[0minput_ids\u001b[0m\u001b[1;33m,\u001b[0m\u001b[1;33m\u001b[0m\u001b[1;33m\u001b[0m\u001b[0m\n\u001b[0;32m   1072\u001b[0m                 \u001b[0mbeam_scorer\u001b[0m\u001b[1;33m,\u001b[0m\u001b[1;33m\u001b[0m\u001b[1;33m\u001b[0m\u001b[0m\n",
      "\u001b[1;32md:\\miniconda3\\lib\\site-packages\\transformers\\generation_utils.py\u001b[0m in \u001b[0;36mbeam_search\u001b[1;34m(self, input_ids, beam_scorer, logits_processor, stopping_criteria, max_length, pad_token_id, eos_token_id, output_attentions, output_hidden_states, output_scores, return_dict_in_generate, synced_gpus, **model_kwargs)\u001b[0m\n\u001b[0;32m   1805\u001b[0m             \u001b[0mmodel_inputs\u001b[0m \u001b[1;33m=\u001b[0m \u001b[0mself\u001b[0m\u001b[1;33m.\u001b[0m\u001b[0mprepare_inputs_for_generation\u001b[0m\u001b[1;33m(\u001b[0m\u001b[0minput_ids\u001b[0m\u001b[1;33m,\u001b[0m \u001b[1;33m**\u001b[0m\u001b[0mmodel_kwargs\u001b[0m\u001b[1;33m)\u001b[0m\u001b[1;33m\u001b[0m\u001b[1;33m\u001b[0m\u001b[0m\n\u001b[0;32m   1806\u001b[0m \u001b[1;33m\u001b[0m\u001b[0m\n\u001b[1;32m-> 1807\u001b[1;33m             outputs = self(\n\u001b[0m\u001b[0;32m   1808\u001b[0m                 \u001b[1;33m**\u001b[0m\u001b[0mmodel_inputs\u001b[0m\u001b[1;33m,\u001b[0m\u001b[1;33m\u001b[0m\u001b[1;33m\u001b[0m\u001b[0m\n\u001b[0;32m   1809\u001b[0m                 \u001b[0mreturn_dict\u001b[0m\u001b[1;33m=\u001b[0m\u001b[1;32mTrue\u001b[0m\u001b[1;33m,\u001b[0m\u001b[1;33m\u001b[0m\u001b[1;33m\u001b[0m\u001b[0m\n",
      "\u001b[1;32md:\\miniconda3\\lib\\site-packages\\torch\\nn\\modules\\module.py\u001b[0m in \u001b[0;36m_call_impl\u001b[1;34m(self, *input, **kwargs)\u001b[0m\n\u001b[0;32m   1100\u001b[0m         if not (self._backward_hooks or self._forward_hooks or self._forward_pre_hooks or _global_backward_hooks\n\u001b[0;32m   1101\u001b[0m                 or _global_forward_hooks or _global_forward_pre_hooks):\n\u001b[1;32m-> 1102\u001b[1;33m             \u001b[1;32mreturn\u001b[0m \u001b[0mforward_call\u001b[0m\u001b[1;33m(\u001b[0m\u001b[1;33m*\u001b[0m\u001b[0minput\u001b[0m\u001b[1;33m,\u001b[0m \u001b[1;33m**\u001b[0m\u001b[0mkwargs\u001b[0m\u001b[1;33m)\u001b[0m\u001b[1;33m\u001b[0m\u001b[1;33m\u001b[0m\u001b[0m\n\u001b[0m\u001b[0;32m   1103\u001b[0m         \u001b[1;31m# Do not call functions when jit is used\u001b[0m\u001b[1;33m\u001b[0m\u001b[1;33m\u001b[0m\u001b[1;33m\u001b[0m\u001b[0m\n\u001b[0;32m   1104\u001b[0m         \u001b[0mfull_backward_hooks\u001b[0m\u001b[1;33m,\u001b[0m \u001b[0mnon_full_backward_hooks\u001b[0m \u001b[1;33m=\u001b[0m \u001b[1;33m[\u001b[0m\u001b[1;33m]\u001b[0m\u001b[1;33m,\u001b[0m \u001b[1;33m[\u001b[0m\u001b[1;33m]\u001b[0m\u001b[1;33m\u001b[0m\u001b[1;33m\u001b[0m\u001b[0m\n",
      "\u001b[1;32md:\\miniconda3\\lib\\site-packages\\transformers\\models\\bart\\modeling_bart.py\u001b[0m in \u001b[0;36mforward\u001b[1;34m(self, input_ids, attention_mask, decoder_input_ids, decoder_attention_mask, head_mask, decoder_head_mask, cross_attn_head_mask, encoder_outputs, past_key_values, inputs_embeds, decoder_inputs_embeds, labels, use_cache, output_attentions, output_hidden_states, return_dict)\u001b[0m\n\u001b[0;32m   1319\u001b[0m                 )\n\u001b[0;32m   1320\u001b[0m \u001b[1;33m\u001b[0m\u001b[0m\n\u001b[1;32m-> 1321\u001b[1;33m         outputs = self.model(\n\u001b[0m\u001b[0;32m   1322\u001b[0m             \u001b[0minput_ids\u001b[0m\u001b[1;33m,\u001b[0m\u001b[1;33m\u001b[0m\u001b[1;33m\u001b[0m\u001b[0m\n\u001b[0;32m   1323\u001b[0m             \u001b[0mattention_mask\u001b[0m\u001b[1;33m=\u001b[0m\u001b[0mattention_mask\u001b[0m\u001b[1;33m,\u001b[0m\u001b[1;33m\u001b[0m\u001b[1;33m\u001b[0m\u001b[0m\n",
      "\u001b[1;32md:\\miniconda3\\lib\\site-packages\\torch\\nn\\modules\\module.py\u001b[0m in \u001b[0;36m_call_impl\u001b[1;34m(self, *input, **kwargs)\u001b[0m\n\u001b[0;32m   1100\u001b[0m         if not (self._backward_hooks or self._forward_hooks or self._forward_pre_hooks or _global_backward_hooks\n\u001b[0;32m   1101\u001b[0m                 or _global_forward_hooks or _global_forward_pre_hooks):\n\u001b[1;32m-> 1102\u001b[1;33m             \u001b[1;32mreturn\u001b[0m \u001b[0mforward_call\u001b[0m\u001b[1;33m(\u001b[0m\u001b[1;33m*\u001b[0m\u001b[0minput\u001b[0m\u001b[1;33m,\u001b[0m \u001b[1;33m**\u001b[0m\u001b[0mkwargs\u001b[0m\u001b[1;33m)\u001b[0m\u001b[1;33m\u001b[0m\u001b[1;33m\u001b[0m\u001b[0m\n\u001b[0m\u001b[0;32m   1103\u001b[0m         \u001b[1;31m# Do not call functions when jit is used\u001b[0m\u001b[1;33m\u001b[0m\u001b[1;33m\u001b[0m\u001b[1;33m\u001b[0m\u001b[0m\n\u001b[0;32m   1104\u001b[0m         \u001b[0mfull_backward_hooks\u001b[0m\u001b[1;33m,\u001b[0m \u001b[0mnon_full_backward_hooks\u001b[0m \u001b[1;33m=\u001b[0m \u001b[1;33m[\u001b[0m\u001b[1;33m]\u001b[0m\u001b[1;33m,\u001b[0m \u001b[1;33m[\u001b[0m\u001b[1;33m]\u001b[0m\u001b[1;33m\u001b[0m\u001b[1;33m\u001b[0m\u001b[0m\n",
      "\u001b[1;32md:\\miniconda3\\lib\\site-packages\\transformers\\models\\bart\\modeling_bart.py\u001b[0m in \u001b[0;36mforward\u001b[1;34m(self, input_ids, attention_mask, decoder_input_ids, decoder_attention_mask, head_mask, decoder_head_mask, cross_attn_head_mask, encoder_outputs, past_key_values, inputs_embeds, decoder_inputs_embeds, use_cache, output_attentions, output_hidden_states, return_dict)\u001b[0m\n\u001b[0;32m   1209\u001b[0m \u001b[1;33m\u001b[0m\u001b[0m\n\u001b[0;32m   1210\u001b[0m         \u001b[1;31m# decoder outputs consists of (dec_features, past_key_value, dec_hidden, dec_attn)\u001b[0m\u001b[1;33m\u001b[0m\u001b[1;33m\u001b[0m\u001b[1;33m\u001b[0m\u001b[0m\n\u001b[1;32m-> 1211\u001b[1;33m         decoder_outputs = self.decoder(\n\u001b[0m\u001b[0;32m   1212\u001b[0m             \u001b[0minput_ids\u001b[0m\u001b[1;33m=\u001b[0m\u001b[0mdecoder_input_ids\u001b[0m\u001b[1;33m,\u001b[0m\u001b[1;33m\u001b[0m\u001b[1;33m\u001b[0m\u001b[0m\n\u001b[0;32m   1213\u001b[0m             \u001b[0mattention_mask\u001b[0m\u001b[1;33m=\u001b[0m\u001b[0mdecoder_attention_mask\u001b[0m\u001b[1;33m,\u001b[0m\u001b[1;33m\u001b[0m\u001b[1;33m\u001b[0m\u001b[0m\n",
      "\u001b[1;32md:\\miniconda3\\lib\\site-packages\\torch\\nn\\modules\\module.py\u001b[0m in \u001b[0;36m_call_impl\u001b[1;34m(self, *input, **kwargs)\u001b[0m\n\u001b[0;32m   1100\u001b[0m         if not (self._backward_hooks or self._forward_hooks or self._forward_pre_hooks or _global_backward_hooks\n\u001b[0;32m   1101\u001b[0m                 or _global_forward_hooks or _global_forward_pre_hooks):\n\u001b[1;32m-> 1102\u001b[1;33m             \u001b[1;32mreturn\u001b[0m \u001b[0mforward_call\u001b[0m\u001b[1;33m(\u001b[0m\u001b[1;33m*\u001b[0m\u001b[0minput\u001b[0m\u001b[1;33m,\u001b[0m \u001b[1;33m**\u001b[0m\u001b[0mkwargs\u001b[0m\u001b[1;33m)\u001b[0m\u001b[1;33m\u001b[0m\u001b[1;33m\u001b[0m\u001b[0m\n\u001b[0m\u001b[0;32m   1103\u001b[0m         \u001b[1;31m# Do not call functions when jit is used\u001b[0m\u001b[1;33m\u001b[0m\u001b[1;33m\u001b[0m\u001b[1;33m\u001b[0m\u001b[0m\n\u001b[0;32m   1104\u001b[0m         \u001b[0mfull_backward_hooks\u001b[0m\u001b[1;33m,\u001b[0m \u001b[0mnon_full_backward_hooks\u001b[0m \u001b[1;33m=\u001b[0m \u001b[1;33m[\u001b[0m\u001b[1;33m]\u001b[0m\u001b[1;33m,\u001b[0m \u001b[1;33m[\u001b[0m\u001b[1;33m]\u001b[0m\u001b[1;33m\u001b[0m\u001b[1;33m\u001b[0m\u001b[0m\n",
      "\u001b[1;32md:\\miniconda3\\lib\\site-packages\\transformers\\models\\bart\\modeling_bart.py\u001b[0m in \u001b[0;36mforward\u001b[1;34m(self, input_ids, attention_mask, encoder_hidden_states, encoder_attention_mask, head_mask, cross_attn_head_mask, past_key_values, inputs_embeds, use_cache, output_attentions, output_hidden_states, return_dict)\u001b[0m\n\u001b[0;32m   1075\u001b[0m             \u001b[1;32melse\u001b[0m\u001b[1;33m:\u001b[0m\u001b[1;33m\u001b[0m\u001b[1;33m\u001b[0m\u001b[0m\n\u001b[0;32m   1076\u001b[0m \u001b[1;33m\u001b[0m\u001b[0m\n\u001b[1;32m-> 1077\u001b[1;33m                 layer_outputs = decoder_layer(\n\u001b[0m\u001b[0;32m   1078\u001b[0m                     \u001b[0mhidden_states\u001b[0m\u001b[1;33m,\u001b[0m\u001b[1;33m\u001b[0m\u001b[1;33m\u001b[0m\u001b[0m\n\u001b[0;32m   1079\u001b[0m                     \u001b[0mattention_mask\u001b[0m\u001b[1;33m=\u001b[0m\u001b[0mattention_mask\u001b[0m\u001b[1;33m,\u001b[0m\u001b[1;33m\u001b[0m\u001b[1;33m\u001b[0m\u001b[0m\n",
      "\u001b[1;32md:\\miniconda3\\lib\\site-packages\\torch\\nn\\modules\\module.py\u001b[0m in \u001b[0;36m_call_impl\u001b[1;34m(self, *input, **kwargs)\u001b[0m\n\u001b[0;32m   1100\u001b[0m         if not (self._backward_hooks or self._forward_hooks or self._forward_pre_hooks or _global_backward_hooks\n\u001b[0;32m   1101\u001b[0m                 or _global_forward_hooks or _global_forward_pre_hooks):\n\u001b[1;32m-> 1102\u001b[1;33m             \u001b[1;32mreturn\u001b[0m \u001b[0mforward_call\u001b[0m\u001b[1;33m(\u001b[0m\u001b[1;33m*\u001b[0m\u001b[0minput\u001b[0m\u001b[1;33m,\u001b[0m \u001b[1;33m**\u001b[0m\u001b[0mkwargs\u001b[0m\u001b[1;33m)\u001b[0m\u001b[1;33m\u001b[0m\u001b[1;33m\u001b[0m\u001b[0m\n\u001b[0m\u001b[0;32m   1103\u001b[0m         \u001b[1;31m# Do not call functions when jit is used\u001b[0m\u001b[1;33m\u001b[0m\u001b[1;33m\u001b[0m\u001b[1;33m\u001b[0m\u001b[0m\n\u001b[0;32m   1104\u001b[0m         \u001b[0mfull_backward_hooks\u001b[0m\u001b[1;33m,\u001b[0m \u001b[0mnon_full_backward_hooks\u001b[0m \u001b[1;33m=\u001b[0m \u001b[1;33m[\u001b[0m\u001b[1;33m]\u001b[0m\u001b[1;33m,\u001b[0m \u001b[1;33m[\u001b[0m\u001b[1;33m]\u001b[0m\u001b[1;33m\u001b[0m\u001b[1;33m\u001b[0m\u001b[0m\n",
      "\u001b[1;32md:\\miniconda3\\lib\\site-packages\\transformers\\models\\bart\\modeling_bart.py\u001b[0m in \u001b[0;36mforward\u001b[1;34m(self, hidden_states, attention_mask, encoder_hidden_states, encoder_attention_mask, layer_head_mask, cross_attn_layer_head_mask, past_key_value, output_attentions, use_cache)\u001b[0m\n\u001b[0;32m    435\u001b[0m         \u001b[1;31m# Fully Connected\u001b[0m\u001b[1;33m\u001b[0m\u001b[1;33m\u001b[0m\u001b[1;33m\u001b[0m\u001b[0m\n\u001b[0;32m    436\u001b[0m         \u001b[0mresidual\u001b[0m \u001b[1;33m=\u001b[0m \u001b[0mhidden_states\u001b[0m\u001b[1;33m\u001b[0m\u001b[1;33m\u001b[0m\u001b[0m\n\u001b[1;32m--> 437\u001b[1;33m         \u001b[0mhidden_states\u001b[0m \u001b[1;33m=\u001b[0m \u001b[0mself\u001b[0m\u001b[1;33m.\u001b[0m\u001b[0mactivation_fn\u001b[0m\u001b[1;33m(\u001b[0m\u001b[0mself\u001b[0m\u001b[1;33m.\u001b[0m\u001b[0mfc1\u001b[0m\u001b[1;33m(\u001b[0m\u001b[0mhidden_states\u001b[0m\u001b[1;33m)\u001b[0m\u001b[1;33m)\u001b[0m\u001b[1;33m\u001b[0m\u001b[1;33m\u001b[0m\u001b[0m\n\u001b[0m\u001b[0;32m    438\u001b[0m         \u001b[0mhidden_states\u001b[0m \u001b[1;33m=\u001b[0m \u001b[0mnn\u001b[0m\u001b[1;33m.\u001b[0m\u001b[0mfunctional\u001b[0m\u001b[1;33m.\u001b[0m\u001b[0mdropout\u001b[0m\u001b[1;33m(\u001b[0m\u001b[0mhidden_states\u001b[0m\u001b[1;33m,\u001b[0m \u001b[0mp\u001b[0m\u001b[1;33m=\u001b[0m\u001b[0mself\u001b[0m\u001b[1;33m.\u001b[0m\u001b[0mactivation_dropout\u001b[0m\u001b[1;33m,\u001b[0m \u001b[0mtraining\u001b[0m\u001b[1;33m=\u001b[0m\u001b[0mself\u001b[0m\u001b[1;33m.\u001b[0m\u001b[0mtraining\u001b[0m\u001b[1;33m)\u001b[0m\u001b[1;33m\u001b[0m\u001b[1;33m\u001b[0m\u001b[0m\n\u001b[0;32m    439\u001b[0m         \u001b[0mhidden_states\u001b[0m \u001b[1;33m=\u001b[0m \u001b[0mself\u001b[0m\u001b[1;33m.\u001b[0m\u001b[0mfc2\u001b[0m\u001b[1;33m(\u001b[0m\u001b[0mhidden_states\u001b[0m\u001b[1;33m)\u001b[0m\u001b[1;33m\u001b[0m\u001b[1;33m\u001b[0m\u001b[0m\n",
      "\u001b[1;32md:\\miniconda3\\lib\\site-packages\\torch\\nn\\functional.py\u001b[0m in \u001b[0;36mgelu\u001b[1;34m(input)\u001b[0m\n\u001b[0;32m   1554\u001b[0m     \u001b[1;32mif\u001b[0m \u001b[0mhas_torch_function_unary\u001b[0m\u001b[1;33m(\u001b[0m\u001b[0minput\u001b[0m\u001b[1;33m)\u001b[0m\u001b[1;33m:\u001b[0m\u001b[1;33m\u001b[0m\u001b[1;33m\u001b[0m\u001b[0m\n\u001b[0;32m   1555\u001b[0m         \u001b[1;32mreturn\u001b[0m \u001b[0mhandle_torch_function\u001b[0m\u001b[1;33m(\u001b[0m\u001b[0mgelu\u001b[0m\u001b[1;33m,\u001b[0m \u001b[1;33m(\u001b[0m\u001b[0minput\u001b[0m\u001b[1;33m,\u001b[0m\u001b[1;33m)\u001b[0m\u001b[1;33m,\u001b[0m \u001b[0minput\u001b[0m\u001b[1;33m)\u001b[0m\u001b[1;33m\u001b[0m\u001b[1;33m\u001b[0m\u001b[0m\n\u001b[1;32m-> 1556\u001b[1;33m     \u001b[1;32mreturn\u001b[0m \u001b[0mtorch\u001b[0m\u001b[1;33m.\u001b[0m\u001b[0m_C\u001b[0m\u001b[1;33m.\u001b[0m\u001b[0m_nn\u001b[0m\u001b[1;33m.\u001b[0m\u001b[0mgelu\u001b[0m\u001b[1;33m(\u001b[0m\u001b[0minput\u001b[0m\u001b[1;33m)\u001b[0m\u001b[1;33m\u001b[0m\u001b[1;33m\u001b[0m\u001b[0m\n\u001b[0m\u001b[0;32m   1557\u001b[0m \u001b[1;33m\u001b[0m\u001b[0m\n\u001b[0;32m   1558\u001b[0m \u001b[1;33m\u001b[0m\u001b[0m\n",
      "\u001b[1;31mKeyboardInterrupt\u001b[0m: "
     ]
    }
   ],
   "source": [
    "metrics = [[[], [], [], []], [[], [], [], []], [[], [], [], []]]\n",
    "\n",
    "loc = [\"investor\", \"defense\", \"ao\"]\n",
    "\n",
    "itcount = 0\n",
    "\n",
    "for j in range(len(loc)):\n",
    "    for i in tqdm(os.listdir(\"./gen_data/\" + loc[j] + \"/\")):\n",
    "        if itcount==100:\n",
    "            break\n",
    "        itcount+=1\n",
    "        with open(\"./gen_data/\" + loc[j] + \"/\" + i, encoding=\"utf-8\") as f:\n",
    "            text = f.read()\n",
    "            f.close()\n",
    "        pre= text.split(\"\\n\")\n",
    "        article = \" \".join(pre)\n",
    "        inputs = tokenizer([article], max_length=max_length, return_tensors=\"pt\", truncation=True)\n",
    "        summary_ids = model.generate(inputs[\"input_ids\"])\n",
    "        out = tokenizer.batch_decode(summary_ids, skip_special_tokens=True, clean_up_tokenization_spaces=False)[0]\n",
    "        out = out.replace(u'\\xa0', u' ')\n",
    "        summ = re.sub(\" +\", \" \", out)\n",
    "        with open(\"./gen_out/\" + loc[j] + \"/out_\" + i, \"w+\", encoding=\"utf-8\") as f:\n",
    "            f.write(re.sub(\". \", \".\\n\", summ))\n",
    "            f.close()\n",
    "        source_sbert = smodel.encode(article, convert_to_tensor=True)\n",
    "        summ_sbert = smodel.encode(summ, convert_to_tensor=True)\n",
    "        try:\n",
    "            metrics[j][0].append(util.cos_sim(source_sbert, summ_sbert))\n",
    "        except:\n",
    "            metrics[j][0].append(0)\n",
    "        source_sbert = np.array(source_sbert.cpu())\n",
    "        summ_sbert = np.array(summ_sbert.cpu())\n",
    "        source_tokens = word_tokenize(article)\n",
    "        summ_tokens = word_tokenize(summ)\n",
    "        # print(len(summ_tokens), len(source_tokens))\n",
    "        try:\n",
    "            metrics[j][1].append(len(summ_tokens)/len(source_tokens))\n",
    "        except:\n",
    "            metrics[j][1].append(0)\n",
    "        count = 0\n",
    "        sum = 0\n",
    "        summlist = summ.split(\". \")\n",
    "        for ind1, m in enumerate(summlist):\n",
    "            for ind2, n in enumerate(summlist[ind1+1:]):\n",
    "                sbert_m = smodel.encode(m, convert_to_tensor=True)\n",
    "                sbert_n = smodel.encode(n, convert_to_tensor=True)\n",
    "                count+=1\n",
    "                sum+=util.cos_sim(sbert_m, sbert_n)[0][0]\n",
    "        try:\n",
    "            metrics[j][2].append(sum/count)\n",
    "        except: \n",
    "            metrics[j][2].append(0)\n",
    "        summ_ind_tokens = [word_tokenize(i) for i in summ.split(\". \")]\n",
    "        try:\n",
    "            id2word = corpora.Dictionary(summ_ind_tokens)\n",
    "            corpus = [id2word.doc2bow(text) for text in summ_ind_tokens]\n",
    "            cm = CoherenceModel(topics=summ_ind_tokens, corpus=corpus, dictionary=id2word, coherence='u_mass')\n",
    "        except:\n",
    "            id2word = corpora.Dictionary([source_tokens, summ_tokens])\n",
    "            corpus = [id2word.doc2bow(text) for text in [source_tokens, summ_tokens]]\n",
    "            cm = CoherenceModel(topics=[source_tokens, summ_tokens], corpus=corpus, dictionary=id2word, coherence='u_mass')\n",
    "        metrics[j][3].append(cm.get_coherence())\n",
    "        print(itcount, np.sum(np.array(metrics[j]), axis=1)/np.shape(metrics[j])[1])\n",
    "\n",
    "# [tensor([[0.7936]]) 0.08259719412351119 tensor(0.3949) nan]"
   ]
  },
  {
   "cell_type": "code",
   "execution_count": 31,
   "metadata": {},
   "outputs": [],
   "source": [
    "source = \"Securities and Exchange Board of India (hereinafter referred to as ‘SEBI’) has conducted investigation into the alleged irregularity in the shares of Shelter Infra Projects Ltd., formerly known as CCAP Ltd (hereinafter referred to as ‘SIPL’) and into the possible violations of the SEBI Act, 1992 (hereinafter referred to as the Act) and the various Regulations made there under for the period from April 01, 2009 to September 22, 2009. The Investigation, inter alia, revealed that the Board of Directors of SIPL approved a Shares Purchase Agreement at its meeting held on July 30, 2009 to be executed between the SIPL and the proposed acquirers on July 31, 2009 for the sale of the issued and subscribed equity share capital of the company held by the erstwhile promoters, as also change in management of the company. On August 07, 2009 the managers to the offer on behalf of the acquirer issued a public announcement to the equity shareholders of SIPL. However, SIPL has No introduced any trading window during the above public announcement. Shri K. L. Surana, (Noticee No 1) was the Compliance Officer and the entities mentioned above at serial No. 2 to 8 were the directors of SIPL (herein after referred to as Noticee Nos.1 to 8 respectively and collectively the Noticees) and were present at the Board Meeting held on July 30, 2009. SEBI has therefore initiated adjudication proceedings under the Act against the Noticees to inquire into and adjudge the alleged violations of Regulation 12 (1) read with Clause 1.2 of Schedule I, Part A of SEBI (Prohibition of Insider Trading) Regulations, 1992 (hereinafter referred to as PIT Regulations). SIPL vide letter dated October 13, 2012 submitted a copy of the Death Certificate of Noticee No. 1 issued by the Department of Health and Welfare, Government of West Bengal dated May 22, 2012. I find that the Noticee No 1 was the compliance officer, and Noticee Nos. 2 to 8 were the Board of Director of SIPL and were present in the Board Meeting held on July 30, 2009 when a Shares Purchase Agreement for the sale of 35.50 % of the issued and subscribed equity share capital of SIPL held by the erstwhile promoters to M s. Ramayana Promoters Pvt. Ltd. (Acquirer) as also change in control of the management of the company was approved. The information that M s. Ramayana Promoters Pvt. Ltd. was taking over the Company became public only on August 7, 2009. I note that SIPL confirmed that no trading window was introduced during the above public announcement vide its letter dated April 04, 2010. Further, no separate letter was issued to the Board members instructing them of the commencement for the closing of the trading window and SIPL had left its trading window open during period of public announcement (ten days before and two days after the public announcement) in contravention to the Code of Conduct for prevention of insider trading followed by SIPL. It is an admitted fact that mere circulation of code of conduct to all the Board members during March end does No tantamount to a communication that the trading window had to be closed before the public announcement.  A formal communication indicating the trading window to be closed ought to have been made before the public announcement by the Compliance Officer. \"\n",
    "summ = \"SEBI has conducted investigation into alleged irregularity in the shares of Shelter Infra Projects Ltd., formerly known as CCAP Ltd. Investigation revealed that the Board of Directors of SIPL approved a Shares Purchase Agreement in 2009. No trading window was introduced during the public announcement of the agreement.\""
   ]
  },
  {
   "cell_type": "code",
   "execution_count": 34,
   "metadata": {},
   "outputs": [
    {
     "name": "stdout",
     "output_type": "stream",
     "text": [
      "Semantic similarity tensor([[0.8094]])\n"
     ]
    }
   ],
   "source": [
    "source_sbert = model.encode(source, convert_to_tensor=True)\n",
    "summ_sbert = model.encode(summ, convert_to_tensor=True)\n",
    "print(\"Semantic similarity\", util.cos_sim(source_sbert, summ_sbert))\n",
    "source_sbert = np.array(source_sbert.cpu())\n",
    "summ_sbert = np.array(summ_sbert.cpu())"
   ]
  },
  {
   "cell_type": "code",
   "execution_count": 35,
   "metadata": {},
   "outputs": [
    {
     "name": "stderr",
     "output_type": "stream",
     "text": [
      "[nltk_data] Downloading package punkt to\n",
      "[nltk_data]     C:\\Users\\e_sai\\AppData\\Roaming\\nltk_data...\n",
      "[nltk_data]   Unzipping tokenizers\\punkt.zip.\n"
     ]
    }
   ],
   "source": [
    "import nltk\n",
    "nltk.download('punkt')\n",
    "from nltk.tokenize import word_tokenize"
   ]
  },
  {
   "cell_type": "code",
   "execution_count": 36,
   "metadata": {},
   "outputs": [
    {
     "name": "stdout",
     "output_type": "stream",
     "text": [
      "51 620\n",
      "Compression 0.08225806451612903\n"
     ]
    }
   ],
   "source": [
    "source_tokens = word_tokenize(source)\n",
    "summ_tokens = word_tokenize(summ)\n",
    "print(len(summ_tokens), len(source_tokens))\n",
    "print(\"Compression\", len(summ_tokens)/len(source_tokens))"
   ]
  },
  {
   "cell_type": "code",
   "execution_count": 45,
   "metadata": {},
   "outputs": [
    {
     "name": "stdout",
     "output_type": "stream",
     "text": [
      "3 Redundancy tensor(0.2783)\n"
     ]
    }
   ],
   "source": [
    "import re\n",
    "summ = summ.replace(u'\\xa0', u' ')\n",
    "summ = re.sub(\" +\", \" \", summ)\n",
    "summ = re.sub(\" Rs\\. \", \" Rs.\", summ)\n",
    "summ = re.sub(\" rs\\. \", \" rs.\", summ)\n",
    "summlist = summ.split(\". \")\n",
    "\n",
    "count = 0\n",
    "sum = 0\n",
    "for ind1, i in enumerate(summlist):\n",
    "  for ind2, j in enumerate(summlist[ind1+1:]):\n",
    "    sbert_i = model.encode(i, convert_to_tensor=True)\n",
    "    sbert_j = model.encode(j, convert_to_tensor=True)\n",
    "    count+=1\n",
    "    sum+=util.cos_sim(sbert_i, sbert_j)[0][0]\n",
    "\n",
    "print(count, \"Redundancy\", sum/count)"
   ]
  },
  {
   "cell_type": "code",
   "execution_count": 55,
   "metadata": {},
   "outputs": [
    {
     "name": "stdout",
     "output_type": "stream",
     "text": [
      "1.0000889005818406e-12\n"
     ]
    }
   ],
   "source": [
    "id2word = corpora.Dictionary([source_tokens])\n",
    "corpus = [id2word.doc2bow(text) for text in [source_tokens]]\n",
    "cm = CoherenceModel(topics=[source_tokens, summ_tokens], corpus=corpus, dictionary=id2word, coherence='u_mass')\n",
    "coherence = cm.get_coherence()\n",
    "print(coherence)"
   ]
  },
  {
   "cell_type": "code",
   "execution_count": 38,
   "metadata": {},
   "outputs": [
    {
     "ename": "KeyError",
     "evalue": "'Securities'",
     "output_type": "error",
     "traceback": [
      "\u001b[1;31m---------------------------------------------------------------------------\u001b[0m",
      "\u001b[1;31mKeyError\u001b[0m                                  Traceback (most recent call last)",
      "\u001b[1;32md:\\miniconda3\\lib\\site-packages\\gensim\\models\\coherencemodel.py\u001b[0m in \u001b[0;36m_ensure_elements_are_ids\u001b[1;34m(self, topic)\u001b[0m\n\u001b[0;32m    447\u001b[0m         \u001b[1;32mtry\u001b[0m\u001b[1;33m:\u001b[0m\u001b[1;33m\u001b[0m\u001b[1;33m\u001b[0m\u001b[0m\n\u001b[1;32m--> 448\u001b[1;33m             \u001b[1;32mreturn\u001b[0m \u001b[0mnp\u001b[0m\u001b[1;33m.\u001b[0m\u001b[0marray\u001b[0m\u001b[1;33m(\u001b[0m\u001b[1;33m[\u001b[0m\u001b[0mself\u001b[0m\u001b[1;33m.\u001b[0m\u001b[0mdictionary\u001b[0m\u001b[1;33m.\u001b[0m\u001b[0mtoken2id\u001b[0m\u001b[1;33m[\u001b[0m\u001b[0mtoken\u001b[0m\u001b[1;33m]\u001b[0m \u001b[1;32mfor\u001b[0m \u001b[0mtoken\u001b[0m \u001b[1;32min\u001b[0m \u001b[0mtopic\u001b[0m\u001b[1;33m]\u001b[0m\u001b[1;33m)\u001b[0m\u001b[1;33m\u001b[0m\u001b[1;33m\u001b[0m\u001b[0m\n\u001b[0m\u001b[0;32m    449\u001b[0m         \u001b[1;32mexcept\u001b[0m \u001b[0mKeyError\u001b[0m\u001b[1;33m:\u001b[0m  \u001b[1;31m# might be a list of token ids already, but let's verify all in dict\u001b[0m\u001b[1;33m\u001b[0m\u001b[1;33m\u001b[0m\u001b[0m\n",
      "\u001b[1;32md:\\miniconda3\\lib\\site-packages\\gensim\\models\\coherencemodel.py\u001b[0m in \u001b[0;36m<listcomp>\u001b[1;34m(.0)\u001b[0m\n\u001b[0;32m    447\u001b[0m         \u001b[1;32mtry\u001b[0m\u001b[1;33m:\u001b[0m\u001b[1;33m\u001b[0m\u001b[1;33m\u001b[0m\u001b[0m\n\u001b[1;32m--> 448\u001b[1;33m             \u001b[1;32mreturn\u001b[0m \u001b[0mnp\u001b[0m\u001b[1;33m.\u001b[0m\u001b[0marray\u001b[0m\u001b[1;33m(\u001b[0m\u001b[1;33m[\u001b[0m\u001b[0mself\u001b[0m\u001b[1;33m.\u001b[0m\u001b[0mdictionary\u001b[0m\u001b[1;33m.\u001b[0m\u001b[0mtoken2id\u001b[0m\u001b[1;33m[\u001b[0m\u001b[0mtoken\u001b[0m\u001b[1;33m]\u001b[0m \u001b[1;32mfor\u001b[0m \u001b[0mtoken\u001b[0m \u001b[1;32min\u001b[0m \u001b[0mtopic\u001b[0m\u001b[1;33m]\u001b[0m\u001b[1;33m)\u001b[0m\u001b[1;33m\u001b[0m\u001b[1;33m\u001b[0m\u001b[0m\n\u001b[0m\u001b[0;32m    449\u001b[0m         \u001b[1;32mexcept\u001b[0m \u001b[0mKeyError\u001b[0m\u001b[1;33m:\u001b[0m  \u001b[1;31m# might be a list of token ids already, but let's verify all in dict\u001b[0m\u001b[1;33m\u001b[0m\u001b[1;33m\u001b[0m\u001b[0m\n",
      "\u001b[1;31mKeyError\u001b[0m: 'Securities'",
      "\nDuring handling of the above exception, another exception occurred:\n",
      "\u001b[1;31mKeyError\u001b[0m                                  Traceback (most recent call last)",
      "\u001b[1;32m<ipython-input-38-dd73ce9a25a0>\u001b[0m in \u001b[0;36m<module>\u001b[1;34m\u001b[0m\n\u001b[1;32m----> 1\u001b[1;33m \u001b[0mcm\u001b[0m \u001b[1;33m=\u001b[0m \u001b[0mCoherenceModel\u001b[0m\u001b[1;33m(\u001b[0m\u001b[0mtopics\u001b[0m\u001b[1;33m=\u001b[0m\u001b[1;33m[\u001b[0m\u001b[0msource_tokens\u001b[0m\u001b[1;33m,\u001b[0m \u001b[0msumm_tokens\u001b[0m\u001b[1;33m[\u001b[0m\u001b[1;33m:\u001b[0m\u001b[1;36m512\u001b[0m\u001b[1;33m]\u001b[0m\u001b[1;33m]\u001b[0m\u001b[1;33m,\u001b[0m \u001b[0mcorpus\u001b[0m\u001b[1;33m=\u001b[0m\u001b[0mcommon_corpus\u001b[0m\u001b[1;33m,\u001b[0m \u001b[0mdictionary\u001b[0m\u001b[1;33m=\u001b[0m\u001b[0mcommon_dictionary\u001b[0m\u001b[1;33m,\u001b[0m \u001b[0mcoherence\u001b[0m\u001b[1;33m=\u001b[0m\u001b[1;34m'u_mass'\u001b[0m\u001b[1;33m)\u001b[0m\u001b[1;33m\u001b[0m\u001b[1;33m\u001b[0m\u001b[0m\n\u001b[0m\u001b[0;32m      2\u001b[0m \u001b[0mcoherence\u001b[0m \u001b[1;33m=\u001b[0m \u001b[0mcm\u001b[0m\u001b[1;33m.\u001b[0m\u001b[0mget_coherence\u001b[0m\u001b[1;33m(\u001b[0m\u001b[1;33m)\u001b[0m\u001b[1;33m\u001b[0m\u001b[1;33m\u001b[0m\u001b[0m\n",
      "\u001b[1;32md:\\miniconda3\\lib\\site-packages\\gensim\\models\\coherencemodel.py\u001b[0m in \u001b[0;36m__init__\u001b[1;34m(self, model, topics, texts, corpus, dictionary, window_size, keyed_vectors, coherence, topn, processes)\u001b[0m\n\u001b[0;32m    213\u001b[0m         \u001b[0mself\u001b[0m\u001b[1;33m.\u001b[0m\u001b[0m_accumulator\u001b[0m \u001b[1;33m=\u001b[0m \u001b[1;32mNone\u001b[0m\u001b[1;33m\u001b[0m\u001b[1;33m\u001b[0m\u001b[0m\n\u001b[0;32m    214\u001b[0m         \u001b[0mself\u001b[0m\u001b[1;33m.\u001b[0m\u001b[0m_topics\u001b[0m \u001b[1;33m=\u001b[0m \u001b[1;32mNone\u001b[0m\u001b[1;33m\u001b[0m\u001b[1;33m\u001b[0m\u001b[0m\n\u001b[1;32m--> 215\u001b[1;33m         \u001b[0mself\u001b[0m\u001b[1;33m.\u001b[0m\u001b[0mtopics\u001b[0m \u001b[1;33m=\u001b[0m \u001b[0mtopics\u001b[0m\u001b[1;33m\u001b[0m\u001b[1;33m\u001b[0m\u001b[0m\n\u001b[0m\u001b[0;32m    216\u001b[0m \u001b[1;33m\u001b[0m\u001b[0m\n\u001b[0;32m    217\u001b[0m         \u001b[0mself\u001b[0m\u001b[1;33m.\u001b[0m\u001b[0mprocesses\u001b[0m \u001b[1;33m=\u001b[0m \u001b[0mprocesses\u001b[0m \u001b[1;32mif\u001b[0m \u001b[0mprocesses\u001b[0m \u001b[1;33m>=\u001b[0m \u001b[1;36m1\u001b[0m \u001b[1;32melse\u001b[0m \u001b[0mmax\u001b[0m\u001b[1;33m(\u001b[0m\u001b[1;36m1\u001b[0m\u001b[1;33m,\u001b[0m \u001b[0mmp\u001b[0m\u001b[1;33m.\u001b[0m\u001b[0mcpu_count\u001b[0m\u001b[1;33m(\u001b[0m\u001b[1;33m)\u001b[0m \u001b[1;33m-\u001b[0m \u001b[1;36m1\u001b[0m\u001b[1;33m)\u001b[0m\u001b[1;33m\u001b[0m\u001b[1;33m\u001b[0m\u001b[0m\n",
      "\u001b[1;32md:\\miniconda3\\lib\\site-packages\\gensim\\models\\coherencemodel.py\u001b[0m in \u001b[0;36mtopics\u001b[1;34m(self, topics)\u001b[0m\n\u001b[0;32m    428\u001b[0m             \u001b[0mnew_topics\u001b[0m \u001b[1;33m=\u001b[0m \u001b[1;33m[\u001b[0m\u001b[1;33m]\u001b[0m\u001b[1;33m\u001b[0m\u001b[1;33m\u001b[0m\u001b[0m\n\u001b[0;32m    429\u001b[0m             \u001b[1;32mfor\u001b[0m \u001b[0mtopic\u001b[0m \u001b[1;32min\u001b[0m \u001b[0mtopics\u001b[0m\u001b[1;33m:\u001b[0m\u001b[1;33m\u001b[0m\u001b[1;33m\u001b[0m\u001b[0m\n\u001b[1;32m--> 430\u001b[1;33m                 \u001b[0mtopic_token_ids\u001b[0m \u001b[1;33m=\u001b[0m \u001b[0mself\u001b[0m\u001b[1;33m.\u001b[0m\u001b[0m_ensure_elements_are_ids\u001b[0m\u001b[1;33m(\u001b[0m\u001b[0mtopic\u001b[0m\u001b[1;33m)\u001b[0m\u001b[1;33m\u001b[0m\u001b[1;33m\u001b[0m\u001b[0m\n\u001b[0m\u001b[0;32m    431\u001b[0m                 \u001b[0mnew_topics\u001b[0m\u001b[1;33m.\u001b[0m\u001b[0mappend\u001b[0m\u001b[1;33m(\u001b[0m\u001b[0mtopic_token_ids\u001b[0m\u001b[1;33m)\u001b[0m\u001b[1;33m\u001b[0m\u001b[1;33m\u001b[0m\u001b[0m\n\u001b[0;32m    432\u001b[0m \u001b[1;33m\u001b[0m\u001b[0m\n",
      "\u001b[1;32md:\\miniconda3\\lib\\site-packages\\gensim\\models\\coherencemodel.py\u001b[0m in \u001b[0;36m_ensure_elements_are_ids\u001b[1;34m(self, topic)\u001b[0m\n\u001b[0;32m    449\u001b[0m         \u001b[1;32mexcept\u001b[0m \u001b[0mKeyError\u001b[0m\u001b[1;33m:\u001b[0m  \u001b[1;31m# might be a list of token ids already, but let's verify all in dict\u001b[0m\u001b[1;33m\u001b[0m\u001b[1;33m\u001b[0m\u001b[0m\n\u001b[0;32m    450\u001b[0m             \u001b[0mtopic\u001b[0m \u001b[1;33m=\u001b[0m \u001b[1;33m(\u001b[0m\u001b[0mself\u001b[0m\u001b[1;33m.\u001b[0m\u001b[0mdictionary\u001b[0m\u001b[1;33m.\u001b[0m\u001b[0mid2token\u001b[0m\u001b[1;33m[\u001b[0m\u001b[0m_id\u001b[0m\u001b[1;33m]\u001b[0m \u001b[1;32mfor\u001b[0m \u001b[0m_id\u001b[0m \u001b[1;32min\u001b[0m \u001b[0mtopic\u001b[0m\u001b[1;33m)\u001b[0m\u001b[1;33m\u001b[0m\u001b[1;33m\u001b[0m\u001b[0m\n\u001b[1;32m--> 451\u001b[1;33m             \u001b[1;32mreturn\u001b[0m \u001b[0mnp\u001b[0m\u001b[1;33m.\u001b[0m\u001b[0marray\u001b[0m\u001b[1;33m(\u001b[0m\u001b[1;33m[\u001b[0m\u001b[0mself\u001b[0m\u001b[1;33m.\u001b[0m\u001b[0mdictionary\u001b[0m\u001b[1;33m.\u001b[0m\u001b[0mtoken2id\u001b[0m\u001b[1;33m[\u001b[0m\u001b[0mtoken\u001b[0m\u001b[1;33m]\u001b[0m \u001b[1;32mfor\u001b[0m \u001b[0mtoken\u001b[0m \u001b[1;32min\u001b[0m \u001b[0mtopic\u001b[0m\u001b[1;33m]\u001b[0m\u001b[1;33m)\u001b[0m\u001b[1;33m\u001b[0m\u001b[1;33m\u001b[0m\u001b[0m\n\u001b[0m\u001b[0;32m    452\u001b[0m \u001b[1;33m\u001b[0m\u001b[0m\n\u001b[0;32m    453\u001b[0m     \u001b[1;32mdef\u001b[0m \u001b[0m_update_accumulator\u001b[0m\u001b[1;33m(\u001b[0m\u001b[0mself\u001b[0m\u001b[1;33m,\u001b[0m \u001b[0mnew_topics\u001b[0m\u001b[1;33m)\u001b[0m\u001b[1;33m:\u001b[0m\u001b[1;33m\u001b[0m\u001b[1;33m\u001b[0m\u001b[0m\n",
      "\u001b[1;32md:\\miniconda3\\lib\\site-packages\\gensim\\models\\coherencemodel.py\u001b[0m in \u001b[0;36m<listcomp>\u001b[1;34m(.0)\u001b[0m\n\u001b[0;32m    449\u001b[0m         \u001b[1;32mexcept\u001b[0m \u001b[0mKeyError\u001b[0m\u001b[1;33m:\u001b[0m  \u001b[1;31m# might be a list of token ids already, but let's verify all in dict\u001b[0m\u001b[1;33m\u001b[0m\u001b[1;33m\u001b[0m\u001b[0m\n\u001b[0;32m    450\u001b[0m             \u001b[0mtopic\u001b[0m \u001b[1;33m=\u001b[0m \u001b[1;33m(\u001b[0m\u001b[0mself\u001b[0m\u001b[1;33m.\u001b[0m\u001b[0mdictionary\u001b[0m\u001b[1;33m.\u001b[0m\u001b[0mid2token\u001b[0m\u001b[1;33m[\u001b[0m\u001b[0m_id\u001b[0m\u001b[1;33m]\u001b[0m \u001b[1;32mfor\u001b[0m \u001b[0m_id\u001b[0m \u001b[1;32min\u001b[0m \u001b[0mtopic\u001b[0m\u001b[1;33m)\u001b[0m\u001b[1;33m\u001b[0m\u001b[1;33m\u001b[0m\u001b[0m\n\u001b[1;32m--> 451\u001b[1;33m             \u001b[1;32mreturn\u001b[0m \u001b[0mnp\u001b[0m\u001b[1;33m.\u001b[0m\u001b[0marray\u001b[0m\u001b[1;33m(\u001b[0m\u001b[1;33m[\u001b[0m\u001b[0mself\u001b[0m\u001b[1;33m.\u001b[0m\u001b[0mdictionary\u001b[0m\u001b[1;33m.\u001b[0m\u001b[0mtoken2id\u001b[0m\u001b[1;33m[\u001b[0m\u001b[0mtoken\u001b[0m\u001b[1;33m]\u001b[0m \u001b[1;32mfor\u001b[0m \u001b[0mtoken\u001b[0m \u001b[1;32min\u001b[0m \u001b[0mtopic\u001b[0m\u001b[1;33m]\u001b[0m\u001b[1;33m)\u001b[0m\u001b[1;33m\u001b[0m\u001b[1;33m\u001b[0m\u001b[0m\n\u001b[0m\u001b[0;32m    452\u001b[0m \u001b[1;33m\u001b[0m\u001b[0m\n\u001b[0;32m    453\u001b[0m     \u001b[1;32mdef\u001b[0m \u001b[0m_update_accumulator\u001b[0m\u001b[1;33m(\u001b[0m\u001b[0mself\u001b[0m\u001b[1;33m,\u001b[0m \u001b[0mnew_topics\u001b[0m\u001b[1;33m)\u001b[0m\u001b[1;33m:\u001b[0m\u001b[1;33m\u001b[0m\u001b[1;33m\u001b[0m\u001b[0m\n",
      "\u001b[1;32md:\\miniconda3\\lib\\site-packages\\gensim\\models\\coherencemodel.py\u001b[0m in \u001b[0;36m<genexpr>\u001b[1;34m(.0)\u001b[0m\n\u001b[0;32m    448\u001b[0m             \u001b[1;32mreturn\u001b[0m \u001b[0mnp\u001b[0m\u001b[1;33m.\u001b[0m\u001b[0marray\u001b[0m\u001b[1;33m(\u001b[0m\u001b[1;33m[\u001b[0m\u001b[0mself\u001b[0m\u001b[1;33m.\u001b[0m\u001b[0mdictionary\u001b[0m\u001b[1;33m.\u001b[0m\u001b[0mtoken2id\u001b[0m\u001b[1;33m[\u001b[0m\u001b[0mtoken\u001b[0m\u001b[1;33m]\u001b[0m \u001b[1;32mfor\u001b[0m \u001b[0mtoken\u001b[0m \u001b[1;32min\u001b[0m \u001b[0mtopic\u001b[0m\u001b[1;33m]\u001b[0m\u001b[1;33m)\u001b[0m\u001b[1;33m\u001b[0m\u001b[1;33m\u001b[0m\u001b[0m\n\u001b[0;32m    449\u001b[0m         \u001b[1;32mexcept\u001b[0m \u001b[0mKeyError\u001b[0m\u001b[1;33m:\u001b[0m  \u001b[1;31m# might be a list of token ids already, but let's verify all in dict\u001b[0m\u001b[1;33m\u001b[0m\u001b[1;33m\u001b[0m\u001b[0m\n\u001b[1;32m--> 450\u001b[1;33m             \u001b[0mtopic\u001b[0m \u001b[1;33m=\u001b[0m \u001b[1;33m(\u001b[0m\u001b[0mself\u001b[0m\u001b[1;33m.\u001b[0m\u001b[0mdictionary\u001b[0m\u001b[1;33m.\u001b[0m\u001b[0mid2token\u001b[0m\u001b[1;33m[\u001b[0m\u001b[0m_id\u001b[0m\u001b[1;33m]\u001b[0m \u001b[1;32mfor\u001b[0m \u001b[0m_id\u001b[0m \u001b[1;32min\u001b[0m \u001b[0mtopic\u001b[0m\u001b[1;33m)\u001b[0m\u001b[1;33m\u001b[0m\u001b[1;33m\u001b[0m\u001b[0m\n\u001b[0m\u001b[0;32m    451\u001b[0m             \u001b[1;32mreturn\u001b[0m \u001b[0mnp\u001b[0m\u001b[1;33m.\u001b[0m\u001b[0marray\u001b[0m\u001b[1;33m(\u001b[0m\u001b[1;33m[\u001b[0m\u001b[0mself\u001b[0m\u001b[1;33m.\u001b[0m\u001b[0mdictionary\u001b[0m\u001b[1;33m.\u001b[0m\u001b[0mtoken2id\u001b[0m\u001b[1;33m[\u001b[0m\u001b[0mtoken\u001b[0m\u001b[1;33m]\u001b[0m \u001b[1;32mfor\u001b[0m \u001b[0mtoken\u001b[0m \u001b[1;32min\u001b[0m \u001b[0mtopic\u001b[0m\u001b[1;33m]\u001b[0m\u001b[1;33m)\u001b[0m\u001b[1;33m\u001b[0m\u001b[1;33m\u001b[0m\u001b[0m\n\u001b[0;32m    452\u001b[0m \u001b[1;33m\u001b[0m\u001b[0m\n",
      "\u001b[1;31mKeyError\u001b[0m: 'Securities'"
     ]
    }
   ],
   "source": [
    "cm = CoherenceModel(topics=[source_tokens, summ_tokens[:512]], corpus=common_corpus, dictionary=common_dictionary, coherence='u_mass')\n",
    "coherence = cm.get_coherence()"
   ]
  },
  {
   "cell_type": "code",
   "execution_count": 29,
   "metadata": {},
   "outputs": [
    {
     "name": "stderr",
     "output_type": "stream",
     "text": [
      "100%|██████████| 2990/2990 [00:12<00:00, 235.79it/s]\n"
     ]
    }
   ],
   "source": [
    "for i in tqdm(os.listdir(\"./annot/\")):\n",
    "    if i[-4:]==\".csv\":\n",
    "        data = pd.read_csv(\"./annot/\"+i)\n",
    "        investor = '\\n'.join(data[data['Label'].isin(['material fact', 'penalty'])]['Sentence'].tolist())\n",
    "        defense = '\\n'.join(data[data['Label'].isin(['material fact', 'defendant claim', 'issues framed'])]['Sentence'].tolist())\n",
    "        ao = '\\n'.join(data[data['Label'].isin(['material fact', 'rel fact', 'penalty'])]['Sentence'].tolist())\n",
    "        investor = re.sub(\" +\", \" \", investor)\n",
    "        defense = re.sub(\" +\", \" \", defense)\n",
    "        ao = re.sub(\" +\", \" \", ao)\n",
    "        with open(\"./gen_data/investor/\"+i[:-4]+\"_investor.txt\", \"w+\", encoding=\"utf-8\") as f:\n",
    "            f.write(investor)\n",
    "            f.close()\n",
    "        with open(\"./gen_data/defense/\"+i[:-4]+\"_defense.txt\", \"w+\", encoding=\"utf-8\") as f:\n",
    "            f.write(defense)\n",
    "            f.close()\n",
    "        with open(\"./gen_data/ao/\"+i[:-4]+\"_ao.txt\", \"w+\", encoding=\"utf-8\") as f:\n",
    "            f.write(ao)\n",
    "            f.close()"
   ]
  }
 ],
 "metadata": {
  "kernelspec": {
   "display_name": "Python 3.8.5 ('base')",
   "language": "python",
   "name": "python3"
  },
  "language_info": {
   "codemirror_mode": {
    "name": "ipython",
    "version": 3
   },
   "file_extension": ".py",
   "mimetype": "text/x-python",
   "name": "python",
   "nbconvert_exporter": "python",
   "pygments_lexer": "ipython3",
   "version": "3.8.5"
  },
  "orig_nbformat": 4,
  "vscode": {
   "interpreter": {
    "hash": "af8259ad5c1c9c7a69bd6ea085234cf8fd3a6a37a71ca551828b314c4d89b0ad"
   }
  }
 },
 "nbformat": 4,
 "nbformat_minor": 2
}
